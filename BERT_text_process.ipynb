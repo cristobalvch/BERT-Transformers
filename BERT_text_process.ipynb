{
  "nbformat": 4,
  "nbformat_minor": 0,
  "metadata": {
    "colab": {
      "name": "BERT-text-process.ipynb",
      "provenance": [],
      "collapsed_sections": [],
      "authorship_tag": "ABX9TyOcsWrBuWswIEbgyHp0Fj5k",
      "include_colab_link": true
    },
    "kernelspec": {
      "name": "python3",
      "display_name": "Python 3"
    },
    "accelerator": "GPU",
    "widgets": {
      "application/vnd.jupyter.widget-state+json": {
        "da9f0b3eebb94f77a26ce45e03e76ac3": {
          "model_module": "@jupyter-widgets/controls",
          "model_name": "HBoxModel",
          "state": {
            "_view_name": "HBoxView",
            "_dom_classes": [],
            "_model_name": "HBoxModel",
            "_view_module": "@jupyter-widgets/controls",
            "_model_module_version": "1.5.0",
            "_view_count": null,
            "_view_module_version": "1.5.0",
            "box_style": "",
            "layout": "IPY_MODEL_584ee1da4d9843fa9ba172b5bb0217dd",
            "_model_module": "@jupyter-widgets/controls",
            "children": [
              "IPY_MODEL_7bb0f7defac847f2891acfda025aee09",
              "IPY_MODEL_a0a2bc81a53c41f082328fb8ea3c40c0"
            ]
          }
        },
        "584ee1da4d9843fa9ba172b5bb0217dd": {
          "model_module": "@jupyter-widgets/base",
          "model_name": "LayoutModel",
          "state": {
            "_view_name": "LayoutView",
            "grid_template_rows": null,
            "right": null,
            "justify_content": null,
            "_view_module": "@jupyter-widgets/base",
            "overflow": null,
            "_model_module_version": "1.2.0",
            "_view_count": null,
            "flex_flow": null,
            "width": null,
            "min_width": null,
            "border": null,
            "align_items": null,
            "bottom": null,
            "_model_module": "@jupyter-widgets/base",
            "top": null,
            "grid_column": null,
            "overflow_y": null,
            "overflow_x": null,
            "grid_auto_flow": null,
            "grid_area": null,
            "grid_template_columns": null,
            "flex": null,
            "_model_name": "LayoutModel",
            "justify_items": null,
            "grid_row": null,
            "max_height": null,
            "align_content": null,
            "visibility": null,
            "align_self": null,
            "height": null,
            "min_height": null,
            "padding": null,
            "grid_auto_rows": null,
            "grid_gap": null,
            "max_width": null,
            "order": null,
            "_view_module_version": "1.2.0",
            "grid_template_areas": null,
            "object_position": null,
            "object_fit": null,
            "grid_auto_columns": null,
            "margin": null,
            "display": null,
            "left": null
          }
        },
        "7bb0f7defac847f2891acfda025aee09": {
          "model_module": "@jupyter-widgets/controls",
          "model_name": "FloatProgressModel",
          "state": {
            "_view_name": "ProgressView",
            "style": "IPY_MODEL_9be36fd88a8346269c72a3b55aba1d5b",
            "_dom_classes": [],
            "description": "Downloading: 100%",
            "_model_name": "FloatProgressModel",
            "bar_style": "success",
            "max": 465,
            "_view_module": "@jupyter-widgets/controls",
            "_model_module_version": "1.5.0",
            "value": 465,
            "_view_count": null,
            "_view_module_version": "1.5.0",
            "orientation": "horizontal",
            "min": 0,
            "description_tooltip": null,
            "_model_module": "@jupyter-widgets/controls",
            "layout": "IPY_MODEL_7fc71fbe1d4346ce8ecc46530144b161"
          }
        },
        "a0a2bc81a53c41f082328fb8ea3c40c0": {
          "model_module": "@jupyter-widgets/controls",
          "model_name": "HTMLModel",
          "state": {
            "_view_name": "HTMLView",
            "style": "IPY_MODEL_62036e877add4428b08be1a3ef5acaea",
            "_dom_classes": [],
            "description": "",
            "_model_name": "HTMLModel",
            "placeholder": "​",
            "_view_module": "@jupyter-widgets/controls",
            "_model_module_version": "1.5.0",
            "value": " 465/465 [00:03&lt;00:00, 133B/s]",
            "_view_count": null,
            "_view_module_version": "1.5.0",
            "description_tooltip": null,
            "_model_module": "@jupyter-widgets/controls",
            "layout": "IPY_MODEL_d560d79cc177496c9818098c0bdc4d39"
          }
        },
        "9be36fd88a8346269c72a3b55aba1d5b": {
          "model_module": "@jupyter-widgets/controls",
          "model_name": "ProgressStyleModel",
          "state": {
            "_view_name": "StyleView",
            "_model_name": "ProgressStyleModel",
            "description_width": "initial",
            "_view_module": "@jupyter-widgets/base",
            "_model_module_version": "1.5.0",
            "_view_count": null,
            "_view_module_version": "1.2.0",
            "bar_color": null,
            "_model_module": "@jupyter-widgets/controls"
          }
        },
        "7fc71fbe1d4346ce8ecc46530144b161": {
          "model_module": "@jupyter-widgets/base",
          "model_name": "LayoutModel",
          "state": {
            "_view_name": "LayoutView",
            "grid_template_rows": null,
            "right": null,
            "justify_content": null,
            "_view_module": "@jupyter-widgets/base",
            "overflow": null,
            "_model_module_version": "1.2.0",
            "_view_count": null,
            "flex_flow": null,
            "width": null,
            "min_width": null,
            "border": null,
            "align_items": null,
            "bottom": null,
            "_model_module": "@jupyter-widgets/base",
            "top": null,
            "grid_column": null,
            "overflow_y": null,
            "overflow_x": null,
            "grid_auto_flow": null,
            "grid_area": null,
            "grid_template_columns": null,
            "flex": null,
            "_model_name": "LayoutModel",
            "justify_items": null,
            "grid_row": null,
            "max_height": null,
            "align_content": null,
            "visibility": null,
            "align_self": null,
            "height": null,
            "min_height": null,
            "padding": null,
            "grid_auto_rows": null,
            "grid_gap": null,
            "max_width": null,
            "order": null,
            "_view_module_version": "1.2.0",
            "grid_template_areas": null,
            "object_position": null,
            "object_fit": null,
            "grid_auto_columns": null,
            "margin": null,
            "display": null,
            "left": null
          }
        },
        "62036e877add4428b08be1a3ef5acaea": {
          "model_module": "@jupyter-widgets/controls",
          "model_name": "DescriptionStyleModel",
          "state": {
            "_view_name": "StyleView",
            "_model_name": "DescriptionStyleModel",
            "description_width": "",
            "_view_module": "@jupyter-widgets/base",
            "_model_module_version": "1.5.0",
            "_view_count": null,
            "_view_module_version": "1.2.0",
            "_model_module": "@jupyter-widgets/controls"
          }
        },
        "d560d79cc177496c9818098c0bdc4d39": {
          "model_module": "@jupyter-widgets/base",
          "model_name": "LayoutModel",
          "state": {
            "_view_name": "LayoutView",
            "grid_template_rows": null,
            "right": null,
            "justify_content": null,
            "_view_module": "@jupyter-widgets/base",
            "overflow": null,
            "_model_module_version": "1.2.0",
            "_view_count": null,
            "flex_flow": null,
            "width": null,
            "min_width": null,
            "border": null,
            "align_items": null,
            "bottom": null,
            "_model_module": "@jupyter-widgets/base",
            "top": null,
            "grid_column": null,
            "overflow_y": null,
            "overflow_x": null,
            "grid_auto_flow": null,
            "grid_area": null,
            "grid_template_columns": null,
            "flex": null,
            "_model_name": "LayoutModel",
            "justify_items": null,
            "grid_row": null,
            "max_height": null,
            "align_content": null,
            "visibility": null,
            "align_self": null,
            "height": null,
            "min_height": null,
            "padding": null,
            "grid_auto_rows": null,
            "grid_gap": null,
            "max_width": null,
            "order": null,
            "_view_module_version": "1.2.0",
            "grid_template_areas": null,
            "object_position": null,
            "object_fit": null,
            "grid_auto_columns": null,
            "margin": null,
            "display": null,
            "left": null
          }
        },
        "20a7a152160b478fb8b4a2c3591e6c5d": {
          "model_module": "@jupyter-widgets/controls",
          "model_name": "HBoxModel",
          "state": {
            "_view_name": "HBoxView",
            "_dom_classes": [],
            "_model_name": "HBoxModel",
            "_view_module": "@jupyter-widgets/controls",
            "_model_module_version": "1.5.0",
            "_view_count": null,
            "_view_module_version": "1.5.0",
            "box_style": "",
            "layout": "IPY_MODEL_bdbd4964fbf148549dc672928b575463",
            "_model_module": "@jupyter-widgets/controls",
            "children": [
              "IPY_MODEL_28829ae079b94e82be6abc14a41e0dee",
              "IPY_MODEL_1bb2970cef934aa89595e60bf380d49b"
            ]
          }
        },
        "bdbd4964fbf148549dc672928b575463": {
          "model_module": "@jupyter-widgets/base",
          "model_name": "LayoutModel",
          "state": {
            "_view_name": "LayoutView",
            "grid_template_rows": null,
            "right": null,
            "justify_content": null,
            "_view_module": "@jupyter-widgets/base",
            "overflow": null,
            "_model_module_version": "1.2.0",
            "_view_count": null,
            "flex_flow": null,
            "width": null,
            "min_width": null,
            "border": null,
            "align_items": null,
            "bottom": null,
            "_model_module": "@jupyter-widgets/base",
            "top": null,
            "grid_column": null,
            "overflow_y": null,
            "overflow_x": null,
            "grid_auto_flow": null,
            "grid_area": null,
            "grid_template_columns": null,
            "flex": null,
            "_model_name": "LayoutModel",
            "justify_items": null,
            "grid_row": null,
            "max_height": null,
            "align_content": null,
            "visibility": null,
            "align_self": null,
            "height": null,
            "min_height": null,
            "padding": null,
            "grid_auto_rows": null,
            "grid_gap": null,
            "max_width": null,
            "order": null,
            "_view_module_version": "1.2.0",
            "grid_template_areas": null,
            "object_position": null,
            "object_fit": null,
            "grid_auto_columns": null,
            "margin": null,
            "display": null,
            "left": null
          }
        },
        "28829ae079b94e82be6abc14a41e0dee": {
          "model_module": "@jupyter-widgets/controls",
          "model_name": "FloatProgressModel",
          "state": {
            "_view_name": "ProgressView",
            "style": "IPY_MODEL_943b161e679e4d61a2e9aca4f2310d45",
            "_dom_classes": [],
            "description": "Downloading: 100%",
            "_model_name": "FloatProgressModel",
            "bar_style": "success",
            "max": 242349,
            "_view_module": "@jupyter-widgets/controls",
            "_model_module_version": "1.5.0",
            "value": 242349,
            "_view_count": null,
            "_view_module_version": "1.5.0",
            "orientation": "horizontal",
            "min": 0,
            "description_tooltip": null,
            "_model_module": "@jupyter-widgets/controls",
            "layout": "IPY_MODEL_64bef1aa330948fbbe74e97f60db0721"
          }
        },
        "1bb2970cef934aa89595e60bf380d49b": {
          "model_module": "@jupyter-widgets/controls",
          "model_name": "HTMLModel",
          "state": {
            "_view_name": "HTMLView",
            "style": "IPY_MODEL_8d6bfe61b0314f0397ffdd49c3205abe",
            "_dom_classes": [],
            "description": "",
            "_model_name": "HTMLModel",
            "placeholder": "​",
            "_view_module": "@jupyter-widgets/controls",
            "_model_module_version": "1.5.0",
            "value": " 242k/242k [00:02&lt;00:00, 106kB/s]",
            "_view_count": null,
            "_view_module_version": "1.5.0",
            "description_tooltip": null,
            "_model_module": "@jupyter-widgets/controls",
            "layout": "IPY_MODEL_b23358341f9947faa1fb9af6c467e351"
          }
        },
        "943b161e679e4d61a2e9aca4f2310d45": {
          "model_module": "@jupyter-widgets/controls",
          "model_name": "ProgressStyleModel",
          "state": {
            "_view_name": "StyleView",
            "_model_name": "ProgressStyleModel",
            "description_width": "initial",
            "_view_module": "@jupyter-widgets/base",
            "_model_module_version": "1.5.0",
            "_view_count": null,
            "_view_module_version": "1.2.0",
            "bar_color": null,
            "_model_module": "@jupyter-widgets/controls"
          }
        },
        "64bef1aa330948fbbe74e97f60db0721": {
          "model_module": "@jupyter-widgets/base",
          "model_name": "LayoutModel",
          "state": {
            "_view_name": "LayoutView",
            "grid_template_rows": null,
            "right": null,
            "justify_content": null,
            "_view_module": "@jupyter-widgets/base",
            "overflow": null,
            "_model_module_version": "1.2.0",
            "_view_count": null,
            "flex_flow": null,
            "width": null,
            "min_width": null,
            "border": null,
            "align_items": null,
            "bottom": null,
            "_model_module": "@jupyter-widgets/base",
            "top": null,
            "grid_column": null,
            "overflow_y": null,
            "overflow_x": null,
            "grid_auto_flow": null,
            "grid_area": null,
            "grid_template_columns": null,
            "flex": null,
            "_model_name": "LayoutModel",
            "justify_items": null,
            "grid_row": null,
            "max_height": null,
            "align_content": null,
            "visibility": null,
            "align_self": null,
            "height": null,
            "min_height": null,
            "padding": null,
            "grid_auto_rows": null,
            "grid_gap": null,
            "max_width": null,
            "order": null,
            "_view_module_version": "1.2.0",
            "grid_template_areas": null,
            "object_position": null,
            "object_fit": null,
            "grid_auto_columns": null,
            "margin": null,
            "display": null,
            "left": null
          }
        },
        "8d6bfe61b0314f0397ffdd49c3205abe": {
          "model_module": "@jupyter-widgets/controls",
          "model_name": "DescriptionStyleModel",
          "state": {
            "_view_name": "StyleView",
            "_model_name": "DescriptionStyleModel",
            "description_width": "",
            "_view_module": "@jupyter-widgets/base",
            "_model_module_version": "1.5.0",
            "_view_count": null,
            "_view_module_version": "1.2.0",
            "_model_module": "@jupyter-widgets/controls"
          }
        },
        "b23358341f9947faa1fb9af6c467e351": {
          "model_module": "@jupyter-widgets/base",
          "model_name": "LayoutModel",
          "state": {
            "_view_name": "LayoutView",
            "grid_template_rows": null,
            "right": null,
            "justify_content": null,
            "_view_module": "@jupyter-widgets/base",
            "overflow": null,
            "_model_module_version": "1.2.0",
            "_view_count": null,
            "flex_flow": null,
            "width": null,
            "min_width": null,
            "border": null,
            "align_items": null,
            "bottom": null,
            "_model_module": "@jupyter-widgets/base",
            "top": null,
            "grid_column": null,
            "overflow_y": null,
            "overflow_x": null,
            "grid_auto_flow": null,
            "grid_area": null,
            "grid_template_columns": null,
            "flex": null,
            "_model_name": "LayoutModel",
            "justify_items": null,
            "grid_row": null,
            "max_height": null,
            "align_content": null,
            "visibility": null,
            "align_self": null,
            "height": null,
            "min_height": null,
            "padding": null,
            "grid_auto_rows": null,
            "grid_gap": null,
            "max_width": null,
            "order": null,
            "_view_module_version": "1.2.0",
            "grid_template_areas": null,
            "object_position": null,
            "object_fit": null,
            "grid_auto_columns": null,
            "margin": null,
            "display": null,
            "left": null
          }
        },
        "e3e1bd1692f348fd92d75ff4d6b037ce": {
          "model_module": "@jupyter-widgets/controls",
          "model_name": "HBoxModel",
          "state": {
            "_view_name": "HBoxView",
            "_dom_classes": [],
            "_model_name": "HBoxModel",
            "_view_module": "@jupyter-widgets/controls",
            "_model_module_version": "1.5.0",
            "_view_count": null,
            "_view_module_version": "1.5.0",
            "box_style": "",
            "layout": "IPY_MODEL_8fc24c5f908340eaac73f82066e4d511",
            "_model_module": "@jupyter-widgets/controls",
            "children": [
              "IPY_MODEL_3a8e30fa084c4c319d21a372d75ca480",
              "IPY_MODEL_772c10bd573642efb87b620acbe03cab"
            ]
          }
        },
        "8fc24c5f908340eaac73f82066e4d511": {
          "model_module": "@jupyter-widgets/base",
          "model_name": "LayoutModel",
          "state": {
            "_view_name": "LayoutView",
            "grid_template_rows": null,
            "right": null,
            "justify_content": null,
            "_view_module": "@jupyter-widgets/base",
            "overflow": null,
            "_model_module_version": "1.2.0",
            "_view_count": null,
            "flex_flow": null,
            "width": null,
            "min_width": null,
            "border": null,
            "align_items": null,
            "bottom": null,
            "_model_module": "@jupyter-widgets/base",
            "top": null,
            "grid_column": null,
            "overflow_y": null,
            "overflow_x": null,
            "grid_auto_flow": null,
            "grid_area": null,
            "grid_template_columns": null,
            "flex": null,
            "_model_name": "LayoutModel",
            "justify_items": null,
            "grid_row": null,
            "max_height": null,
            "align_content": null,
            "visibility": null,
            "align_self": null,
            "height": null,
            "min_height": null,
            "padding": null,
            "grid_auto_rows": null,
            "grid_gap": null,
            "max_width": null,
            "order": null,
            "_view_module_version": "1.2.0",
            "grid_template_areas": null,
            "object_position": null,
            "object_fit": null,
            "grid_auto_columns": null,
            "margin": null,
            "display": null,
            "left": null
          }
        },
        "3a8e30fa084c4c319d21a372d75ca480": {
          "model_module": "@jupyter-widgets/controls",
          "model_name": "FloatProgressModel",
          "state": {
            "_view_name": "ProgressView",
            "style": "IPY_MODEL_eed51912fdc2445187f16b0924570cce",
            "_dom_classes": [],
            "description": "Downloading: 100%",
            "_model_name": "FloatProgressModel",
            "bar_style": "success",
            "max": 112,
            "_view_module": "@jupyter-widgets/controls",
            "_model_module_version": "1.5.0",
            "value": 112,
            "_view_count": null,
            "_view_module_version": "1.5.0",
            "orientation": "horizontal",
            "min": 0,
            "description_tooltip": null,
            "_model_module": "@jupyter-widgets/controls",
            "layout": "IPY_MODEL_2e8fff9cfd0b4ee2a2784268e6722744"
          }
        },
        "772c10bd573642efb87b620acbe03cab": {
          "model_module": "@jupyter-widgets/controls",
          "model_name": "HTMLModel",
          "state": {
            "_view_name": "HTMLView",
            "style": "IPY_MODEL_e8e1730f59db4a45b9798bf55889cf40",
            "_dom_classes": [],
            "description": "",
            "_model_name": "HTMLModel",
            "placeholder": "​",
            "_view_module": "@jupyter-widgets/controls",
            "_model_module_version": "1.5.0",
            "value": " 112/112 [00:00&lt;00:00, 137B/s]",
            "_view_count": null,
            "_view_module_version": "1.5.0",
            "description_tooltip": null,
            "_model_module": "@jupyter-widgets/controls",
            "layout": "IPY_MODEL_00317b3719c24c4ea984cd6325ab2ebc"
          }
        },
        "eed51912fdc2445187f16b0924570cce": {
          "model_module": "@jupyter-widgets/controls",
          "model_name": "ProgressStyleModel",
          "state": {
            "_view_name": "StyleView",
            "_model_name": "ProgressStyleModel",
            "description_width": "initial",
            "_view_module": "@jupyter-widgets/base",
            "_model_module_version": "1.5.0",
            "_view_count": null,
            "_view_module_version": "1.2.0",
            "bar_color": null,
            "_model_module": "@jupyter-widgets/controls"
          }
        },
        "2e8fff9cfd0b4ee2a2784268e6722744": {
          "model_module": "@jupyter-widgets/base",
          "model_name": "LayoutModel",
          "state": {
            "_view_name": "LayoutView",
            "grid_template_rows": null,
            "right": null,
            "justify_content": null,
            "_view_module": "@jupyter-widgets/base",
            "overflow": null,
            "_model_module_version": "1.2.0",
            "_view_count": null,
            "flex_flow": null,
            "width": null,
            "min_width": null,
            "border": null,
            "align_items": null,
            "bottom": null,
            "_model_module": "@jupyter-widgets/base",
            "top": null,
            "grid_column": null,
            "overflow_y": null,
            "overflow_x": null,
            "grid_auto_flow": null,
            "grid_area": null,
            "grid_template_columns": null,
            "flex": null,
            "_model_name": "LayoutModel",
            "justify_items": null,
            "grid_row": null,
            "max_height": null,
            "align_content": null,
            "visibility": null,
            "align_self": null,
            "height": null,
            "min_height": null,
            "padding": null,
            "grid_auto_rows": null,
            "grid_gap": null,
            "max_width": null,
            "order": null,
            "_view_module_version": "1.2.0",
            "grid_template_areas": null,
            "object_position": null,
            "object_fit": null,
            "grid_auto_columns": null,
            "margin": null,
            "display": null,
            "left": null
          }
        },
        "e8e1730f59db4a45b9798bf55889cf40": {
          "model_module": "@jupyter-widgets/controls",
          "model_name": "DescriptionStyleModel",
          "state": {
            "_view_name": "StyleView",
            "_model_name": "DescriptionStyleModel",
            "description_width": "",
            "_view_module": "@jupyter-widgets/base",
            "_model_module_version": "1.5.0",
            "_view_count": null,
            "_view_module_version": "1.2.0",
            "_model_module": "@jupyter-widgets/controls"
          }
        },
        "00317b3719c24c4ea984cd6325ab2ebc": {
          "model_module": "@jupyter-widgets/base",
          "model_name": "LayoutModel",
          "state": {
            "_view_name": "LayoutView",
            "grid_template_rows": null,
            "right": null,
            "justify_content": null,
            "_view_module": "@jupyter-widgets/base",
            "overflow": null,
            "_model_module_version": "1.2.0",
            "_view_count": null,
            "flex_flow": null,
            "width": null,
            "min_width": null,
            "border": null,
            "align_items": null,
            "bottom": null,
            "_model_module": "@jupyter-widgets/base",
            "top": null,
            "grid_column": null,
            "overflow_y": null,
            "overflow_x": null,
            "grid_auto_flow": null,
            "grid_area": null,
            "grid_template_columns": null,
            "flex": null,
            "_model_name": "LayoutModel",
            "justify_items": null,
            "grid_row": null,
            "max_height": null,
            "align_content": null,
            "visibility": null,
            "align_self": null,
            "height": null,
            "min_height": null,
            "padding": null,
            "grid_auto_rows": null,
            "grid_gap": null,
            "max_width": null,
            "order": null,
            "_view_module_version": "1.2.0",
            "grid_template_areas": null,
            "object_position": null,
            "object_fit": null,
            "grid_auto_columns": null,
            "margin": null,
            "display": null,
            "left": null
          }
        },
        "26d9707bae3a47a1b04b3d9453bc215f": {
          "model_module": "@jupyter-widgets/controls",
          "model_name": "HBoxModel",
          "state": {
            "_view_name": "HBoxView",
            "_dom_classes": [],
            "_model_name": "HBoxModel",
            "_view_module": "@jupyter-widgets/controls",
            "_model_module_version": "1.5.0",
            "_view_count": null,
            "_view_module_version": "1.5.0",
            "box_style": "",
            "layout": "IPY_MODEL_828f9413ebe24be8b7f1df583fbdf4d6",
            "_model_module": "@jupyter-widgets/controls",
            "children": [
              "IPY_MODEL_20bc495174d54948a557192faef2990d",
              "IPY_MODEL_824c0b7c094041d18ff759824fc37d79"
            ]
          }
        },
        "828f9413ebe24be8b7f1df583fbdf4d6": {
          "model_module": "@jupyter-widgets/base",
          "model_name": "LayoutModel",
          "state": {
            "_view_name": "LayoutView",
            "grid_template_rows": null,
            "right": null,
            "justify_content": null,
            "_view_module": "@jupyter-widgets/base",
            "overflow": null,
            "_model_module_version": "1.2.0",
            "_view_count": null,
            "flex_flow": null,
            "width": null,
            "min_width": null,
            "border": null,
            "align_items": null,
            "bottom": null,
            "_model_module": "@jupyter-widgets/base",
            "top": null,
            "grid_column": null,
            "overflow_y": null,
            "overflow_x": null,
            "grid_auto_flow": null,
            "grid_area": null,
            "grid_template_columns": null,
            "flex": null,
            "_model_name": "LayoutModel",
            "justify_items": null,
            "grid_row": null,
            "max_height": null,
            "align_content": null,
            "visibility": null,
            "align_self": null,
            "height": null,
            "min_height": null,
            "padding": null,
            "grid_auto_rows": null,
            "grid_gap": null,
            "max_width": null,
            "order": null,
            "_view_module_version": "1.2.0",
            "grid_template_areas": null,
            "object_position": null,
            "object_fit": null,
            "grid_auto_columns": null,
            "margin": null,
            "display": null,
            "left": null
          }
        },
        "20bc495174d54948a557192faef2990d": {
          "model_module": "@jupyter-widgets/controls",
          "model_name": "FloatProgressModel",
          "state": {
            "_view_name": "ProgressView",
            "style": "IPY_MODEL_b7c89daa8a8245bda6587ea3fcf8662b",
            "_dom_classes": [],
            "description": "Downloading: 100%",
            "_model_name": "FloatProgressModel",
            "bar_style": "success",
            "max": 135,
            "_view_module": "@jupyter-widgets/controls",
            "_model_module_version": "1.5.0",
            "value": 135,
            "_view_count": null,
            "_view_module_version": "1.5.0",
            "orientation": "horizontal",
            "min": 0,
            "description_tooltip": null,
            "_model_module": "@jupyter-widgets/controls",
            "layout": "IPY_MODEL_b53977e7e27b4796ab2645dd0ea0de2e"
          }
        },
        "824c0b7c094041d18ff759824fc37d79": {
          "model_module": "@jupyter-widgets/controls",
          "model_name": "HTMLModel",
          "state": {
            "_view_name": "HTMLView",
            "style": "IPY_MODEL_302bd340ce9f47d4b94f275db02ed85f",
            "_dom_classes": [],
            "description": "",
            "_model_name": "HTMLModel",
            "placeholder": "​",
            "_view_module": "@jupyter-widgets/controls",
            "_model_module_version": "1.5.0",
            "value": " 135/135 [00:00&lt;00:00, 309B/s]",
            "_view_count": null,
            "_view_module_version": "1.5.0",
            "description_tooltip": null,
            "_model_module": "@jupyter-widgets/controls",
            "layout": "IPY_MODEL_cf828030b8474af8aea1726c38102176"
          }
        },
        "b7c89daa8a8245bda6587ea3fcf8662b": {
          "model_module": "@jupyter-widgets/controls",
          "model_name": "ProgressStyleModel",
          "state": {
            "_view_name": "StyleView",
            "_model_name": "ProgressStyleModel",
            "description_width": "initial",
            "_view_module": "@jupyter-widgets/base",
            "_model_module_version": "1.5.0",
            "_view_count": null,
            "_view_module_version": "1.2.0",
            "bar_color": null,
            "_model_module": "@jupyter-widgets/controls"
          }
        },
        "b53977e7e27b4796ab2645dd0ea0de2e": {
          "model_module": "@jupyter-widgets/base",
          "model_name": "LayoutModel",
          "state": {
            "_view_name": "LayoutView",
            "grid_template_rows": null,
            "right": null,
            "justify_content": null,
            "_view_module": "@jupyter-widgets/base",
            "overflow": null,
            "_model_module_version": "1.2.0",
            "_view_count": null,
            "flex_flow": null,
            "width": null,
            "min_width": null,
            "border": null,
            "align_items": null,
            "bottom": null,
            "_model_module": "@jupyter-widgets/base",
            "top": null,
            "grid_column": null,
            "overflow_y": null,
            "overflow_x": null,
            "grid_auto_flow": null,
            "grid_area": null,
            "grid_template_columns": null,
            "flex": null,
            "_model_name": "LayoutModel",
            "justify_items": null,
            "grid_row": null,
            "max_height": null,
            "align_content": null,
            "visibility": null,
            "align_self": null,
            "height": null,
            "min_height": null,
            "padding": null,
            "grid_auto_rows": null,
            "grid_gap": null,
            "max_width": null,
            "order": null,
            "_view_module_version": "1.2.0",
            "grid_template_areas": null,
            "object_position": null,
            "object_fit": null,
            "grid_auto_columns": null,
            "margin": null,
            "display": null,
            "left": null
          }
        },
        "302bd340ce9f47d4b94f275db02ed85f": {
          "model_module": "@jupyter-widgets/controls",
          "model_name": "DescriptionStyleModel",
          "state": {
            "_view_name": "StyleView",
            "_model_name": "DescriptionStyleModel",
            "description_width": "",
            "_view_module": "@jupyter-widgets/base",
            "_model_module_version": "1.5.0",
            "_view_count": null,
            "_view_module_version": "1.2.0",
            "_model_module": "@jupyter-widgets/controls"
          }
        },
        "cf828030b8474af8aea1726c38102176": {
          "model_module": "@jupyter-widgets/base",
          "model_name": "LayoutModel",
          "state": {
            "_view_name": "LayoutView",
            "grid_template_rows": null,
            "right": null,
            "justify_content": null,
            "_view_module": "@jupyter-widgets/base",
            "overflow": null,
            "_model_module_version": "1.2.0",
            "_view_count": null,
            "flex_flow": null,
            "width": null,
            "min_width": null,
            "border": null,
            "align_items": null,
            "bottom": null,
            "_model_module": "@jupyter-widgets/base",
            "top": null,
            "grid_column": null,
            "overflow_y": null,
            "overflow_x": null,
            "grid_auto_flow": null,
            "grid_area": null,
            "grid_template_columns": null,
            "flex": null,
            "_model_name": "LayoutModel",
            "justify_items": null,
            "grid_row": null,
            "max_height": null,
            "align_content": null,
            "visibility": null,
            "align_self": null,
            "height": null,
            "min_height": null,
            "padding": null,
            "grid_auto_rows": null,
            "grid_gap": null,
            "max_width": null,
            "order": null,
            "_view_module_version": "1.2.0",
            "grid_template_areas": null,
            "object_position": null,
            "object_fit": null,
            "grid_auto_columns": null,
            "margin": null,
            "display": null,
            "left": null
          }
        },
        "7d6c419f7c8a4bbc9c63f6d7bb85fd05": {
          "model_module": "@jupyter-widgets/controls",
          "model_name": "HBoxModel",
          "state": {
            "_view_name": "HBoxView",
            "_dom_classes": [],
            "_model_name": "HBoxModel",
            "_view_module": "@jupyter-widgets/controls",
            "_model_module_version": "1.5.0",
            "_view_count": null,
            "_view_module_version": "1.5.0",
            "box_style": "",
            "layout": "IPY_MODEL_4f10e96b79f743309ea781d602fa86c0",
            "_model_module": "@jupyter-widgets/controls",
            "children": [
              "IPY_MODEL_3dbe9ccbcd57477894be64882945c304",
              "IPY_MODEL_f2789f8c61a2410f8eb94f35cfedde82"
            ]
          }
        },
        "4f10e96b79f743309ea781d602fa86c0": {
          "model_module": "@jupyter-widgets/base",
          "model_name": "LayoutModel",
          "state": {
            "_view_name": "LayoutView",
            "grid_template_rows": null,
            "right": null,
            "justify_content": null,
            "_view_module": "@jupyter-widgets/base",
            "overflow": null,
            "_model_module_version": "1.2.0",
            "_view_count": null,
            "flex_flow": null,
            "width": null,
            "min_width": null,
            "border": null,
            "align_items": null,
            "bottom": null,
            "_model_module": "@jupyter-widgets/base",
            "top": null,
            "grid_column": null,
            "overflow_y": null,
            "overflow_x": null,
            "grid_auto_flow": null,
            "grid_area": null,
            "grid_template_columns": null,
            "flex": null,
            "_model_name": "LayoutModel",
            "justify_items": null,
            "grid_row": null,
            "max_height": null,
            "align_content": null,
            "visibility": null,
            "align_self": null,
            "height": null,
            "min_height": null,
            "padding": null,
            "grid_auto_rows": null,
            "grid_gap": null,
            "max_width": null,
            "order": null,
            "_view_module_version": "1.2.0",
            "grid_template_areas": null,
            "object_position": null,
            "object_fit": null,
            "grid_auto_columns": null,
            "margin": null,
            "display": null,
            "left": null
          }
        },
        "3dbe9ccbcd57477894be64882945c304": {
          "model_module": "@jupyter-widgets/controls",
          "model_name": "FloatProgressModel",
          "state": {
            "_view_name": "ProgressView",
            "style": "IPY_MODEL_81a8749f0e784445b4cd07a8d7fa5786",
            "_dom_classes": [],
            "description": "Downloading: 100%",
            "_model_name": "FloatProgressModel",
            "bar_style": "success",
            "max": 439457908,
            "_view_module": "@jupyter-widgets/controls",
            "_model_module_version": "1.5.0",
            "value": 439457908,
            "_view_count": null,
            "_view_module_version": "1.5.0",
            "orientation": "horizontal",
            "min": 0,
            "description_tooltip": null,
            "_model_module": "@jupyter-widgets/controls",
            "layout": "IPY_MODEL_5c11390f854541fc8c5f9b10fd48ea8e"
          }
        },
        "f2789f8c61a2410f8eb94f35cfedde82": {
          "model_module": "@jupyter-widgets/controls",
          "model_name": "HTMLModel",
          "state": {
            "_view_name": "HTMLView",
            "style": "IPY_MODEL_4a77200cd0124a4ea899be71eabf6e61",
            "_dom_classes": [],
            "description": "",
            "_model_name": "HTMLModel",
            "placeholder": "​",
            "_view_module": "@jupyter-widgets/controls",
            "_model_module_version": "1.5.0",
            "value": " 439M/439M [00:09&lt;00:00, 47.7MB/s]",
            "_view_count": null,
            "_view_module_version": "1.5.0",
            "description_tooltip": null,
            "_model_module": "@jupyter-widgets/controls",
            "layout": "IPY_MODEL_358ebd34440c4202993c8b5c4723b471"
          }
        },
        "81a8749f0e784445b4cd07a8d7fa5786": {
          "model_module": "@jupyter-widgets/controls",
          "model_name": "ProgressStyleModel",
          "state": {
            "_view_name": "StyleView",
            "_model_name": "ProgressStyleModel",
            "description_width": "initial",
            "_view_module": "@jupyter-widgets/base",
            "_model_module_version": "1.5.0",
            "_view_count": null,
            "_view_module_version": "1.2.0",
            "bar_color": null,
            "_model_module": "@jupyter-widgets/controls"
          }
        },
        "5c11390f854541fc8c5f9b10fd48ea8e": {
          "model_module": "@jupyter-widgets/base",
          "model_name": "LayoutModel",
          "state": {
            "_view_name": "LayoutView",
            "grid_template_rows": null,
            "right": null,
            "justify_content": null,
            "_view_module": "@jupyter-widgets/base",
            "overflow": null,
            "_model_module_version": "1.2.0",
            "_view_count": null,
            "flex_flow": null,
            "width": null,
            "min_width": null,
            "border": null,
            "align_items": null,
            "bottom": null,
            "_model_module": "@jupyter-widgets/base",
            "top": null,
            "grid_column": null,
            "overflow_y": null,
            "overflow_x": null,
            "grid_auto_flow": null,
            "grid_area": null,
            "grid_template_columns": null,
            "flex": null,
            "_model_name": "LayoutModel",
            "justify_items": null,
            "grid_row": null,
            "max_height": null,
            "align_content": null,
            "visibility": null,
            "align_self": null,
            "height": null,
            "min_height": null,
            "padding": null,
            "grid_auto_rows": null,
            "grid_gap": null,
            "max_width": null,
            "order": null,
            "_view_module_version": "1.2.0",
            "grid_template_areas": null,
            "object_position": null,
            "object_fit": null,
            "grid_auto_columns": null,
            "margin": null,
            "display": null,
            "left": null
          }
        },
        "4a77200cd0124a4ea899be71eabf6e61": {
          "model_module": "@jupyter-widgets/controls",
          "model_name": "DescriptionStyleModel",
          "state": {
            "_view_name": "StyleView",
            "_model_name": "DescriptionStyleModel",
            "description_width": "",
            "_view_module": "@jupyter-widgets/base",
            "_model_module_version": "1.5.0",
            "_view_count": null,
            "_view_module_version": "1.2.0",
            "_model_module": "@jupyter-widgets/controls"
          }
        },
        "358ebd34440c4202993c8b5c4723b471": {
          "model_module": "@jupyter-widgets/base",
          "model_name": "LayoutModel",
          "state": {
            "_view_name": "LayoutView",
            "grid_template_rows": null,
            "right": null,
            "justify_content": null,
            "_view_module": "@jupyter-widgets/base",
            "overflow": null,
            "_model_module_version": "1.2.0",
            "_view_count": null,
            "flex_flow": null,
            "width": null,
            "min_width": null,
            "border": null,
            "align_items": null,
            "bottom": null,
            "_model_module": "@jupyter-widgets/base",
            "top": null,
            "grid_column": null,
            "overflow_y": null,
            "overflow_x": null,
            "grid_auto_flow": null,
            "grid_area": null,
            "grid_template_columns": null,
            "flex": null,
            "_model_name": "LayoutModel",
            "justify_items": null,
            "grid_row": null,
            "max_height": null,
            "align_content": null,
            "visibility": null,
            "align_self": null,
            "height": null,
            "min_height": null,
            "padding": null,
            "grid_auto_rows": null,
            "grid_gap": null,
            "max_width": null,
            "order": null,
            "_view_module_version": "1.2.0",
            "grid_template_areas": null,
            "object_position": null,
            "object_fit": null,
            "grid_auto_columns": null,
            "margin": null,
            "display": null,
            "left": null
          }
        }
      }
    }
  },
  "cells": [
    {
      "cell_type": "markdown",
      "metadata": {
        "id": "view-in-github",
        "colab_type": "text"
      },
      "source": [
        "<a href=\"https://colab.research.google.com/github/cristobalvch/BERT-Transformers/blob/main/BERT_text_process.ipynb\" target=\"_parent\"><img src=\"https://colab.research.google.com/assets/colab-badge.svg\" alt=\"Open In Colab\"/></a>"
      ]
    },
    {
      "cell_type": "code",
      "metadata": {
        "id": "__tW9wd84UHG",
        "outputId": "5f7e16e7-fc18-45c4-a415-53244c5a45f5",
        "colab": {
          "resources": {
            "http://localhost:8080/nbextensions/google.colab/files.js": {
              "data": "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",
              "ok": true,
              "headers": [
                [
                  "content-type",
                  "application/javascript"
                ]
              ],
              "status": 200,
              "status_text": ""
            }
          },
          "base_uri": "https://localhost:8080/",
          "height": 128
        }
      },
      "source": [
        "from google.colab import drive\n",
        "from google.colab import files\n",
        "drive.mount('/content/gdrive')\n",
        "files.upload()"
      ],
      "execution_count": null,
      "outputs": [
        {
          "output_type": "stream",
          "text": [
            "Drive already mounted at /content/gdrive; to attempt to forcibly remount, call drive.mount(\"/content/gdrive\", force_remount=True).\n"
          ],
          "name": "stdout"
        },
        {
          "output_type": "display_data",
          "data": {
            "text/html": [
              "\n",
              "     <input type=\"file\" id=\"files-7f179839-6c04-46cb-a85f-086b66051c8f\" name=\"files[]\" multiple disabled\n",
              "        style=\"border:none\" />\n",
              "     <output id=\"result-7f179839-6c04-46cb-a85f-086b66051c8f\">\n",
              "      Upload widget is only available when the cell has been executed in the\n",
              "      current browser session. Please rerun this cell to enable.\n",
              "      </output>\n",
              "      <script src=\"/nbextensions/google.colab/files.js\"></script> "
            ],
            "text/plain": [
              "<IPython.core.display.HTML object>"
            ]
          },
          "metadata": {
            "tags": []
          }
        },
        {
          "output_type": "stream",
          "text": [
            "Saving constitucion.csv to constitucion.csv\n"
          ],
          "name": "stdout"
        },
        {
          "output_type": "execute_result",
          "data": {
            "text/plain": [
              "{'constitucion.csv': b'chapter,name_chapter,number_article,article,last_update,law_update\\r\\nCap\\xc3\\xadtulo I, Bases De La Institucionalidad,1,\"Las personas nacen libres e iguales en dignidad y derechos. La familia es el n\\xc3\\xbacleo fundamental de la sociedad. El Estado reconoce y ampara a los grupos intermedios a trav\\xc3\\xa9s de los cuales se organiza y estructura la sociedad y les garantiza la adecuada autonom\\xc3\\xada para cumplir sus propios fines espec\\xc3\\xadficos.  El Estado est\\xc3\\xa1 al servicio de la persona humana y su finalidad es promover el bien com\\xc3\\xban, para lo cual debe contribuir a crear las condiciones sociales que permitan a todos y a cada uno de los integrantes de la comunidad nacional su mayor realizaci\\xc3\\xb3n espiritual y material posible, con pleno respeto a los derechos y garant\\xc3\\xadas que esta Constituci\\xc3\\xb3n establece. Es deber del Estado resguardar la seguridad nacional, dar protecci\\xc3\\xb3n a la poblaci\\xc3\\xb3n y a la familia, propender al fortalecimiento de \\xc3\\xa9sta, promover la integraci\\xc3\\xb3n arm\\xc3\\xb3nica de todos los sectores de la Naci\\xc3\\xb3n y asegurar el derecho de las personas a participar con igualdad de oportunidades en la vida nacional.\",27 de agosto de 2020,Ley N\\xc2\\xba 21.257\\r\\nCap\\xc3\\xadtulo I, Bases De La Institucionalidad,2,\"Son emblemas nacionales la bandera nacional, el escudo de armas de la Rep\\xc3\\xbablica y el himno nacional.\",27 de agosto de 2020,Ley N\\xc2\\xba 21.257\\r\\nCap\\xc3\\xadtulo I, Bases De La Institucionalidad,3,\"El Estado de Chile es unitario. La administraci\\xc3\\xb3n del Estado ser\\xc3\\xa1 funcional y territorialmente descentralizada, o desconcentrada en su caso, de conformidad a la ley. Los \\xc3\\xb3rganos del Estado promover\\xc3\\xa1n el fortalecimiento de la regionalizaci\\xc3\\xb3n del pa\\xc3\\xads y el desarrollo equitativo y solidario entre las regiones, provincias y comunas del territorio nacional.\",27 de agosto de 2020,Ley N\\xc2\\xba 21.257\\r\\nCap\\xc3\\xadtulo I, Bases De La Institucionalidad,4,Chile es una rep\\xc3\\xbablica democr\\xc3\\xa1tica.,27 de agosto de 2020,Ley N\\xc2\\xba 21.257\\r\\nCap\\xc3\\xadtulo I, Bases De La Institucionalidad,5,\"La soberan\\xc3\\xada reside esencialmente en la Naci\\xc3\\xb3n. Su ejercicio se realiza por el pueblo a trav\\xc3\\xa9s del plebiscito y de elecciones peri\\xc3\\xb3dicas y, tambi\\xc3\\xa9n, por las autoridades que esta Constituci\\xc3\\xb3n establece. Ning\\xc3\\xban sector del pueblo ni individuo alguno puede atribuirse su ejercicio. El ejercicio de la soberan\\xc3\\xada reconoce como limitaci\\xc3\\xb3n el respeto a los derechos esenciales que emanan de la naturaleza humana. Es deber de los \\xc3\\xb3rganos del Estado respetar y promover tales derechos, garantizados por esta Constituci\\xc3\\xb3n, as\\xc3\\xad como por los tratados internacionales ratificados por Chile y que se encuentren vigentes.\",27 de agosto de 2020,Ley N\\xc2\\xba 21.257\\r\\nCap\\xc3\\xadtulo I, Bases De La Institucionalidad,6,\"Los \\xc3\\xb3rganos del Estado deben someter su acci\\xc3\\xb3n a la Constituci\\xc3\\xb3n y a las normas dictadas conforme a ella, y garantizar el orden institucional de la Rep\\xc3\\xbablica . Los preceptos de esta Constituci\\xc3\\xb3n obligan tanto a los titulares o integrantes de dichos \\xc3\\xb3rganos como a toda persona, instituci\\xc3\\xb3n o grupo. La infracci\\xc3\\xb3n de esta norma generar\\xc3\\xa1 las responsabilidades y sanciones que determine la ley.\",27 de agosto de 2020,Ley N\\xc2\\xba 21.257\\r\\nCap\\xc3\\xadtulo I, Bases De La Institucionalidad,7,\"Los \\xc3\\xb3rganos del Estado act\\xc3\\xbaan v\\xc3\\xa1lidamente previa investidura regular de sus integrantes, dentro de su competencia y en la forma que prescriba la ley. Ninguna magistratura, ninguna persona ni grupo de personas pueden atribuirse, ni aun a pretexto de circunstancias extraordinarias, otra autoridad o derechos que los que expresamente se les hayan conferido en virtud de la Constituci\\xc3\\xb3n o las leyes. Todo acto en contravenci\\xc3\\xb3n a este art\\xc3\\xadculo es nulo y originar\\xc3\\xa1 las responsabilidades y sanciones que la ley se\\xc3\\xb1ale.\",27 de agosto de 2020,Ley N\\xc2\\xba 21.257\\r\\nCap\\xc3\\xadtulo I, Bases De La Institucionalidad,8,\"El ejercicio de las funciones p\\xc3\\xbablicas obliga a sus titulares a dar estricto cumplimiento al principio de probidad en todas sus actuaciones. Son p\\xc3\\xbablicos los actos y resoluciones de los \\xc3\\xb3rganos del Estado, as\\xc3\\xad como sus fundamentos y los procedimientos que utilicen. Sin embargo, s\\xc3\\xb3lo una ley de qu\\xc3\\xb3rum calificado podr\\xc3\\xa1 establecer la reserva o secreto de aqu\\xc3\\xa9llos o de \\xc3\\xa9stos, cuando la publicidad afectare el debido cumplimiento de las funciones de dichos \\xc3\\xb3rganos, los derechos de las personas, la seguridad de la Naci\\xc3\\xb3n o el inter\\xc3\\xa9s nacional. El Presidente de la Rep\\xc3\\xbablica, los Ministros de Estado, los Diputados y Senadores, y las dem\\xc3\\xa1s autoridades y funcionarios que una ley org\\xc3\\xa1nica constitucional se\\xc3\\xb1ale, deber\\xc3\\xa1n declarar sus intereses y patrimonio en forma p\\xc3\\xbablica. Dicha ley determinar\\xc3\\xa1 los casos y las condiciones en que esas autoridades delegar\\xc3\\xa1n a terceros la administraci\\xc3\\xb3n de aquellos bienes y obligaciones que supongan conflicto de inter\\xc3\\xa9s en el ejercicio de su funci\\xc3\\xb3n p\\xc3\\xbablica. Asimismo, podr\\xc3\\xa1 considerar otras medidas apropiadas para resolverlos y, en situaciones calificadas, disponer la enajenaci\\xc3\\xb3n de todo o parte de esos bienes.\",27 de agosto de 2020,Ley N\\xc2\\xba 21.257\\r\\nCap\\xc3\\xadtulo I, Bases De La Institucionalidad,9,\"El terrorismo, en cualquiera de sus formas, es por esencia contrario a los derechos humanos. Una ley de qu\\xc3\\xb3rum calificado determinar\\xc3\\xa1 las conductas terroristas y su penalidad. Los responsables de estos delitos quedar\\xc3\\xa1n inhabilitados por el plazo de quince a\\xc3\\xb1os para ejercer f unciones o cargos p\\xc3\\xbablicos, sean o no de elecci\\xc3\\xb3n popular, o de rector o director de establecimiento de educaci\\xc3\\xb3n, o para ejercer en ellos funciones de ense\\xc3\\xb1anza ; para explotar un medio de comunicaci\\xc3\\xb3n social o ser director o administrador del mismo, o para desempe\\xc3\\xb1ar en \\xc3\\xa9l funciones relacionadas con la emisi\\xc3\\xb3n o difusi\\xc3\\xb3n de opiniones o informaciones; ni podr\\xc3\\xa1n ser dirigentes de organizaciones pol\\xc3\\xadticas o relacionadas con la educaci\\xc3\\xb3n o de car\\xc3\\xa1cter vecinal, profesional, empresarial, sindical, estudiantil o gremial en general, durante dicho plazo. Lo anterior se entiende sin perjuicio de otras inhabilidades o de las que por mayor tiempo establezca la ley. Los delitos a que se refiere el inciso anterior ser\\xc3\\xa1n considerados siempre comunes y no pol\\xc3\\xadticos para todos los efectos legales y no proceder\\xc3\\xa1 respecto de ellos el indulto particular, salvo para conmutar la pena de muerte por la de presidio perpetuo.\",27 de agosto de 2020,Ley N\\xc2\\xba 21.257\\r\\nCap\\xc3\\xadtulo II, Nacionalidad y Ciudadan\\xc3\\xada,10,\"Son chilenos: 1Los nacidos en el territorio de Chile, con excepci\\xc3\\xb3n de los hijos de extranjeros que se encuentren en Chile en servicio de su Gobierno, y de los hijos de extranjeros transe\\xc3\\xbantes, todos los que, sin embargo, podr\\xc3\\xa1n optar por la nacionalidad chilena; 2 Los hijos de padre o madre chilenos, nacidos en territorio extranjero. Con todo, se requerir\\xc3\\xa1 que alguno de sus ascendientes en l\\xc3\\xadnea recta de primer o segundo grado, haya adquirido la nacionalidad chilena en virtud de lo establecido en los n\\xc3\\xbameros 1, 3 \\xc3\\xb3 4; 3 Los extranjeros que obtuvieren carta de nacionalizaci\\xc3\\xb3n en conformidad a la ley, y 4 Los que obtuvieren especial gracia de nacionalizaci\\xc3\\xb3n por ley. La ley reglamentar\\xc3\\xa1 los procedimientos de opci\\xc3\\xb3n por la nacionalidad chilena; de otorgamiento, negativa y cancelaci\\xc3\\xb3n de las cartas de nacionalizaci\\xc3\\xb3n, y la formaci\\xc3\\xb3n de un registro de todos estos actos.\",27 de agosto de 2020,Ley N\\xc2\\xba 21.257\\r\\nCap\\xc3\\xadtulo II, Nacionalidad y Ciudadan\\xc3\\xada,11,\"La nacionalidad chilena se pierde: 1Por renuncia voluntaria manifestada ante autoridad chilena competente. Esta renuncia s\\xc3\\xb3lo producir\\xc3\\xa1 efectos si la persona, previamente, se ha nacionalizado en pa\\xc3\\xads extranjero; y 2Por decreto supremo, en caso de prestaci\\xc3\\xb3n de servicios durante una guerra exterior a enemigos de Chile o de sus aliados; 3Por cancelaci\\xc3\\xb3n de la carta de nacionalizaci\\xc3\\xb3n, y 4 Por ley que revoque la nacionalizaci\\xc3\\xb3n concedida por gracia. Los que hubieren perdido la nacionalidad chilena por cualquiera de las causales establecidas en este art\\xc3\\xadculo, s\\xc3\\xb3lo podr\\xc3\\xa1n ser rehabilitados por ley.\",27 de agosto de 2020,Ley N\\xc2\\xba 21.257\\r\\nCap\\xc3\\xadtulo II, Nacionalidad y Ciudadan\\xc3\\xada,12,\"La persona afectada por acto o resoluci\\xc3\\xb3n de autoridad administrativa que la prive de su nacionalidad chilena o se la desconozca, podr\\xc3\\xa1 recurrir, por s\\xc3\\xad o por cualquiera a su nombre, dentro del plazo de treinta d\\xc3\\xadas, ante la Corte Suprema , la que conocer\\xc3\\xa1 como jurado y en tribunal pleno. La interposici\\xc3\\xb3n del recurso suspender\\xc3\\xa1 los efectos del acto o resoluci\\xc3\\xb3n recurridos.\",27 de agosto de 2020,Ley N\\xc2\\xba 21.257\\r\\nCap\\xc3\\xadtulo II, Nacionalidad y Ciudadan\\xc3\\xada,13,\"Son ciudadanos los chilenos que hayan cumplido dieciocho a\\xc3\\xb1os de edad y que no hayan sido condenados a pena aflictiva. La calidad de ciudadano otorga los derechos de sufragio, de optar a cargos de elecci\\xc3\\xb3n popular y los dem\\xc3\\xa1s que la Constituci\\xc3\\xb3n o la ley confieran. Los ciudadanos con derecho a sufragio que se encuentren fuera del pa\\xc3\\xads podr\\xc3\\xa1n sufragar desde el extranjero en las elecciones primarias presidenciales, en las elecciones de Presidente de la Rep\\xc3\\xbablica y en los plebiscitos nacionales. Una ley org\\xc3\\xa1nica constitucional establecer\\xc3\\xa1 el procedimiento para materializar la inscripci\\xc3\\xb3n en el registro electoral y regular\\xc3\\xa1 la manera en que se realizar\\xc3\\xa1n los procesos electorales y plebiscitarios en el extranjero, en conformidad con lo dispuesto en los incisos primero y segundo del art\\xc3\\xadculo 18. Trat\\xc3\\xa1ndose de los chilenos a que se refieren los n\\xc3\\xbameros 2 y 4 del art\\xc3\\xadculo 10, el ejercicio de los derechos que les confiere la ciudadan\\xc3\\xada estar\\xc3\\xa1 sujeto a que hubieren estado avecindados en Chile por m\\xc3\\xa1s de un a\\xc3\\xb1o.\",27 de agosto de 2020,Ley N\\xc2\\xba 21.257\\r\\nCap\\xc3\\xadtulo II, Nacionalidad y Ciudadan\\xc3\\xada,14,\"Los extranjeros avecindados en Chile por m\\xc3\\xa1s de cinco a\\xc3\\xb1os, y que cumplan con los requisitos se\\xc3\\xb1alados en el inciso primero del art\\xc3\\xadculo 13, podr\\xc3\\xa1n ejercer el derecho de sufragio en los casos y formas que determine la ley. Los nacionalizados en conformidad al N 3 del art\\xc3\\xadculo 10, tendr\\xc3\\xa1n opci\\xc3\\xb3n a cargos p\\xc3\\xbablicos de elecci\\xc3\\xb3n popular s\\xc3\\xb3lo despu\\xc3\\xa9s de cinco a\\xc3\\xb1os de estar en posesi\\xc3\\xb3n de sus cartas de nacionalizaci\\xc3\\xb3n.\",27 de agosto de 2020,Ley N\\xc2\\xba 21.257\\r\\nCap\\xc3\\xadtulo II, Nacionalidad y Ciudadan\\xc3\\xada,15,\"En las votaciones populares, el sufragio ser\\xc3\\xa1 personal, igualitario, secreto y voluntario. S\\xc3\\xb3lo podr\\xc3\\xa1 convocarse a votaci\\xc3\\xb3n popular para las elecciones y plebiscitos expresamente previstos en esta Constituci\\xc3\\xb3n.\",27 de agosto de 2020,Ley N\\xc2\\xba 21.257\\r\\nCap\\xc3\\xadtulo II, Nacionalidad y Ciudadan\\xc3\\xada,16,\"El derecho de sufragio se suspende: 1Por interdicci\\xc3\\xb3n en caso de demencia; 2Por hallarse la persona acusada por delito que merezca pena aflictiva o por delito que la ley califique como conducta terrorista, y 3Por haber sido sancionado por el Tribunal Constitucional en conformi dad al inciso s\\xc3\\xa9ptimo del n\\xc3\\xbamero 15 del art\\xc3\\xadculo 19 de esta Constituci\\xc3\\xb3n. Los que por esta causa se hallaren privados del ejercicio del derecho de sufragio lo recuperar\\xc3\\xa1n al t\\xc3\\xa9rmino de cinco a\\xc3\\xb1os, contado desde la declaraci\\xc3\\xb3n del Tribunal. Esta suspensi\\xc3\\xb3n no producir\\xc3\\xa1 otro efecto legal, sin perjuicio de lo dispuesto en el inciso s\\xc3\\xa9ptimo del n\\xc3\\xbamero 15 del art\\xc3\\xadculo 19.\",27 de agosto de 2020,Ley N\\xc2\\xba 21.257\\r\\nCap\\xc3\\xadtulo II, Nacionalidad y Ciudadan\\xc3\\xada,17,\"La calidad de ciudadano se pierde: 1Por p\\xc3\\xa9rdida de la nacionalidad chilena; 2Por condena a pena aflictiva, y 3Por condena por delitos que la ley califique como conducta terrorista y los relativos al tr\\xc3\\xa1fico de estupefacientes y que hubieren merecido, adem\\xc3\\xa1s, pena aflictiva . Los que hubieren perdido la ciudadan\\xc3\\xada por la causal indicada en el n\\xc3\\xbamero 2, la recuperar\\xc3\\xa1n en conformidad a la ley, una vez extinguida su responsabilidad penal. Los que la hubieren perdido por las causales previstas en el n\\xc3\\xbamero 3 podr\\xc3\\xa1n solicitar su rehabilitaci\\xc3\\xb3n al Senado una vez cumplida la condena.\",27 de agosto de 2020,Ley N\\xc2\\xba 21.257\\r\\nCap\\xc3\\xadtulo II, Nacionalidad y Ciudadan\\xc3\\xada,18,\"Habr\\xc3\\xa1 un sistema electoral p\\xc3\\xbablico. Una ley org\\xc3\\xa1nica constitucional determinar\\xc3\\xa1 su organizaci\\xc3\\xb3n y funcionamiento, regular\\xc3\\xa1 la forma en que se realizar\\xc3\\xa1n los procesos electorales y plebiscitarios, en todo lo no previsto por esta Constituci\\xc3\\xb3n y garantizar\\xc3\\xa1 siempre la plena igualdad entre los independientes y los miembros de partidos pol\\xc3\\xadticos tanto en la presentaci\\xc3\\xb3n de candidaturas como en su participaci\\xc3\\xb3n en los se\\xc3\\xb1alados procesos. Dicha ley establecer\\xc3\\xa1 tambi\\xc3\\xa9n un sistema de financiamiento, transparencia, l\\xc3\\xadmite y control del gasto electoral. Una ley org\\xc3\\xa1nica constitucional contemplar\\xc3\\xa1, adem\\xc3\\xa1s, un sistema de registro electoral, bajo la direcci\\xc3\\xb3n del Servicio Electoral, al que se incorporar\\xc3\\xa1n, por el solo ministerio de la ley, quienes cumplan los requisitos establecidos por esta Constituci\\xc3\\xb3n. El resguardo del orden p\\xc3\\xbablico durante los actos electorales y plebiscitarios corresponder\\xc3\\xa1 a las Fuerzas Armadas y Carabineros del modo que indique la ley.\",27 de agosto de 2020,Ley N\\xc2\\xba 21.257\\r\\nCap\\xc3\\xadtulo III, De Los Derechos Y Deberes Constitucionales,19,\"La Constituci\\xc3\\xb3n asegura a todas las personas:1El derecho a la vida y a la integridad f\\xc3\\xadsica y ps\\xc3\\xadquica de la persona.La ley protege la vida del que est\\xc3\\xa1 por nacer.La pena de muerte s\\xc3\\xb3lo podr\\xc3\\xa1 establecerse por delito contemplado en ley aprobada con qu\\xc3\\xb3rum calificado.Se proh\\xc3\\xadbe la aplicaci\\xc3\\xb3n de todo apremio ileg\\xc3\\xadtimo;2La igualdad ante la ley. En Chile no hay persona ni grupo privilegiados. En Chile no hay esclavos y el que pise su territorio queda libre. Hombres y mujeres son iguales ante la ley.Ni la ley ni aut oridad alguna podr\\xc3\\xa1n establecer diferencias arbitrarias;3La igual protecci\\xc3\\xb3n de la ley en el ejercicio de sus derechos.Toda persona tiene derecho a defensa jur\\xc3\\xaddica en la forma que la ley se\\xc3\\xb1ale y ninguna autoridad o individuo podr\\xc3\\xa1 impedir, restringir o perturbar la debida intervenci\\xc3\\xb3n del letrado si hubiere sido requerida. Trat\\xc3\\xa1ndose de los integrantes de las Fuerzas Armadas y de Orden y Seguridad P\\xc3\\xbablica, este derecho se regir\\xc3\\xa1, en lo concerniente a lo administrativo y disciplinario, por las normas pertinentes de sus respectivos estatutos.La ley arbitrar\\xc3\\xa1 los medios para otorgar asesoramiento y defensa jur\\xc3\\xaddica a quienes no puedan procur\\xc3\\xa1rselos por s\\xc3\\xad mismos. La ley se\\xc3\\xb1alar\\xc3\\xa1 los casos y establecer\\xc3\\xa1 la forma en que las personas naturales v\\xc3\\xadctimas de delitos dispondr\\xc3\\xa1n de asesor\\xc3\\xada y defensa jur\\xc3\\xaddica gratuitas, a efecto de ejercer la acci\\xc3\\xb3n penal reconocida por esta Constituci\\xc3\\xb3n y las leyes. Toda persona imputada de delito tiene derecho irrenunciable a ser asistida por un abogado defensor proporcionado por el Estado si no nombrare uno en la oportunidad establecida por la ley.Nadie podr\\xc3\\xa1 ser juzgado por comisiones especiales, sino por el tribunal que se\\xc3\\xb1alare la ley y que se hallare establecido por \\xc3\\xa9sta con anterioridad a la perpetraci\\xc3\\xb3n del hecho.Toda sentencia de un \\xc3\\xb3rgano que ejerza jurisdicci\\xc3\\xb3n debe fundarse en un proceso previo legalmente tramitado. Corresponder\\xc3\\xa1 al legislador establecer siempre las garant\\xc3\\xadas de un procedimiento y una investigaci\\xc3\\xb3n racionales y justos.La ley no podr\\xc3\\xa1 presumir de derecho la responsabilidad penal.Ning\\xc3\\xban delito se castigar\\xc3\\xa1 con otra pena que la que se\\xc3\\xb1ale una ley promulgada con anterioridad a su perpetraci\\xc3\\xb3n, a menos que una nueva ley favorezca al afectado.Ninguna ley podr\\xc3\\xa1 establecer penas sin que la conducta que se sanciona est\\xc3\\xa9 expresamente descrita en ella;4El respeto y protecci\\xc3\\xb3n a la vida privada y a la honra de la persona y su familia, y asimismo, la protecci\\xc3\\xb3n de sus datos personales. El tratamiento y protecci\\xc3\\xb3n de estos datos se efectuar\\xc3\\xa1 en la forma y condiciones que determine la ley;5La inviolabilidad del hogar y de toda forma de comunicaci\\xc3\\xb3n privada. El hogar s\\xc3\\xb3lo puede allanarse y las comunicaciones y documentos privados interceptarse, abrirse o registrarse en los casos y formas determinados por la ley;6La libertad de conciencia, la manifestaci\\xc3\\xb3n de todas las creencias y el ejercicio libre de todos los cultos que no se opongan a la moral, a las buenas costumbres o al orden p\\xc3\\xbablico.Las confesiones religiosas podr\\xc3\\xa1n erigir y conservar templos y sus dependencias bajo las condiciones de seguridad e higiene fijadas por las leyes y ordenanzas.Las iglesias, las confesiones e instituciones religiosas de cualquier culto tendr\\xc3\\xa1n los derechos que otorgan y reconocen, con respecto a los bienes, las leyes actualmente en vigor. Los templos y sus dependencias, destinados exclusivamente al servicio de un culto, estar\\xc3\\xa1n exentos de toda clase de contribuciones ;7El derecho a la libertad personal y a la seguridad individual.En consecuencia:a) Toda persona tiene derecho de residir y permanecer en cualquier lugar de la Rep\\xc3\\xbablica , trasladarse de uno a otro y entrar y salir de su territorio, a condici\\xc3\\xb3n de que se guarden las normas establecidas en la ley y salvo siempre el perjuicio de terceros;b) Nadie puede ser privado de su libertad personal ni \\xc3\\xa9sta restringida sino en los casos y en la forma determinados por la Constituci\\xc3\\xb3n y las leyes;c) Nadie puede ser arrestado o detenido sino por orden de funcionario p\\xc3\\xbablico expresamente facultado por la ley y despu\\xc3\\xa9s de que dicha orden le sea intimada en forma legal. Sin embargo, podr\\xc3\\xa1 ser detenido el que fuere sorprendido en delito flagrante, con el solo objeto de ser puesto a disposici\\xc3\\xb3n del juez competente dentro de las veinticuatro horas siguientes.Si la autoridad hiciere arrestar o detener a alguna persona, deber\\xc3\\xa1, dentro de las cuarenta y ocho horas siguientes, dar aviso al juez competente, poniendo a su disposici\\xc3\\xb3n al afectado. El juez podr\\xc3\\xa1 , por resoluci\\xc3\\xb3n fundada, ampliar este plazo hasta por cinco d\\xc3\\xadas, y hasta por diez d\\xc3\\xadas, en el caso que se investigaren hechos calificados por la ley como conductas terroristas;d) Nadie puede ser arrestado o detenido, sujeto a prisi\\xc3\\xb3n preventiva o preso, sino en su casa o en lugares p\\xc3\\xbablicos destinados a este objeto.Los encargados de las prisiones no pueden recibir en ellas a nadie en calidad de arrestado o detenido, procesado o preso, sin dejar constancia de la orden correspondiente, emanada de autoridad que tenga facultad legal, en un registro que ser\\xc3\\xa1 p\\xc3\\xbablico.Ninguna incomunicaci\\xc3\\xb3n puede impedir que el funcionario encargado de la casa de detenci\\xc3\\xb3n visite al arrestado o detenido, procesado o preso, que se encuentre en ella. Este funcionario est\\xc3\\xa1 obligado, siempre que el arrestado o detenido lo requiera, a transmitir al juez competente la copia de la orden de detenci\\xc3\\xb3n, o a reclamar para que se le d\\xc3\\xa9 dicha copia, o a dar \\xc3\\xa9l mismo un certificado de hallarse detenido aquel individuo, si al tiempo de su detenci\\xc3\\xb3n se hubiere omitido este requisito;e) La libertad del imputado proceder\\xc3\\xa1 a menos que la detenci\\xc3\\xb3n o prisi\\xc3\\xb3n preventiva sea considerada por el juez como necesaria para las investigaciones o para la seguridad del ofendido o de la sociedad. La ley establecer\\xc3\\xa1 los requisitos y modalidades para obtenerla.La apelaci\\xc3\\xb3n de la resoluci\\xc3\\xb3n que se pronuncie sobre la libertad del imputado por los delitos a que se refiere el art\\xc3\\xadculo 9 \\xc2\\xb0, ser\\xc3\\xa1 conocida por el tribunal superior que corresponda, integrado exclusivamente por miembros titulares. La resoluci\\xc3\\xb3n que la apruebe u otorgue requerir\\xc3\\xa1 ser acordada por unanimidad. Mientras dure la libertad, el imputado quedar\\xc3\\xa1 siempre sometido a las medidas de vigilancia de la autoridad que la ley contemple ;f) En las causas criminales no se podr\\xc3\\xa1 obligar al imputado o acusado a que declare bajo juramento sobre hecho propio; tampoco podr\\xc3\\xa1n ser obligados a declarar en contra de \\xc3\\xa9ste sus ascendientes, descendientes, c\\xc3\\xb3nyuge y dem\\xc3\\xa1s personas que, seg\\xc3\\xban los casos y circunstancias, se\\xc3\\xb1ale la ley;g) No podr\\xc3\\xa1 imponerse la pena de confiscaci\\xc3\\xb3n de bienes, sin perjuicio del comiso en los casos establecidos por las leyes; pero dicha pena ser\\xc3\\xa1 procedente respecto de las asociaciones il\\xc3\\xadcitas;h) No podr\\xc3\\xa1 aplicarse como sanci\\xc3\\xb3n la p\\xc3\\xa9rdida de los derechos previsionales, ei) Una vez dictado sobreseimiento definitivo o sentencia absolutoria, el que hubiere sido sometido a proceso o condenado en cualquier instancia por resoluci\\xc3\\xb3n que la Corte Suprema declare injustificadamente err\\xc3\\xb3nea o arbitraria, tendr\\xc3\\xa1 derecho a ser indemnizado por el Estado de los perjuicios patrimoniales y morales que haya sufrido. La indemnizaci\\xc3\\xb3n ser\\xc3\\xa1 determinada judicialmente en procedimiento breve y sumario y en \\xc3\\xa9l la prueba se apreciar\\xc3\\xa1 en conciencia;8El derecho a vivir en un medio ambiente libre de contaminaci\\xc3\\xb3n. Es deber del Estado velar para que este derecho no sea afectado y tutelar la preservaci\\xc3\\xb3n de la naturaleza.La ley podr\\xc3\\xa1 establecer restricciones espec\\xc3\\xadficas al ejercicio de determinados derechos o libertades para proteger el medio ambiente;9El derecho a la protecci\\xc3\\xb3n de la salud.El Estado protege el libre e igualitario acceso a las acciones de promoci\\xc3\\xb3n, protecci\\xc3\\xb3n y recuperaci\\xc3\\xb3n de la salud y de rehabilitaci\\xc3\\xb3n del individuo.Le corresponder\\xc3\\xa1, asimismo, la coordinaci\\xc3\\xb3n y control de las acciones relacionadas con la salud.Es deber preferente del Estado garantizar la ejecuci\\xc3\\xb3n de las acciones de salud, sea que se presten a trav\\xc3\\xa9s de instituciones p\\xc3\\xbablicas o privadas, en la forma y condiciones que determine la ley, la que podr\\xc3\\xa1 establecer cotizaciones obligatorias.Cada persona tendr\\xc3\\xa1 el derecho a elegir el sistema de salud al que desee acogerse, sea \\xc3\\xa9ste estatal o privado;10El derecho a la educaci\\xc3\\xb3n.La educaci\\xc3\\xb3n tiene por objeto el pleno desarrollo de la persona en las distintas etapas de su vida.Los padres tienen el derecho preferente y el deber de educar a sus hijos. Corresponder\\xc3\\xa1 al Estado otorgar especial protecci\\xc3\\xb3n al ejercicio de este derecho.Para el Estado es obligatorio promover la educaci\\xc3\\xb3n parvularia, para lo que financiar\\xc3\\xa1 un sistema gratuito a partir del nivel medio menor, destinado a asegurar el acceso a \\xc3\\xa9ste y sus niveles superiores. El segundo nivel de transici\\xc3\\xb3n es obligatorio, siendo requisito para el ingreso a la educaci\\xc3\\xb3n b\\xc3\\xa1sica.La educaci\\xc3\\xb3n b\\xc3\\xa1sica y la educaci\\xc3\\xb3n media son obligatorias, debiendo el Estado financiar un sistema gratuito con tal objeto, destinado a asegurar el acceso a ellas de toda la poblaci\\xc3\\xb3n. En el caso de la educaci\\xc3\\xb3n media este sistema, en conformidad a la ley, se extender\\xc3\\xa1 hasta cumplir los 21 a\\xc3\\xb1os de edad.Corresponder\\xc3\\xa1 al Estado, asimismo, fomentar el desarrollo de la educaci\\xc3\\xb3n en todos sus niveles; estimular la investigaci\\xc3\\xb3n cient\\xc3\\xadfica y tecnol\\xc3\\xb3gica, la creaci\\xc3\\xb3n art\\xc3\\xadstica y la protecci\\xc3\\xb3n e incremento del patrimonio cultural de la Naci\\xc3\\xb3n.Es deber de la comunidad contribuir al desarrollo y perfeccionamiento de la educaci\\xc3\\xb3n;11La libertad de ense\\xc3\\xb1anza incluye el derecho de abrir, organizar y mantener establecimientos educacionales.La libertad de ense\\xc3\\xb1anza no tiene otras limitaciones que las impuestas por la moral, las buenas costumbres, el orden p\\xc3\\xbablico y la seguridad nacional.La ense\\xc3\\xb1anza reconocida oficialmente no podr\\xc3\\xa1 orientarse a propagar tendencia pol\\xc3\\xadtico partidista alguna.Los padres tienen el derecho de escoger el establecimiento de ense\\xc3\\xb1anza para sus hijos.Una ley org\\xc3\\xa1nica constitucional establecer\\xc3\\xa1 los requisitos m\\xc3\\xadnimos que deber\\xc3\\xa1n exigirse en cada uno de los niveles de la ense\\xc3\\xb1anza b\\xc3\\xa1sica y media y se\\xc3\\xb1alar\\xc3\\xa1 las normas objetivas, de general aplicaci\\xc3\\xb3n, que permitan al Estado velar por su cumplimiento. Dicha ley, del mismo modo, establecer\\xc3\\xa1 los requisitos para el reconocimiento oficial de los establecimientos educacionales de todo nivel;12La libertad de emitir opini\\xc3\\xb3n y la de informar, sin censura previa, en cualquier forma y por cualquier medio, sin perjuicio de responder de los delitos y abusos que se cometan en el ejercicio de estas libertades, en conformidad a la ley, la que deber\\xc3\\xa1 ser de qu\\xc3\\xb3rum calificado.La ley en ning\\xc3\\xban caso podr\\xc3\\xa1 establecer monopolio estatal sobre los medios de comunicaci\\xc3\\xb3n social.Toda persona natural o jur\\xc3\\xaddica ofendida o injustamente aludida por alg\\xc3\\xban medio de comunicaci\\xc3\\xb3n social, tiene derecho a que su declaraci\\xc3\\xb3n o rectificaci\\xc3\\xb3n sea gratuitamente difundida, en las condiciones que la ley determine, por el medio de comunicaci\\xc3\\xb3n social en que esa informaci\\xc3\\xb3n hubiera sido emitida.Toda persona natural o jur\\xc3\\xaddica tiene el derecho de fundar, editar y mantener diarios, revistas y peri\\xc3\\xb3dicos, en las condiciones que se\\xc3\\xb1ale la ley.El Estado, aquellas universidades y dem\\xc3\\xa1s personas o entidades que la ley determine, podr\\xc3\\xa1n establecer, operar y mantener estaciones de televisi\\xc3\\xb3n.Habr\\xc3\\xa1 un Consejo Nacional de Televisi\\xc3\\xb3n, aut\\xc3\\xb3nomo y con personalidad jur\\xc3\\xaddica, encargado de velar por el correcto funcionamiento de este medio de comunicaci\\xc3\\xb3n. Una ley de qu\\xc3\\xb3rum calificado se\\xc3\\xb1alar\\xc3\\xa1 la organizaci\\xc3\\xb3n y dem\\xc3\\xa1s funciones y atribuciones del referido Consejo.La ley regular\\xc3\\xa1 un sistema de calificaci\\xc3\\xb3n para la exhibici\\xc3\\xb3n de la producci\\xc3\\xb3n cinematogr\\xc3\\xa1fica;13El derecho a reunirse pac\\xc3\\xadficamente sin permiso previo y sin armas.Las reuniones en las plazas, calles y dem\\xc3\\xa1s lugares de uso p\\xc3\\xbablico, se regir\\xc3\\xa1n por las disposiciones generales de polic\\xc3\\xada;14El derecho de presentar peticiones a la autoridad, sobre cualquier asunto de inter\\xc3\\xa9s p\\xc3\\xbablico o privado, sin otra limitaci\\xc3\\xb3n que la de proceder en t\\xc3\\xa9rminos respetuosos y convenientes;15El derecho de asociarse sin permiso previo.Para gozar de personalidad jur\\xc3\\xaddica, las asociaciones deber\\xc3\\xa1n constituirse en conformidad a la ley.Nadie puede ser obligado a pertenecer a una asociaci\\xc3\\xb3n.Proh\\xc3\\xadbense las asociaciones contrarias a la moral, al orden p\\xc3\\xbablico y a la seguridad del Estado.Los partidos pol\\xc3\\xadticos no podr\\xc3\\xa1n intervenir en actividades ajenas a las que les son propias ni tener privilegio alguno o monopolio de la participaci\\xc3\\xb3n ciudadana; la n\\xc3\\xb3mina de sus militantes se registrar\\xc3\\xa1 en el servicio electoral del Estado, el que guardar\\xc3\\xa1 reserva de la misma, la cual ser\\xc3\\xa1 accesible a los militantes del respectivo partido; su contabilidad deber\\xc3\\xa1 ser p\\xc3\\xbablica; las fuentes de su financiamiento no podr\\xc3\\xa1n provenir de dineros, bienes, donaciones, aportes ni cr\\xc3\\xa9ditos de origen extranjero; sus estatutos deber\\xc3\\xa1n contemplar las normas que aseguren una efectiva democracia interna. Una ley org\\xc3\\xa1nica constitucional establecer\\xc3\\xa1 un sistema de elecciones primarias que podr\\xc3\\xa1 ser utilizado por dichos partidos para la nominaci\\xc3\\xb3n de candidatos a cargos de elecci\\xc3\\xb3n popular, cuyos resultados ser\\xc3\\xa1n vinculantes para estas colectividades, salvo las excepciones que establezca dicha ley. Aquellos que no resulten elegidos en las elecciones primarias no podr\\xc3\\xa1n ser candidatos, en esa elecci\\xc3\\xb3n, al respectivo cargo. Una ley org\\xc3\\xa1nica constitucional regular\\xc3\\xa1 las dem\\xc3\\xa1s materias que les conciernan y las sanciones que se aplicar\\xc3\\xa1n por el incumplimiento de sus preceptos, dentro de las cuales podr\\xc3\\xa1 considerar su disoluci\\xc3\\xb3n. Las asociaciones, movimientos, organizaciones o grupos de personas que persigan o realicen actividades propias de los partidos pol\\xc3\\xadticos sin ajustarse a las normas anteriores son il\\xc3\\xadcitos y ser\\xc3\\xa1n sancionados de acuerdo a la referida ley org\\xc3\\xa1nica constitucional.La Constituci\\xc3\\xb3n Pol\\xc3\\xadtica garantiza el pluralismo pol\\xc3\\xadtico. Son inconstitucionales los partidos, movimientos u otras formas de organizaci\\xc3\\xb3n cuyos objetivos, actos o conductas no respeten los principios b\\xc3\\xa1sicos del r\\xc3\\xa9gimen democr\\xc3\\xa1tico y constitucional, procuren el establecimiento de un sistema totalitario, como asimismo aquellos que hagan uso de la violencia, la propugnen o inciten a ella como m\\xc3\\xa9todo de acci\\xc3\\xb3n pol\\xc3\\xadtica. Corresponder\\xc3\\xa1 al Tribunal Constitucional declarar esta inconstitucionalidad.Sin perjuicio de las dem\\xc3\\xa1s sanciones establecidas en la Constituci\\xc3\\xb3n o en la ley, las personas que hubieren tenido participaci\\xc3\\xb3n en los hechos que motiven la declaraci\\xc3\\xb3n de inconstitucionalidad a que se refiere el inciso precedente, no podr\\xc3\\xa1n participar en la formaci\\xc3\\xb3n de otros partidos pol\\xc3\\xadticos, movimientos u otras formas de organizaci\\xc3\\xb3n pol\\xc3\\xadtica, ni optar a cargos p\\xc3\\xbablicos de elecci\\xc3\\xb3n popular ni desempe\\xc3\\xb1ar los cargos que se mencionan en los n\\xc3\\xbameros 1) a 6) del art\\xc3\\xadculo 57, por el t\\xc3\\xa9rmino de cinco a\\xc3\\xb1os, contado desde la resoluci\\xc3\\xb3n del Tribunal. Si a esa fecha las personas referidas estuvieren en posesi\\xc3\\xb3n de las funciones o cargos indicados, los perder\\xc3\\xa1n de pleno derecho.Las personas sancionadas en virtud de este precepto no podr\\xc3\\xa1n ser objeto de rehabilitaci\\xc3\\xb3n durante el plazo se\\xc3\\xb1alado en el inciso anterior. La duraci\\xc3\\xb3n de las inhabilidades contempladas en dicho inciso se elevar\\xc3\\xa1 al doble en caso de reincidencia;16La libertad de trabajo y su protecci\\xc3\\xb3n.Toda persona tiene derecho a la libre contrataci\\xc3\\xb3n y a la libre elecci\\xc3\\xb3n del trabajo con una justa retribuci\\xc3\\xb3n.Se proh\\xc3\\xadbe cualquiera discriminaci\\xc3\\xb3n que no se base en la capacidad o idoneidad personal, sin perjuicio de que la ley pueda exigir la nacionalidad chilena o l\\xc3\\xadmites de edad para determinados casos.Ninguna clase de trabajo puede ser prohibida, salvo que se oponga a la moral, a la seguridad o a la salubridad p\\xc3\\xbablicas, o que lo exija el inter\\xc3\\xa9s nacional y una ley lo declare as\\xc3\\xad. Ninguna ley o disposici\\xc3\\xb3n de autoridad p\\xc3\\xbablica podr\\xc3\\xa1 exigir la afiliaci\\xc3\\xb3n a organizaci\\xc3\\xb3n o entidad alguna como requisito para desarrollar una determinada actividad o trabajo, ni la desafiliaci\\xc3\\xb3n para mantenerse en \\xc3\\xa9stos. La ley determinar\\xc3\\xa1 las profesiones que requieren grado o t\\xc3\\xadtulo universitario y las condiciones que deben cumplirse para ejercerlas. Los colegios profesionales constituidos en conformidad a la ley y que digan relaci\\xc3\\xb3n con tales profesiones, estar\\xc3\\xa1n facultados para conocer de las reclamaciones que se interpongan sobre la conducta \\xc3\\xa9tica de sus miembros. Contra sus resoluciones podr\\xc3\\xa1 apelarse ante la Corte de Apelaciones respectiva. Los profesionales no asociados ser\\xc3\\xa1n juzgados por los tribunales especiales establecidos en la ley.La negociaci\\xc3\\xb3n colectiva con la empresa en que laboren es un derecho de los trabajadores, salvo los casos en que la ley expresamente no permita negociar. La ley establecer\\xc3\\xa1 las modalidades de la negociaci\\xc3\\xb3n colectiva y los procedimientos adecuados para lograr en ella una soluci\\xc3\\xb3n justa y pac\\xc3\\xadfica. La ley se\\xc3\\xb1alar\\xc3\\xa1 los casos en que la negociaci\\xc3\\xb3n colectiva deba someterse a arbitraje obligatorio, el que corresponder\\xc3\\xa1 a tribunales especiales de expertos cuya organizaci\\xc3\\xb3n y atribuciones se establecer\\xc3\\xa1n en ella.No podr\\xc3\\xa1n declararse en huelga los funcionarios del Estado ni de las municipalidades. Tampoco podr\\xc3\\xa1n hacerlo las personas que trabajen en corporaciones o empresas, cualquiera que sea su naturaleza, finalidad o funci\\xc3\\xb3n, que atiendan servicios de utilidad p\\xc3\\xbablica o cuya paralizaci\\xc3\\xb3n cause grave da\\xc3\\xb1o a la salud, a la econom\\xc3\\xada del pa\\xc3\\xads, al abastecimiento de la poblaci\\xc3\\xb3n o a la seguridad nacional. La ley establecer\\xc3\\xa1 los procedimientos para determinar las corporaciones o empresas cuyos trabajadores estar\\xc3\\xa1n sometidos a la prohibici\\xc3\\xb3n que establece este inciso;17La admisi\\xc3\\xb3n a todas las funciones y empleos p\\xc3\\xbablicos, sin otros requisitos que los que impongan la Constituci\\xc3\\xb3n y las leyes;18El derecho a la seguridad social.Las leyes que regulen el ejercicio de este derecho ser\\xc3\\xa1n de qu\\xc3\\xb3rum calificado.La acci\\xc3\\xb3n del Estado estar\\xc3\\xa1 dirigida a garantizar el acceso de todos los habitantes al goce de prestaciones b\\xc3\\xa1sicas uniformes, sea que se otorguen a trav\\xc3\\xa9s de instituciones p\\xc3\\xbablicas o privadas. La ley podr\\xc3\\xa1 establecer cotizaciones obligatorias.El Estado supervigilar\\xc3\\xa1 el adecuado ejercicio del derecho a la seguridad social;19El derecho de sindicarse en los casos y forma que se\\xc3\\xb1ale la ley. La afiliaci\\xc3\\xb3n sindical ser\\xc3\\xa1 siempre voluntaria.Las organizaciones sindicales gozar\\xc3\\xa1n de personalidad jur\\xc3\\xaddica por el solo hecho de registrar sus estatutos y actas constitutivas en la forma y condiciones que determine la ley.La ley contemplar\\xc3\\xa1 los mecanismos que aseguren la autonom\\xc3\\xada de estas organizaciones. Las organizaciones sindicales no podr\\xc3\\xa1n intervenir en actividades pol\\xc3\\xadtico partidistas;20La igual repartici\\xc3\\xb3n de los tributos en proporci\\xc3\\xb3n a las rentas o en la progresi\\xc3\\xb3n o forma que fije la ley, y la igual repartici\\xc3\\xb3n de las dem\\xc3\\xa1s cargas p\\xc3\\xbablicas.En ning\\xc3\\xban caso la ley podr\\xc3\\xa1 establecer tributos manifiestamente desproporcionados o injustos.Los tributos que se recauden, cualquiera que sea su naturaleza, ingresar\\xc3\\xa1n al patrimonio de la Naci\\xc3\\xb3n y no podr\\xc3\\xa1n estar afectos a un destino determinado.Sin embargo, la ley podr\\xc3\\xa1 autorizar que determinados tributos puedan estar afectados a fines propios de la defensa nacional. Asimismo, podr\\xc3\\xa1 autorizar que los que gravan actividades o bienes que tengan una clara identificaci\\xc3\\xb3n regional o local puedan ser aplicados, dentro de los marcos que la misma ley se\\xc3\\xb1ale, por las autoridades regionales o comunales para el financiamiento de obras de desarrollo;21El derecho a desarrollar cualquiera actividad econ\\xc3\\xb3mica que no sea contraria a la moral, al orden p\\xc3\\xbablico o a la seguridad nacional, respetando las normas legales que la regulen.El Estado y sus organismos podr\\xc3\\xa1n desarrollar actividades empresariales o participar en ellas s\\xc3\\xb3lo si una ley de qu\\xc3\\xb3rum calificado los autoriza. En tal caso, esas actividades estar\\xc3\\xa1n sometidas a la legislaci\\xc3\\xb3n com\\xc3\\xban aplicable a los particulares, sin perjuicio de las excepciones que por motivos justificados establezca la ley, la que deber\\xc3\\xa1 ser, asimismo, de qu\\xc3\\xb3rum calificado;22La no discriminaci\\xc3\\xb3n arbitraria en el trato que deben dar el Estado y sus organismos en materia econ\\xc3\\xb3mica.S\\xc3\\xb3lo en virtud de una ley, y siempre que no signifique tal discriminaci\\xc3\\xb3n, se podr\\xc3\\xa1n autorizar determinados beneficios directos o indirectos en favor de alg\\xc3\\xban sector, actividad o zona geogr\\xc3\\xa1fica, o establecer grav\\xc3\\xa1menes especiales que afecten a uno u otras. En el caso de las franquicias o beneficios indirectos, la estimaci\\xc3\\xb3n del costo de \\xc3\\xa9stos deber\\xc3\\xa1 incluirse anualmente en la Ley de Presupuestos;23La libertad para adquirir el dominio de toda clase de bienes, excepto aquellos que la naturaleza ha hecho comunes a todos los hombres o que deban pertenecer a la Naci\\xc3\\xb3n toda y la ley lo declare as\\xc3\\xad. Lo anterior es sin perjuicio de lo prescrito en otros preceptos de esta Constituci\\xc3\\xb3n.Una ley de qu\\xc3\\xb3rum calificado y cuando as\\xc3\\xad lo exija el inter\\xc3\\xa9s nacional puede establecer limitaciones o requisitos para la adquisici\\xc3\\xb3n del dominio de algunos bienes;24El derecho de propiedad en sus diversas especies sobre toda clase de bienes corporales o incorporales.S\\xc3\\xb3lo la ley puede establecer el modo de adquirir la propiedad, de usar, gozar y disponer de ella y las limitaciones y obligaciones que deriven de su funci\\xc3\\xb3n social. Esta comprende cuanto exijan los intereses generales de la Naci\\xc3\\xb3n , la seguridad nacional, la utilidad y la salubridad p\\xc3\\xbablicas y la conservaci\\xc3\\xb3n del patrimonio ambiental.Nadie puede, en caso alguno, ser privado de su propiedad, del bien sobre que recae o de alguno de los atributos o facultades esenciales del dominio, sino en virtud de ley general o especial que autorice la expropiaci\\xc3\\xb3n por causa de utilidad p\\xc3\\xbablica o de inter\\xc3\\xa9s nacional, calificada por el legislador. El expropiado podr\\xc3\\xa1 reclamar de la legalidad del acto expropiatorio ante los tribunales ordinarios y tendr\\xc3\\xa1 siempre derecho a indemnizaci\\xc3\\xb3n por el da\\xc3\\xb1o patrimonial efectivamente causado, la que se fijar\\xc3\\xa1 de com\\xc3\\xban acuerdo o en sentencia dictada conforme a derecho por dichos tribunales.A falta de acuerdo, la indemnizaci\\xc3\\xb3n deber\\xc3\\xa1 ser pagada en dinero efectivo al contado.La toma de posesi\\xc3\\xb3n material del bien expropiado tendr\\xc3\\xa1 lugar previo pago del total de la indemnizaci\\xc3\\xb3n, la que, a falta de acuerdo, ser\\xc3\\xa1 determinada provisionalmente por peritos en la forma que se\\xc3\\xb1ale la ley. En caso de reclamo acerca de la procedencia de la expropiaci\\xc3\\xb3n, el juez podr\\xc3\\xa1, con el m\\xc3\\xa9rito de los antecedentes que se invoquen, decretar la suspensi\\xc3\\xb3n de la toma de posesi\\xc3\\xb3n.El Estado tiene el dominio absoluto, exclusivo, inalienable e imprescriptible de todas las minas, comprendi\\xc3\\xa9ndose en \\xc3\\xa9stas las covaderas, las arenas metal\\xc3\\xadferas, los salares, los dep\\xc3\\xb3sitos de carb\\xc3\\xb3n e hidrocarburos y las dem\\xc3\\xa1s sustancias f\\xc3\\xb3siles, con excepci\\xc3\\xb3n de las arcillas superficiales, no obstante la propiedad de las personas naturales o jur\\xc3\\xaddicas sobre los terrenos en cuyas entra\\xc3\\xb1as estuvieren situadas. Los predios superficiales estar\\xc3\\xa1n sujetos a las obligaciones y limitaciones que la ley se\\xc3\\xb1ale para facilitar la exploraci\\xc3\\xb3n, la explotaci\\xc3\\xb3n y el beneficio de dichas minas.Corresponde a la ley determinar qu\\xc3\\xa9 sustancias de aquellas a que se refiere el inciso precedente, exceptuados los hidrocarburos l\\xc3\\xadquidos o gaseosos, pueden ser objeto de concesiones de exploraci\\xc3\\xb3n o de explotaci\\xc3\\xb3n. Dichas concesiones se constituir\\xc3\\xa1n siempre por resoluci\\xc3\\xb3n judicial y tendr\\xc3\\xa1n la duraci\\xc3\\xb3n, conferir\\xc3\\xa1n los derechos e impondr\\xc3\\xa1n las obligaciones que la ley exprese, la que tendr\\xc3\\xa1 el car\\xc3\\xa1cter de org\\xc3\\xa1nica constitucional. La concesi\\xc3\\xb3n minera obliga al due\\xc3\\xb1o a desarrollar la actividad necesaria para satisfacer el inter\\xc3\\xa9s p\\xc3\\xbablico que justifica su otorgamiento. Su r\\xc3\\xa9gimen de amparo ser\\xc3\\xa1 establecido por dicha ley, tender\\xc3\\xa1 directa o indirectamente a obtener el cumplimiento de esa obligaci\\xc3\\xb3n y contemplar\\xc3\\xa1 causales de caducidad para el caso de incumplimiento o de simple extinci\\xc3\\xb3n del dominio sobre la concesi\\xc3\\xb3n. En todo caso dichas causales y sus efectos deben estar establecidos al momento de otorgarse la concesi\\xc3\\xb3n.Ser\\xc3\\xa1 de competencia exclusiva de los tribunales ordinarios de justicia declarar la extinci\\xc3\\xb3n de tales concesiones. Las controversias que se produzcan respecto de la caducidad o extinci\\xc3\\xb3n del dominio sobre la concesi\\xc3\\xb3n ser\\xc3\\xa1n resueltas por ello s ; y en caso de caducidad, el afectado podr\\xc3\\xa1 requerir de la justicia la declaraci\\xc3\\xb3n de subsistencia de su derecho.El dominio del titular sobre su concesi\\xc3\\xb3n minera est\\xc3\\xa1 protegido por la garant\\xc3\\xada constitucional de que trata este n\\xc3\\xbamero.La exploraci\\xc3\\xb3n, la explotaci\\xc3\\xb3n o el beneficio de los yacimientos que contengan sustancias no susceptibles de concesi\\xc3\\xb3n, podr\\xc3\\xa1n ejecutarse directamente por el Estado o por sus empresas, o por medio de concesiones administrativas o de contratos especiales de operaci\\xc3\\xb3n, con los requisitos y bajo las condiciones que el Presidente de la Rep\\xc3\\xbablica fije, para cada caso, por decreto supremo. Esta norma se aplicar\\xc3\\xa1 tambi\\xc3\\xa9n a los yacimientos de cualquier especie existentes en las aguas mar\\xc3\\xadtimas sometidas a la jurisdicci\\xc3\\xb3n nacional y a los situados, en todo o en parte, en zonas que, conforme a la ley, se determinen como de importancia para la seguridad nacional. El Presidente de la Rep\\xc3\\xbablica podr\\xc3\\xa1 poner t\\xc3\\xa9rmino, en cualquier tiempo, sin expresi\\xc3\\xb3n de causa y con la indemnizaci\\xc3\\xb3n que corresponda, a las concesiones administrativas o a los contratos de operaci\\xc3\\xb3n relativos a explotaciones ubicadas en zonas declaradas de importancia para la seguridad nacional.Los derechos de los particulares sobre las aguas, reconocidos o constituidos en conformidad a la ley, otorgar\\xc3\\xa1n a sus titulares la propiedad sobre ellos;25La libertad de crear y difundir las artes, as\\xc3\\xad como el derecho del autor sobre sus creaciones intelectuales y art\\xc3\\xadsticas de cualquier especie, por el tiempo que se\\xc3\\xb1ale la ley y que no ser\\xc3\\xa1 inferior al de la vida del titular.El derecho de autor comprende la propiedad de las obras y otros derechos, como la paternidad, la edici\\xc3\\xb3n y la integridad de la obra, todo ello en conformidad a la ley.Se garantiza, tambi\\xc3\\xa9n, la propiedad industrial sobre las patentes de invenci\\xc3\\xb3n, marcas comerciales, modelos, procesos tecnol\\xc3\\xb3gicos u otras creaciones an\\xc3\\xa1logas, por el tiempo que establezca la ley.Ser\\xc3\\xa1 aplicable a la propiedad de las creaciones intelectuales y art\\xc3\\xadsticas y a la propiedad industrial lo prescrito en los incisos segundo, tercero, cuarto y quinto del n\\xc3\\xbamero anterior, y26La seguridad de que los preceptos legales que por mandato de la Constituci\\xc3\\xb3n regulen o complementen las garant\\xc3\\xadas que \\xc3\\xa9sta establece o que las limiten en los casos en que ella lo autoriza, no podr\\xc3\\xa1n afectar los derechos en su esencia, ni imponer condiciones, tributos o requisitos que impidan su libre ejercicio.\",27 de agosto de 2020,Ley N\\xc2\\xba 21.257\\r\\nCap\\xc3\\xadtulo III, De Los Derechos Y Deberes Constitucionales,20,\"El que por causa de actos u omisiones arbitrarios o ilegales sufra privaci\\xc3\\xb3n, perturbaci\\xc3\\xb3n o amenaza en el leg\\xc3\\xadtimo ejercicio de los derechos y garant\\xc3\\xadas establecidos en el art\\xc3\\xadculo 19, n\\xc3\\xbameros 1, 2, 3 inciso quinto, 4, 5, 6, 9 inciso final, 11 , 12 , 13, 15, 16 en lo relativo a la libertad de trabajo y al derecho a su libre elecci\\xc3\\xb3n y libre contrataci\\xc3\\xb3n, y a lo establecido en el inciso cuarto, 19, 21, 22, 23, 24 \\xc2\\xb0 , y 25 podr\\xc3\\xa1 ocurrir por s\\xc3\\xad o por cualquiera a su nombre, a la Corte de Apelaciones respectiva, la que adoptar\\xc3\\xa1 de inmediato las providencias que juzgue necesarias para restablecer el imperio del derecho y asegurar la debida protecci\\xc3\\xb3n del afectado, sin perjuicio de los dem\\xc3\\xa1s derechos que pueda hacer valer ante la autoridad o los tribunales correspondientes.Proceder\\xc3\\xa1, tambi\\xc3\\xa9n, el recurso de protecci\\xc3\\xb3n en el caso del N 8 del art\\xc3\\xadculo 19, cuando el derecho a vivir en un medio ambiente libre de contaminaci\\xc3\\xb3n sea afectado por un acto u omisi\\xc3\\xb3n ilegal imputable a una autoridad o persona determinada.\",27 de agosto de 2020,Ley N\\xc2\\xba 21.257\\r\\nCap\\xc3\\xadtulo III, De Los Derechos Y Deberes Constitucionales,21,\"Todo individuo que se hallare arrestado, detenido o preso con infracci\\xc3\\xb3n de lo dispuesto en la Constituci\\xc3\\xb3n o en las leyes, podr\\xc3\\xa1 ocurrir por s\\xc3\\xad, o por cualquiera a su nombre, a la magistratura que se\\xc3\\xb1ale la ley, a fin de que \\xc3\\xa9sta ordene se guarden las formalidades legales y adopte de inmediato las providencias que juzgue necesarias para restablecer el imperio del derecho y asegurar la debida protecci\\xc3\\xb3n del afectado.Esa magistratura podr\\xc3\\xa1 ordenar que el individuo sea tra\\xc3\\xaddo a su presencia y su decreto ser\\xc3\\xa1 precisamente obedecido por todos los encargados de las c\\xc3\\xa1rceles o lugares de detenci\\xc3\\xb3n. Instruida de los antecedentes, decretar\\xc3\\xa1 su libertad inmediata o har\\xc3\\xa1 que se reparen los defectos legales o pondr\\xc3\\xa1 al individuo a disposici\\xc3\\xb3n del juez competente, procediendo en todo breve y sumariamente, y corrigiendo por s\\xc3\\xad esos defectos o dando cuenta a quien corresponda para que los corrija.El mismo recurso, y en igual forma, podr\\xc3\\xa1 ser deducido en favor de toda persona que ilegalmente sufra cualquiera otra privaci\\xc3\\xb3n, perturbaci\\xc3\\xb3n o amenaza en su derecho a la libertad personal y seguridad individual. La respectiva magistratura dictar\\xc3\\xa1 en tal caso las medidas indicadas en los incisos anteriores que estime conducentes para restablecer el imperio del derecho y asegurar la debida protecci\\xc3\\xb3n del afectado.\",27 de agosto de 2020,Ley N\\xc2\\xba 21.257\\r\\nCap\\xc3\\xadtulo III, De Los Derechos Y Deberes Constitucionales,22,\"Todo habitante de la Rep\\xc3\\xbablica debe respeto a Chile y a sus emblemas nacionales.Los chilenos tienen el deber fundamental de honrar a la patria, de defender su soberan\\xc3\\xada y de contribuir a preservar la seguridad nacional y los valores esenciales de la tradici\\xc3\\xb3n chilena.El servicio militar y dem\\xc3\\xa1s cargas personales que imponga la ley son obligatorios en los t\\xc3\\xa9rminos y formas que \\xc3\\xa9sta determine.Los chilenos en estado de cargar armas deber\\xc3\\xa1n hallarse inscritos en los Registros Militares, si no est\\xc3\\xa1n legalmente exceptuados.\",27 de agosto de 2020,Ley N\\xc2\\xba 21.257\\r\\nCap\\xc3\\xadtulo III, De Los Derechos Y Deberes Constitucionales,23,\"Los grupos intermedios de la comunidad y sus dirigentes que hagan mal uso de la autonom\\xc3\\xada que la Constituci\\xc3\\xb3n les reconoce, interviniendo indebidamente en actividades ajenas a sus fines espec\\xc3\\xadficos, ser\\xc3\\xa1n sancionados en conformidad a la ley. Son incompatibles los cargos directivos superiores de las organizaciones gremiales con los cargos directivos superiores, nacionales y regionales, de los partidos pol\\xc3\\xadticos.La ley establecer\\xc3\\xa1 las sanciones que corresponda aplicar a los dirigentes gremiales que intervengan en actividades pol\\xc3\\xadtico partidistas y a los dirigentes de los partidos pol\\xc3\\xadticos, que interfieran en el funcionamiento de las organizaciones gremiales y dem\\xc3\\xa1s grupos intermedios que la propia ley se\\xc3\\xb1ale.\",27 de agosto de 2020,Ley N\\xc2\\xba 21.257\\r\\nCap\\xc3\\xadtulo IV, Gobierno,24,\"El gobierno y la administraci\\xc3\\xb3n del Estado corresponden al Presidente de la Rep\\xc3\\xbablica, quien es el Jefe del Estado.Su autoridad se extiende a todo cuanto tiene por objeto la conservaci\\xc3\\xb3n del orden p\\xc3\\xbablico en el interior y la seguridad externa de la Rep\\xc3\\xbablica, de acuerdo con la Constituci\\xc3\\xb3n y las leyes.El1 de junio de cada a\\xc3\\xb1o, el Presidente de la Rep\\xc3\\xbablica dar\\xc3\\xa1 cuenta al pa\\xc3\\xads del estado administrativo y pol\\xc3\\xadtico de la Naci\\xc3\\xb3n ante el Congreso Pleno.\",27 de agosto de 2020,Ley N\\xc2\\xba 21.257\\r\\nCap\\xc3\\xadtulo IV, Gobierno,25,\"Para ser elegido Presidente de la Rep\\xc3\\xbablica se requiere tener la nacionalidad chilena de acuerdo a lo dispuesto en los n\\xc3\\xbameros 1 \\xc3\\xb3 2 del art\\xc3\\xadculo 10; tener cumplidos treinta y cinco a\\xc3\\xb1os de edad y poseer las dem\\xc3\\xa1s calidades necesarias para ser ciudadano con derecho a sufragio.El Presidente de la Rep\\xc3\\xbablica durar\\xc3\\xa1 en el ejercicio de sus funciones por el t\\xc3\\xa9rmino de cuatro a\\xc3\\xb1os y no podr\\xc3\\xa1 ser reelegido para el per\\xc3\\xadodo siguiente.El Presidente de la Rep\\xc3\\xbablica no podr\\xc3\\xa1 salir del territorio nacional por m\\xc3\\xa1s de treinta d\\xc3\\xadas ni a contar del d\\xc3\\xada se\\xc3\\xb1alado en el inciso primero del art\\xc3\\xadculo siguiente, sin acuerdo del Senado.En todo caso, el Presidente de la Rep\\xc3\\xbablica comunicar\\xc3\\xa1 con la debida anticipaci\\xc3\\xb3n al Senado su decisi\\xc3\\xb3n de ausentarse del territorio y los motivos que la justifican.\",27 de agosto de 2020,Ley N\\xc2\\xba 21.257\\r\\nCap\\xc3\\xadtulo IV, Gobierno,26,\"El Presidente de la Rep\\xc3\\xbablica ser\\xc3\\xa1 elegido en votaci\\xc3\\xb3n directa y por mayor\\xc3\\xada absoluta de los sufragios v\\xc3\\xa1lidamente emitidos. La elecci\\xc3\\xb3n se efectuar\\xc3\\xa1 conjuntamente con la de parlamentarios, en la forma que determine la ley org\\xc3\\xa1nica constitucional respectiva, el tercer domingo de noviembre del a\\xc3\\xb1o anterior a aqu\\xc3\\xa9l en que deba cesar en el cargo el que est\\xc3\\xa9 en funciones.Si a la elecci\\xc3\\xb3n de Presidente de la Rep\\xc3\\xbablica se presentaren m\\xc3\\xa1s de dos candidatos y ninguno de ellos obtuviere m\\xc3\\xa1s de la mitad de los sufragios v\\xc3\\xa1lidamente emitidos, se proceder\\xc3\\xa1 a una segunda votaci\\xc3\\xb3n que se circunscribir\\xc3\\xa1 a los candidatos que hayan obtenido las dos m\\xc3\\xa1s altas mayor\\xc3\\xadas relativas y en ella resultar\\xc3\\xa1 electo aqu\\xc3\\xa9l de los candidatos que obtenga el mayor n\\xc3\\xbamero de sufragios. Esta nueva votaci\\xc3\\xb3n se verificar\\xc3\\xa1, en la forma que determine la ley, el cuarto domingo despu\\xc3\\xa9s de efectuada la primera.Para los efectos de lo dispuesto en los dos incisos precedentes, los votos en blanco y los nulos se considerar\\xc3\\xa1n como no emitidos.En caso de muerte de uno o de ambos candidatos a que se refiere el inciso segundo, el Presidente de la Rep\\xc3\\xbablica convocar\\xc3\\xa1 a una nueva elecci\\xc3\\xb3n dentro del plazo de diez d\\xc3\\xadas, contado desde la fecha del deceso. La elecci\\xc3\\xb3n se celebrar\\xc3\\xa1 noventa d\\xc3\\xadas despu\\xc3\\xa9s de la convocatoria si ese d\\xc3\\xada correspondiere a un domingo. Si as\\xc3\\xad no fuere, ella se realizar\\xc3\\xa1 el domingo inmediatamente siguiente.Si expirase el mandato del Presidente de la Rep\\xc3\\xbablica en ejercicio antes de la fecha de asunci\\xc3\\xb3n del Presidente que se elija en conformidad al inciso anterior, se aplicar\\xc3\\xa1, en lo pertinente, la norma contenida en el inciso primero del art\\xc3\\xadculo 28.\",27 de agosto de 2020,Ley N\\xc2\\xba 21.257\\r\\nCap\\xc3\\xadtulo IV, Gobierno,27,\"El proceso de calificaci\\xc3\\xb3n de la elecci\\xc3\\xb3n presidencial deber\\xc3\\xa1 quedar concluido dentro de los quince d\\xc3\\xadas siguientes trat\\xc3\\xa1ndose de la primera votaci\\xc3\\xb3n o dentro de los treinta d\\xc3\\xadas siguientes trat\\xc3\\xa1ndose de la segunda votaci\\xc3\\xb3n..El Tribunal Calificador de Elecciones comunicar\\xc3\\xa1 de inmediato al Presidente del Senado la proclamaci\\xc3\\xb3n de Presidente electo que haya efectuado.El Congreso Pleno, reunido en sesi\\xc3\\xb3n p\\xc3\\xbablica el d\\xc3\\xada en que deba cesar en su cargo el Presidente en funciones y con los miembros que asistan, tomar\\xc3\\xa1 conocimiento de la resoluci\\xc3\\xb3n en virtud de la cual el Tribunal Calificador de Elecciones proclama al Presidente electo.En este mismo acto, el Presidente electo prestar\\xc3\\xa1 ante el Presidente del Senado, juramento o promesa de desempe\\xc3\\xb1ar fielmente el cargo de Presidente de la Rep\\xc3\\xbablica , conservar la independencia de la Naci\\xc3\\xb3n , guardar y hacer guardar la Constituci\\xc3\\xb3n y las leyes, y de inmediato asumir\\xc3\\xa1 sus funciones.\",27 de agosto de 2020,Ley N\\xc2\\xba 21.257\\r\\nCap\\xc3\\xadtulo IV, Gobierno,28,\"Si el Presidente electo se hallare impedido para tomar posesi\\xc3\\xb3n del cargo, asumir\\xc3\\xa1, mientras tanto, con el t\\xc3\\xadtulo de Vicepresidente de la Rep\\xc3\\xbablica , el Presidente del Senado; a falta de \\xc3\\xa9ste, el Presidente de la C\\xc3\\xa1mara de Diputados, y a falta de \\xc3\\xa9ste, el Presidente de la Corte Suprema.Con todo, si el impedimento del Presidente electo fuere absoluto o debiere durar indefinidamente, el Vicepresidente, en los diez d\\xc3\\xadas siguientes al acuerdo del Senado adoptado en conformidad al art\\xc3\\xadculo 53 N 7, convocar\\xc3\\xa1 a una nueva elecci\\xc3\\xb3n presidencial que se celebrar\\xc3\\xa1 noventa d\\xc3\\xadas despu\\xc3\\xa9s de la convocatoria si ese d\\xc3\\xada correspondiere a un domingo. Si as\\xc3\\xad no fuere, ella se realizar\\xc3\\xa1 el domingo inmediatamente siguiente. El Presidente de la Rep\\xc3\\xbablica as\\xc3\\xad elegido asumir\\xc3\\xa1 sus funciones en la oportunidad que se\\xc3\\xb1ale esa ley, y durar\\xc3\\xa1 en el ejercicio de ellas hasta el d\\xc3\\xada en que le habr\\xc3\\xada correspondido cesar en el cargo al electo que no pudo asumir y cuyo impedimento hubiere motivado la nueva elecci\\xc3\\xb3n.\",27 de agosto de 2020,Ley N\\xc2\\xba 21.257\\r\\nCap\\xc3\\xadtulo IV, Gobierno,29,\"Si por impedimento temporal, sea por enfermedad, ausencia del territorio u otro grave motivo, el Presidente de la Rep\\xc3\\xbablica no pudiere ejercer su cargo, le subrogar\\xc3\\xa1, con el t\\xc3\\xadtulo de Vicepresidente de la Rep\\xc3\\xbablica , el Ministro titular a quien corresponda de acuerdo con el orden de precedencia legal. A falta de \\xc3\\xa9ste, la subrogaci\\xc3\\xb3n corresponder\\xc3\\xa1 al Ministro titular que siga en ese orden de precedencia y, a falta de todos ellos, le subrogar\\xc3\\xa1n sucesivamente el Presidente del Senado, el Presidente de la C\\xc3\\xa1mara de Diputados y el Presidente de la Corte Suprema.En caso de vacancia del cargo de Presidente de la Rep\\xc3\\xbablica , se producir\\xc3\\xa1 la subrogaci\\xc3\\xb3n como en las situaciones del inciso anterior, y se proceder\\xc3\\xa1 a elegir sucesor en conformidad a las reglas de los incisos siguientes.Si la vacancia se produjere faltando menos de dos a\\xc3\\xb1os para la pr\\xc3\\xb3xima elecci\\xc3\\xb3n presidencial, el Presidente ser\\xc3\\xa1 elegido por el Congreso Pleno por la mayor\\xc3\\xada absoluta de los senadores y diputados en ejercicio. La elecci\\xc3\\xb3n por el Congreso ser\\xc3\\xa1 hecha dentro de los diez d\\xc3\\xadas siguientes a la fecha de la vacancia y el elegido asumir\\xc3\\xa1 su cargo dentro de los treinta d\\xc3\\xadas siguientes.Si la vacancia se produjere faltando dos a\\xc3\\xb1os o m\\xc3\\xa1s para la pr\\xc3\\xb3xima elecci\\xc3\\xb3n presidencial, el Vicepresidente, dentro de los diez primeros d\\xc3\\xadas de su mandato, convocar\\xc3\\xa1 a los ciudadanos a elecci\\xc3\\xb3n presidencial paraciento veinte d\\xc3\\xadas despu\\xc3\\xa9s de la convocatoria, si ese d\\xc3\\xada correspondiere a un domingo. Si as\\xc3\\xad no fuere, ella se realizar\\xc3\\xa1 el domingo inmediatamente siguiente. El Presidente que resulte elegido asumir\\xc3\\xa1 su cargo el d\\xc3\\xa9cimo d\\xc3\\xada despu\\xc3\\xa9s de su proclamaci\\xc3\\xb3n.El Presidente elegido conforme a alguno de los incisos precedentes durar\\xc3\\xa1 en el cargo hasta completar el per\\xc3\\xadodo que restaba a quien se reemplace y no podr\\xc3\\xa1 postular como candidato a la elecci\\xc3\\xb3n presidencial siguiente.\",27 de agosto de 2020,Ley N\\xc2\\xba 21.257\\r\\nCap\\xc3\\xadtulo IV, Gobierno,30,\"El Presidente cesar\\xc3\\xa1 en su cargo el mismo d\\xc3\\xada en que se complete su per\\xc3\\xadodo y le suceder\\xc3\\xa1 el recientemente elegido.El que haya desempe\\xc3\\xb1ado este cargo por el per\\xc3\\xadodo completo, asumir\\xc3\\xa1, inmediatamente y de pleno derecho, la dignidad oficial de Ex Presidente de la Rep\\xc3\\xbablica.En virtud de esta calidad, le ser\\xc3\\xa1n aplicables las disposiciones de los incisos segundo, tercero y cuarto del art\\xc3\\xadculo 61 y el art\\xc3\\xadculo 62.No la alcanzar\\xc3\\xa1 el ciudadano que llegue a ocupar el cargo de Presidente de la Rep\\xc3\\xbablica por vacancia del mismo ni quien haya sido declarado culpable en juicio pol\\xc3\\xadtico seguido en su contra.El Ex Presidente de la Rep\\xc3\\xbablica que asuma alguna funci\\xc3\\xb3n remunerada con fondos p\\xc3\\xbablicos, dejar\\xc3\\xa1, en tanto la desempe\\xc3\\xb1e, de percibir la dieta, manteniendo, en todo caso, el fuero. Se except\\xc3\\xbaan los empleos docentes y las funciones o comisiones de igual car\\xc3\\xa1cter de la ense\\xc3\\xb1anza superior, media y especial.\",27 de agosto de 2020,Ley N\\xc2\\xba 21.257\\r\\nCap\\xc3\\xadtulo IV, Gobierno,31,\"El Presidente designado por el Congreso Pleno o, en su caso, el Vicepresidente de la Rep\\xc3\\xbablica tendr\\xc3\\xa1 todas las atribuciones que esta Constituci\\xc3\\xb3n confiere al Presidente de la Rep\\xc3\\xbablica.\",27 de agosto de 2020,Ley N\\xc2\\xba 21.257\\r\\nCap\\xc3\\xadtulo IV, Gobierno,32,\"Son atribuciones especiales del Presidente de la Rep\\xc3\\xbablica:1Concurrir a la formaci\\xc3\\xb3n de las leyes con arreglo a la Constituci\\xc3\\xb3n , sancionarlas y promulgarlas;2Pedir, indicando los motivos, que se cite a sesi\\xc3\\xb3n a cualquiera de las ramas del Congreso Nacional. En tal caso, la sesi\\xc3\\xb3n deber\\xc3\\xa1 celebrarse a la brevedad posible;3Dictar, previa delegaci\\xc3\\xb3n de facultades del Congreso, decretos con fuerza de ley sobre las materias que se\\xc3\\xb1ala la Constituci\\xc3\\xb3n ;4Convocar a plebiscito en los casos del art\\xc3\\xadculo 128;5Declarar los estados de excepci\\xc3\\xb3n constitucional en los casos y formas que se se\\xc3\\xb1alan en esta Constituci\\xc3\\xb3n;6Ejercer la potestad reglamentaria en todas aquellas materias que no sean propia s del dominio legal, sin perjuicio de la facultad de dictar los dem\\xc3\\xa1s reglamentos, decretos e instrucciones que crea convenientes para la ejecuci\\xc3\\xb3n de las leyes;7Nombrar y remover a su voluntad a los ministros de Estado, subsecretarios, delegados presidenciales regionales y delegados presidenciales provinciales;8Designar a los embajadores y ministros diplom\\xc3\\xa1ticos, y a los representantes ante organismos internacionales. Tanto estos funcionarios como los se\\xc3\\xb1alados en el N\\xc2\\xb0 7\\xc2\\xb0 precedente, ser\\xc3\\xa1n de la confianza exclusiva del Presidente de la Rep\\xc3\\xbablica y se mantendr\\xc3\\xa1n en sus puestos mientras cuenten con ella;9Nombrar al Contralor General de la Rep\\xc3\\xbablica con acuerdo del Senado;10Nombrar y remover a los funcionarios que la ley denomina como de su exclusiva confianza y proveer los dem\\xc3\\xa1s empleos civiles en conformidad a la ley. La remoci\\xc3\\xb3n de los dem\\xc3\\xa1s funcionarios se har\\xc3\\xa1 de acuerdo a las disposiciones que \\xc3\\xa9sta determine;11Conceder jubilaciones, retiros, montep\\xc3\\xados y pensiones de gracia, con arreglo a las leyes;12Nombrar a los magistrados y fiscales judiciales de las Cortes de Apelaciones y a los jueces letrados, a proposici\\xc3\\xb3n de la Corte Suprema y de las Cortes de Apelaciones, respectivamente; a los miembros del Tribunal Constitucional que le corresponde designar; y a los magistrados y fiscales judiciales de la Corte Suprema y al Fiscal Nacional, a proposici\\xc3\\xb3n de dicha Corte y con acuerdo del Senado, todo ello conforme a lo prescrito en esta Constituci\\xc3\\xb3n;13Velar por la conducta ministerial de los jueces y dem\\xc3\\xa1s empleados del Poder Judicial y requerir, con tal objeto, a la Corte Suprema para que, si procede, declare su mal comportamiento, o al ministerio p\\xc3\\xbablico, para que reclame medidas disciplinarias del tribunal competente, o para que, si hubiere m\\xc3\\xa9rito bastante, entable la correspondiente acusaci\\xc3\\xb3n;14Otorgar indultos particulares en los casos y formas que determine la ley. El indulto ser\\xc3\\xa1 improcedente en tanto no se haya dictado sentencia ejecutoriada en el respectivo proceso. Los funcionarios acusados por la C\\xc3\\xa1mara de Diputados y condenados por el Senado, s\\xc3\\xb3lo pueden ser indultados por el Congreso;15Conducir las relaciones pol\\xc3\\xadticas con las potencias extranjeras y organismos internacionales, y llevar a cabo las negociaciones; concluir, firmar y ratificar los tratados que estime convenientes para los intereses del pa\\xc3\\xads, los que deber\\xc3\\xa1n ser sometidos a la aprobaci\\xc3\\xb3n del Congreso conforme a lo prescrito en el art\\xc3\\xadculo 54 N 1 . Las discusiones y deliberaciones sobre estos objetos ser\\xc3\\xa1n secretos si el Presidente de la Rep\\xc3\\xbablica as\\xc3\\xad lo exigiere;16Designar y remover a los Comandantes en Jefe del Ej\\xc3\\xa9rcito, de la Armada , de la Fuerza A\\xc3\\xa9rea y al General Director de Carabineros en conformidad al art\\xc3\\xadculo 104, y disponer los nombramientos, ascensos y retiros de los Oficiales de las Fuerzas Armadas y de Carabineros en la forma que se\\xc3\\xb1ala el art\\xc3\\xadculo 105;17Disponer de las fuerzas de aire, mar y tierra, organizarlas y distribuirlas de acuerdo con las necesidades de la seguridad nacional;18Asumir, en caso de guerra, la jefatura suprema de las Fuerza Armadas;19Declarar la guerra, previa autorizaci\\xc3\\xb3n por ley, debiendo dejar constancia de haber o\\xc3\\xaddo al Consejo de Seguridad Nacional, y20Cuidar de la recaudaci\\xc3\\xb3n de las rentas p\\xc3\\xbablicas y decretar su inversi\\xc3\\xb3n con arreglo a la ley. El Presidente de la Rep\\xc3\\xbablica , con la firma de todos los Ministros de Estado, podr\\xc3\\xa1 decretar pagos no autorizados por ley, para atender necesidades impostergables derivadas de calamidades p\\xc3\\xbablicas, de agresi\\xc3\\xb3n exterior, de conmoci\\xc3\\xb3n interna, de grave da\\xc3\\xb1o o peligro para la seguridad nacional o del agotamiento de los recursos destinados a mantener servicios que no puedan paralizarse sin serio perjuicio para el pa\\xc3\\xads. El total de los giros que se hagan con estos objetos no podr\\xc3\\xa1 exceder anualmente del dos por ciento (2%) del monto de los gastos que autorice la Ley de Presupuestos. Se podr\\xc3\\xa1 contratar empleados con cargo a esta misma ley, pero sin que el \\xc3\\xadtem respectivo pueda ser incrementado ni disminuido mediante traspasos. Los Ministros de Estado o funcionarios que autoricen o den curso a gastos que contravengan lo dispuesto en este n\\xc3\\xbamero ser\\xc3\\xa1n responsables solidaria y personalmente de su reintegro, y culpables del delito de malversaci\\xc3\\xb3n de caudales p\\xc3\\xbablicos.  Ministros de Estado\",27 de agosto de 2020,Ley N\\xc2\\xba 21.257\\r\\nCap\\xc3\\xadtulo IV, Gobierno,33,\"Los Ministros de Estado son los colaboradores directos e inmediatos del Presidente de la Rep\\xc3\\xbablica en el gobierno y administraci\\xc3\\xb3n del Estado.La ley determinara el n\\xc3\\xbamero y organizaci\\xc3\\xb3n de los Ministerios, como tambi\\xc3\\xa9n el orden de precedencia de los Ministros titulares.El Presidente de la Rep\\xc3\\xbablica podr\\xc3\\xa1 encomendar a uno o m\\xc3\\xa1s Ministros la coordinaci\\xc3\\xb3n de la labor que corresponde a los Secretarios de Estado y las relaciones del Gobierno con el Congreso Nacional.\",27 de agosto de 2020,Ley N\\xc2\\xba 21.257\\r\\nCap\\xc3\\xadtulo IV, Gobierno,34,\"Para ser nombrado Ministro se requiere ser chileno, tener cumplidos veinti\\xc3\\xban a\\xc3\\xb1os de edad y reunir los requisitos generales para el ingreso a la Administraci\\xc3\\xb3n P\\xc3\\xbablica.En los casos de ausencia, impedimento o renuncia de un Ministro, o cuando por otra causa se produzca la vacancia del cargo, ser\\xc3\\xa1 reemplazado en la forma que establezca la ley.\",27 de agosto de 2020,Ley N\\xc2\\xba 21.257\\r\\nCap\\xc3\\xadtulo IV, Gobierno,35,\"Los reglamentos y decretos del Presidente de la Rep\\xc3\\xbablica deber\\xc3\\xa1n firmarse por el Ministro respectivo y no ser\\xc3\\xa1n obedecidos sin este esencial requisito.Los decretos e instrucciones podr\\xc3\\xa1n expedirse con la sola firma del Ministro respectivo, por orden del Presidente de la Rep\\xc3\\xbablica , en conformidad a las normas que al efecto establezca la ley.\",27 de agosto de 2020,Ley N\\xc2\\xba 21.257\\r\\nCap\\xc3\\xadtulo IV, Gobierno,36,Los Ministros ser\\xc3\\xa1n responsables individualmente de los actos que firmaren y solidariamente de los que suscribieren o acordaren con los otros Ministros.,27 de agosto de 2020,Ley N\\xc2\\xba 21.257\\r\\nCap\\xc3\\xadtulo IV, Gobierno,37,\"Los Ministros podr\\xc3\\xa1n, cuando lo estimaren conveniente, asistir a las sesiones de la C\\xc3\\xa1mara de Diputados o del Senado, y tomar parte en sus debates, con preferencia para hacer uso de la palabra, pero sin derecho a voto. Durante la votaci\\xc3\\xb3n podr\\xc3\\xa1n, sin embargo, rectificar los conceptos emitidos por cualquier diputado o senador al fundamentar su voto.Sin perjuicio de lo anterior, los Ministros deber\\xc3\\xa1n concurrir personalmente a las sesiones especiales que la C\\xc3\\xa1mara de Diputados o el Senado convoquen para informarse sobre asuntos que, perteneciendo al \\xc3\\xa1mbito de atribuciones de las correspondientes Secretar\\xc3\\xadas de Estado, acuerden tratar.\",27 de agosto de 2020,Ley N\\xc2\\xba 21.257\\r\\nCap\\xc3\\xadtulo IV, Gobierno,37,\"bis. A los Ministros les ser\\xc3\\xa1n aplicables las incompatibilidades establecidas en el inciso primero del art\\xc3\\xadculo 58. Por el solo hecho de aceptar el nombramiento, el Ministro cesar\\xc3\\xa1 en el cargo, empleo, funci\\xc3\\xb3n o comisi\\xc3\\xb3n incompatible que desempe\\xc3\\xb1e. Durante el ejercicio de su cargo, los Ministros estar\\xc3\\xa1n sujetos a la prohibici\\xc3\\xb3n de celebrar o caucionar contratos con el Estado, actuar como abogados o mandatarios en cualquier clase de juicio o como procurador o agente en gestiones particulares de car\\xc3\\xa1cter administrativo, ser director de bancos o de alguna sociedad an\\xc3\\xb3nima y ejercer cargos de similar importancia en estas actividades.  Bases generales de la Administraci\\xc3\\xb3n del Estado\",27 de agosto de 2020,Ley N\\xc2\\xba 21.257\\r\\nCap\\xc3\\xadtulo IV, Gobierno,38,\"Una ley org\\xc3\\xa1nica constitucional determinar\\xc3\\xa1 la organizaci\\xc3\\xb3n b\\xc3\\xa1sica de la Administraci\\xc3\\xb3n P\\xc3\\xbablica , garantizar\\xc3\\xa1 la carrera funcionaria y los principios de car\\xc3\\xa1cter t\\xc3\\xa9cnico y profesional en que deba fundarse, y asegurar\\xc3\\xa1 tanto la igualdad de oportunidades de ingreso a ella como la capacitaci\\xc3\\xb3n y el perfeccionamiento de sus integrantes.Cualquier persona que sea lesionada en sus derechos por la Administraci\\xc3\\xb3n del Estado, de sus organismos o de las municipalidades, podr\\xc3\\xa1 reclamar ante los tribunales que determine la ley, sin perjuicio de la responsabilidad que pudiere afectar al funcionario que hubiere causado el da\\xc3\\xb1o.\",27 de agosto de 2020,Ley N\\xc2\\xba 21.257\\r\\nCap\\xc3\\xadtulo IV, Gobierno,38,\"bisLas remuneraciones del Presidente de la Rep\\xc3\\xbablica, de los senadores y diputados, de los gobernadores regionales, de los funcionarios de exclusiva confianza del Jefe del Estado que se\\xc3\\xb1alan los n\\xc3\\xbameros 7\\xc2\\xb0 y 10\\xc2\\xb0 del art\\xc3\\xadculo 32 y de los contratados sobre la base de honorarios que asesoren directamente a las autoridades gubernativas ya indicadas, ser\\xc3\\xa1n fijadas, cada cuatro a\\xc3\\xb1os y con a lo menos dieciocho meses de anticipaci\\xc3\\xb3n al t\\xc3\\xa9rmino de un per\\xc3\\xadodo presidencial, por una comisi\\xc3\\xb3n cuyo funcionamiento, organizaci\\xc3\\xb3n, funciones y atribuciones establecer\\xc3\\xa1 una ley org\\xc3\\xa1nica constitucional. La comisi\\xc3\\xb3n estar\\xc3\\xa1 integrada por las siguientes personas:  a) Un ex Ministro de Hacienda.  b) Un ex Consejero del Banco Central. c) Un ex Contralor o Subcontralor de la Contralor\\xc3\\xada General de la Rep\\xc3\\xbablica.  d) Un ex Presidente de una de las ramas que integran el Congreso Nacional.  e) Un ex Director Nacional del Servicio Civil. Sus integrantes ser\\xc3\\xa1n designados por el Presidente de la Rep\\xc3\\xbablica con el acuerdo de los dos tercios de los senadores en ejercicio.Los acuerdos de la comisi\\xc3\\xb3n ser\\xc3\\xa1n p\\xc3\\xbablicos, se fundar\\xc3\\xa1n en antecedentes t\\xc3\\xa9cnicos y deber\\xc3\\xa1n establecer una remuneraci\\xc3\\xb3n que garantice una retribuci\\xc3\\xb3n adecuada a la responsabilidad del cargo y la independencia para cumplir sus funciones y atribuciones. Estados de excepci\\xc3\\xb3n constitucional\",27 de agosto de 2020,Ley N\\xc2\\xba 21.257\\r\\nCap\\xc3\\xadtulo IV, Gobierno,39,\"El ejercicio de los derechos y garant\\xc3\\xadas que la Constituci\\xc3\\xb3n asegura a todas las personas s\\xc3\\xb3lo puede ser afectado bajo las siguientes situaciones de excepci\\xc3\\xb3n: guerra externa o interna, conmoci\\xc3\\xb3n interior, emergencia y calamidad p\\xc3\\xbablica, cuando afecten gravemente el normal desenvolvimiento de las instituciones del Estado.\",27 de agosto de 2020,Ley N\\xc2\\xba 21.257\\r\\nCap\\xc3\\xadtulo IV, Gobierno,40,\"El estado de asamblea, en caso de guerra exterior, y el estado de sitio, en caso de guerra interna o grave conmoci\\xc3\\xb3n interior, lo declarar\\xc3\\xa1 el Presidente de la Rep\\xc3\\xbablica , con acuerdo del Congreso Nacional. La declaraci\\xc3\\xb3n deber\\xc3\\xa1 determinar las zonas afectadas por el estado de excepci\\xc3\\xb3n correspondiente.El Congreso Nacional, dentro del plazo de cinco d\\xc3\\xadas contado desde la fecha en que el Presidente de la Rep\\xc3\\xbablica someta la declaraci\\xc3\\xb3n de estado de asamblea o de sitio a su consideraci\\xc3\\xb3n, deber\\xc3\\xa1 pronunciarse aceptando o rechazando la proposici\\xc3\\xb3n, sin que pueda introducirle modificaciones. Si el Congreso no se pronunciara dentro de dicho plazo, se entender\\xc3\\xa1 que aprueba la proposici\\xc3\\xb3n del Presidente.Sin embargo, el Presidente de la Rep\\xc3\\xbablica podr\\xc3\\xa1 aplicar el estado de asamblea o de sitio de inmediato mientras el Congreso se pronuncia sobre la declaraci\\xc3\\xb3n, pero en este \\xc3\\xbaltimo estado s\\xc3\\xb3lo podr\\xc3\\xa1 restringir el ejercicio del derecho de reuni\\xc3\\xb3n. Las medidas que adopte el Presidente de la Rep\\xc3\\xbablica en tanto no se re\\xc3\\xbana el Congreso Nacional, podr\\xc3\\xa1n ser objeto de revisi\\xc3\\xb3n por los tribunales de justicia, sin que sea aplicable, entre tanto, lo dispuesto en el art\\xc3\\xadculo 45.La declaraci\\xc3\\xb3n de estado de sitio s\\xc3\\xb3lo podr\\xc3\\xa1 hacerse por un plazo de quince d\\xc3\\xadas, sin perjuicio de que el Presidente de la Rep\\xc3\\xbablica solicite su pr\\xc3\\xb3rroga. El estado de asamblea mantendr\\xc3\\xa1 su vigencia por el tiempo que se extienda la situaci\\xc3\\xb3n de guerra exterior, salvo que el Presidente de la Rep\\xc3\\xbablica disponga su suspensi\\xc3\\xb3n con anterioridad.\",27 de agosto de 2020,Ley N\\xc2\\xba 21.257\\r\\nCap\\xc3\\xadtulo IV, Gobierno,41,\"El estado de cat\\xc3\\xa1strofe, en caso de calamidad p\\xc3\\xbablica, lo declarar\\xc3\\xa1 el Presidente de la Rep\\xc3\\xbablica , determinando la zona afectada por la misma.El Presidente de la Rep\\xc3\\xbablica estar\\xc3\\xa1 obligado a informar al Congreso Nacional de las medidas adoptadas en virtud del estado de cat\\xc3\\xa1strofe. El Congreso Nacional podr\\xc3\\xa1 dejar sin efecto la declaraci\\xc3\\xb3n transcurridos ciento ochenta d\\xc3\\xadas desde \\xc3\\xa9sta si las razones que la motivaron hubieran cesado en forma absoluta. Con todo, el Presidente de la Rep\\xc3\\xbablica s\\xc3\\xb3lo podr\\xc3\\xa1 declarar el estado de cat\\xc3\\xa1strofe por un per\\xc3\\xadodo superior a un a\\xc3\\xb1o con acuerdo del Congreso Nacional. El referido acuerdo se tramitar\\xc3\\xa1 en la forma establecida en el inciso segundo del art\\xc3\\xadculo 40.Declarado el estado de cat\\xc3\\xa1strofe, las zonas respectivas quedar\\xc3\\xa1n bajo la dependencia inmediata del Jefe de la Defensa Nacional que designe el Presidente de la Rep\\xc3\\xbablica. Este asumir\\xc3\\xa1 la direcci\\xc3\\xb3n y supervigilancia de su jurisdicci\\xc3\\xb3n con las atribuciones y deberes que la ley se\\xc3\\xb1ale.\",27 de agosto de 2020,Ley N\\xc2\\xba 21.257\\r\\nCap\\xc3\\xadtulo IV, Gobierno,42,\"El estado de emergencia, en caso de grave alteraci\\xc3\\xb3n del orden p\\xc3\\xbablico o de grave da\\xc3\\xb1o para la seguridad de la Naci\\xc3\\xb3n , lo declarar\\xc3\\xa1 el Presidente de la Rep\\xc3\\xbablica , determinando las zonas afectadas por dichas circunstancias. El estado de emergencia no podr\\xc3\\xa1 extenderse por m\\xc3\\xa1s de quince d\\xc3\\xadas, sin perjuicio de que el Presidente de la Rep\\xc3\\xbablica pueda prorrogarlo por igual per\\xc3\\xadodo. Sin embargo, para sucesivas pr\\xc3\\xb3rrogas, el Presidente requerir\\xc3\\xa1 siempre del acuerdo del Congreso Nacional. El referido acuerdo se tramitar\\xc3\\xa1 en la forma establecida en el inciso segundo del art\\xc3\\xadculo 40.Declarado el estado de emergencia, las zonas respectivas quedar\\xc3\\xa1n bajo la dependencia inmediata del Jefe de la Defensa Nacional que designe el Presidente de la Rep\\xc3\\xbablica. Este asumir\\xc3\\xa1 la direcci\\xc3\\xb3n y supervigilancia de su jurisdicci\\xc3\\xb3n con las atribuciones y deberes que la ley se\\xc3\\xb1ale.El Presidente de la Rep\\xc3\\xbablica estar\\xc3\\xa1 obligado a informar al Congreso Nacional de las medidas adoptadas en virtud del estado de emergencia.\",27 de agosto de 2020,Ley N\\xc2\\xba 21.257\\r\\nCap\\xc3\\xadtulo IV, Gobierno,43,\"Por la declaraci\\xc3\\xb3n del estado de asamblea, el Presidente de la Rep\\xc3\\xbablica queda facultado para suspender o restringir la libertad personal, el derecho de reuni\\xc3\\xb3n y la libertad de trabajo. Podr\\xc3\\xa1, tambi\\xc3\\xa9n, restringir el ejercicio del derecho de asociaci\\xc3\\xb3n, interceptar, abrir o registrar documentos y toda clase de comunicaciones, disponer requisiciones de bienes y establecer limitaciones al ejercicio del derecho de propiedad.Por la declaraci\\xc3\\xb3n de estado de sitio, el Presidente de la Rep\\xc3\\xbablica podr\\xc3\\xa1 restringir la libertad de locomoci\\xc3\\xb3n y arrestar a las personas en sus propias moradas o en lugares que la ley determine y que no sean c\\xc3\\xa1rceles ni est\\xc3\\xa9n destinados a la detenci\\xc3\\xb3n o prisi\\xc3\\xb3n de reos comunes. Podr\\xc3\\xa1, adem\\xc3\\xa1s, suspender o restringir el ejercicio del derecho de reuni\\xc3\\xb3n.Por la declaraci\\xc3\\xb3n del estado de cat\\xc3\\xa1strofe, el Presidente de la Rep\\xc3\\xbablica podr\\xc3\\xa1 restringir las libertades de locomoci\\xc3\\xb3n y de reuni\\xc3\\xb3n. Podr\\xc3\\xa1, asimismo, disponer requisiciones de bienes, establecer limitaciones al ejercicio del derecho de propiedad y adoptar todas las medidas extraordinarias de car\\xc3\\xa1cter administrativo que sean necesarias para el pronto restablecimiento de la normalidad en la zona afectada.Por la declaraci\\xc3\\xb3n del estado de emergencia, el Presidente de la Rep\\xc3\\xbablica podr\\xc3\\xa1 restringir las libertades de locomoci\\xc3\\xb3n y de reuni\\xc3\\xb3n.\",27 de agosto de 2020,Ley N\\xc2\\xba 21.257\\r\\nCap\\xc3\\xadtulo IV, Gobierno,44,\"Una ley org\\xc3\\xa1nica constitucional regular\\xc3\\xa1 los estados de excepci\\xc3\\xb3n, as\\xc3\\xad como su declaraci\\xc3\\xb3n y la aplicaci\\xc3\\xb3n de las medidas legales y administrativas que procediera adoptar bajo aqu\\xc3\\xa9llos. Dicha ley contemplar\\xc3\\xa1 lo estrictamente necesario para el pronto restablecimiento de la normalidad constitucional y no podr\\xc3\\xa1 afectar las competencias y el funcionamiento de los \\xc3\\xb3rganos constitucionales ni los derechos e inmunidades de sus respectivos titulares.Las medidas que se adopten durante los estados de excepci\\xc3\\xb3n no podr\\xc3\\xa1n, bajo ninguna circunstancia, prolongarse m\\xc3\\xa1s all\\xc3\\xa1 de la vigencia de los mismos.\",27 de agosto de 2020,Ley N\\xc2\\xba 21.257\\r\\nCap\\xc3\\xadtulo IV, Gobierno,45,\"Los tribunales de justicia no podr\\xc3\\xa1n calificar los fundamentos ni las circunstancias de hecho invocados por la autoridad para decretar los estados de excepci\\xc3\\xb3n, sin perjuicio de lo dispuesto en el art\\xc3\\xadculo 39. No obstante, respecto de las medidas particulares que afecten derechos constitucionales, siempre existir\\xc3\\xa1 la garant\\xc3\\xada de recurrir ante las autoridades judiciales a trav\\xc3\\xa9s de los recursos que corresponda.Las requisiciones que se practiquen dar\\xc3\\xa1n lugar a indemnizaciones en conformidad a la ley. Tambi\\xc3\\xa9n dar\\xc3\\xa1n derecho a indemnizaci\\xc3\\xb3n las limitaciones que se impongan al derecho de propiedad cuando importen privaci\\xc3\\xb3n de alguno de sus atributos o facultades esenciales y con ello se cause da\\xc3\\xb1o.\",27 de agosto de 2020,Ley N\\xc2\\xba 21.257\\r\\nCap\\xc3\\xadtulo V, Congreso Nacional,46,El Congreso Nacional se compone de dos ramas: la C\\xc3\\xa1mara de Diputados y el Senado. Ambas concurren a la formaci\\xc3\\xb3n de las leyes en conformidad a esta Constituci\\xc3\\xb3n y tienen las dem\\xc3\\xa1s atribuciones que ella establece.  Composici\\xc3\\xb3n y generaci\\xc3\\xb3n de la C\\xc3\\xa1mara de Diputados y del Senado,27 de agosto de 2020,Ley N\\xc2\\xba 21.257\\r\\nCap\\xc3\\xadtulo V, Congreso Nacional,47,\"La C\\xc3\\xa1mara de Diputados est\\xc3\\xa1 integrada por miembros elegidos en votaci\\xc3\\xb3n directa por distritos electorales. La ley org\\xc3\\xa1nica constitucional respectiva determinar\\xc3\\xa1 el n\\xc3\\xbamero de diputados, los distritos electorales y la forma de su elecci\\xc3\\xb3n.\",27 de agosto de 2020,Ley N\\xc2\\xba 21.257\\r\\nCap\\xc3\\xadtulo V, Congreso Nacional,48,\"Para ser elegido diputado se requiere ser ciudadano con derecho a sufragio, tener cumplidos veinti\\xc3\\xban a\\xc3\\xb1os de edad, haber cursado la ense\\xc3\\xb1anza media o equivalente, y tener residencia en la regi\\xc3\\xb3n a que pertenezca el distrito electoral correspondiente durante un plazo no inferior a dos a\\xc3\\xb1os, contado hacia atr\\xc3\\xa1s desde el d\\xc3\\xada de la elecci\\xc3\\xb3n.\",27 de agosto de 2020,Ley N\\xc2\\xba 21.257\\r\\nCap\\xc3\\xadtulo V, Congreso Nacional,49,\"El Senado se compone de miembros elegidos en votaci\\xc3\\xb3n directa por circunscripciones senatoriales, en consideraci\\xc3\\xb3n a las regiones del pa\\xc3\\xads, cada una de las cuales constituir\\xc3\\xa1, a lo menos, una circunscripci\\xc3\\xb3n. La ley org\\xc3\\xa1nica constitucional respectiva determinar\\xc3\\xa1 el n\\xc3\\xbamero de Senadores, las circunscripciones senatoriales y la forma de su elecci\\xc3\\xb3n. Los senadores durar\\xc3\\xa1n ocho a\\xc3\\xb1os en su cargo y se renovar\\xc3\\xa1n alternadamente cada cuatro a\\xc3\\xb1os, en la forma que determine la ley org\\xc3\\xa1nica constitucional respectiva.\",27 de agosto de 2020,Ley N\\xc2\\xba 21.257\\r\\nCap\\xc3\\xadtulo V, Congreso Nacional,50,\"Para ser elegido senador se requiere ser ciudadano con derecho a sufragio, haber cursado la ense\\xc3\\xb1anza media o equivalente y tener cumplidos treinta y cinco a\\xc3\\xb1os de edad el d\\xc3\\xada de la elecci\\xc3\\xb3n.\",27 de agosto de 2020,Ley N\\xc2\\xba 21.257\\r\\nCap\\xc3\\xadtulo V, Congreso Nacional,51,\"Se entender\\xc3\\xa1 que los diputados tienen, por el solo ministerio de la ley, su residencia en la regi\\xc3\\xb3n correspondiente, mientras se encuentren en ejercicio de su cargo.Las elecciones de diputados y de senadores se efectuar\\xc3\\xa1n conjuntamente.Los diputados podr\\xc3\\xa1n ser reelegidos sucesivamente en el cargo hasta por dos per\\xc3\\xadodos; los senadores podr\\xc3\\xa1n ser reelegidos sucesivamente en el cargo hasta por un per\\xc3\\xadodo. Para estos efectos se entender\\xc3\\xa1 que los diputados y senadores han ejercido su cargo durante un per\\xc3\\xadodo cuando han cumplido m\\xc3\\xa1s de la mitad de su mandato.Las vacantes de diputados y las de senadores se proveer\\xc3\\xa1n con el ciudadano que se\\xc3\\xb1ale el partido pol\\xc3\\xadtico al que pertenec\\xc3\\xada el parlamentario que produjo la vacante al momento de ser elegido.Los parlamentarios elegidos como independientes no ser\\xc3\\xa1n reemplazados.Los parlamentarios elegidos como independientes que hubieren postulado integrando lista en conjunto con uno o m\\xc3\\xa1s partidos pol\\xc3\\xadticos, ser\\xc3\\xa1n reemplazados por el ciudadano que se\\xc3\\xb1ale el partido indicado por el respectivo parlamentario al momento de presentar su declaraci\\xc3\\xb3n de candidatura.El reemplazante deber\\xc3\\xa1 reunir los requisitos para ser elegido diputado o senador, seg\\xc3\\xban el caso. Con todo, un diputado podr\\xc3\\xa1 ser nominado para ocupar el puesto de un senador, debiendo aplicarse, en ese caso, las normas de los incisos anteriores para llenar la vacante que deja el diputado, quien al asumir su nuevo cargo cesar\\xc3\\xa1 en el que ejerc\\xc3\\xada.El nuevo diputado o senador ejercer\\xc3\\xa1 sus funciones por el t\\xc3\\xa9rmino que faltaba a quien origin\\xc3\\xb3 la vacante.En ning\\xc3\\xban caso proceder\\xc3\\xa1n elecciones complementarias.  Atribuciones exclusivas de la C\\xc3\\xa1mara de Diputados\",27 de agosto de 2020,Ley N\\xc2\\xba 21.257\\r\\nCap\\xc3\\xadtulo V, Congreso Nacional,52,\"Son atribuciones exclusivas de la C\\xc3\\xa1mara de Diputados:1) Fiscalizar los actos del Gobierno. Para ejercer esta atribuci\\xc3\\xb3n la C\\xc3\\xa1mara puede:a) Adoptar acuerdos o sugerir observaciones, con el voto de la mayor\\xc3\\xada de los diputados presentes, los que se transmitir\\xc3\\xa1n por escrito al Presidente de la Rep\\xc3\\xbablica , quien deber\\xc3\\xa1 dar respuesta fundada por medio del Ministro de Estado que corresponda, dentro de treinta d\\xc3\\xadas.Sin perjuicio de lo anterior, cualquier diputado, con el voto favorable de un tercio de los miembros presentes de la C\\xc3\\xa1mara , podr\\xc3\\xa1 solicitar determinados antecedentes al Gobierno. El Presidente de la Rep\\xc3\\xbablica contestar\\xc3\\xa1 fundadamente por intermedio del Ministro de Estado que corresponda, dentro del mismo plazo se\\xc3\\xb1alado en el p\\xc3\\xa1rrafo anterior.En ning\\xc3\\xban caso los acuerdos, observaciones o solicitudes de antecedentes afectar\\xc3\\xa1n la responsabilidad pol\\xc3\\xadtica de los Ministros de Estado;b) Citar a un Ministro de Estado, a petici\\xc3\\xb3n de a lo menos un tercio de los diputados en ejercicio, a fin de formularle preguntas en relaci\\xc3\\xb3n con materias vinculadas al ejercicio de su cargo. Con todo, un mismo Ministro no podr\\xc3\\xa1 ser citado para este efecto m\\xc3\\xa1s de tres veces dentro de un a\\xc3\\xb1o calendario, sin previo acuerdo de la mayor\\xc3\\xada absoluta de los diputados en ejercicio.La asistencia del Ministro ser\\xc3\\xa1 obligatoria y deber\\xc3\\xa1 responder a las preguntas y consultas que motiven su citaci\\xc3\\xb3n, yc) Crear comisiones especiales investigadoras a petici\\xc3\\xb3n de a lo menos dos quintos de los diputados en ejercicio, con el objeto de reunir informaciones relativas a determinados actos del Gobierno.Las comisiones investigadoras, a petici\\xc3\\xb3n de un tercio de sus miembros, podr\\xc3\\xa1n despachar citaciones y solicitar antecedentes. Los Ministros de Estado, los dem\\xc3\\xa1s funcionarios de la Administraci\\xc3\\xb3n y el personal de las empresas del Estado o de aqu\\xc3\\xa9llas en que \\xc3\\xa9ste tenga participaci\\xc3\\xb3n mayoritaria, que sean citados por estas comisiones, estar\\xc3\\xa1n obligados a comparecer y a suministrar los antecedentes y las informaciones que se les soliciten.No obstante, los Ministros de Estado no podr\\xc3\\xa1n ser citados m\\xc3\\xa1s de tres veces a una misma comisi\\xc3\\xb3n investigadora, sin previo acuerdo de la mayor\\xc3\\xada absoluta de sus miembros.La ley org\\xc3\\xa1nica constitucional del Congreso Nacional regular\\xc3\\xa1 el funcionamiento y las atribuciones de las comisiones investigadoras y la forma de proteger los derechos de las personas citadas o mencionadas en ellas.2) Declarar si han o no lugar las acusaciones que no menos de diez ni m\\xc3\\xa1s de veinte de sus miembros formulen en contra de las siguientes personas:a) Del Presidente de la Rep\\xc3\\xbablica , por actos de su administraci\\xc3\\xb3n que hayan comprometido gravemente el honor o la seguridad de la Naci\\xc3\\xb3n , o infringido abiertamente la Constituci\\xc3\\xb3n o las leyes. Esta acusaci\\xc3\\xb3n podr\\xc3\\xa1 interponerse mientras el Presidente est\\xc3\\xa9 en funciones y en los seis meses siguientes a su expiraci\\xc3\\xb3n en el cargo. Durante este \\xc3\\xbaltimo tiempo no podr\\xc3\\xa1 ausentarse de la Rep\\xc3\\xbablica sin acuerdo de la C\\xc3\\xa1mara ;b) De los Ministros de Estado, por haber comprometido gravemente el honor o la seguridad de la Naci\\xc3\\xb3n , por infringir la Constituci\\xc3\\xb3n o las leyes o haber dejado \\xc3\\xa9stas sin ejecuci\\xc3\\xb3n, y por los delitos de traici\\xc3\\xb3n, concusi\\xc3\\xb3n, malversaci\\xc3\\xb3n de fondos p\\xc3\\xbablicos y soborno;c) De los magistrados de los tribunales superiores de justicia y del Contralor General de la Rep\\xc3\\xbablica , por notable abandono de sus deberes;d) De los generales o almirantes de las instituciones pertenecientes a las Fuerzas de la Defensa Nacional , por haber comprometido gravemente el honor o la seguridad de la Naci\\xc3\\xb3n , y e) De los delegados presidenciales regionales, delegados presidenciales provinciales y de la autoridad que ejerza el Gobierno en los territorios especiales a que se refiere el art\\xc3\\xadculo 126 bis, por infracci\\xc3\\xb3n de la Constituci\\xc3\\xb3n y por los delitos de traici\\xc3\\xb3n, sedici\\xc3\\xb3n, malversaci\\xc3\\xb3n de fondos p\\xc3\\xbablicos y concusi\\xc3\\xb3n. La acusaci\\xc3\\xb3n se tramitar\\xc3\\xa1 en conformidad a la ley org\\xc3\\xa1nica constitucional relativa al Congreso.Las acusaciones referidas en las letras b), c), d) y e) podr\\xc3\\xa1n interponerse mientras el afectado est\\xc3\\xa9 en funciones o en los tres meses siguientes a la expiraci\\xc3\\xb3n en su cargo. Interpuesta la acusaci\\xc3\\xb3n, el afectado no podr\\xc3\\xa1 ausentarse del pa\\xc3\\xads sin permiso de la C\\xc3\\xa1mara y no podr\\xc3\\xa1 hacerlo en caso alguno si la acusaci\\xc3\\xb3n ya estuviere aprobada por ella.Para declarar que ha lugar la acusaci\\xc3\\xb3n en contra del Presidente de la Rep\\xc3\\xbablicao de un gobernador regional se necesitar\\xc3\\xa1 el voto de la mayor\\xc3\\xada de los diputados en ejercicio.En los dem\\xc3\\xa1s casos se requerir\\xc3\\xa1 el de la mayor\\xc3\\xada de los diputados presentes y el acusado quedar\\xc3\\xa1 suspendido en sus funciones desde el momento en que la C\\xc3\\xa1mara declare que ha lugar la acusaci\\xc3\\xb3n. La suspensi\\xc3\\xb3n cesar\\xc3\\xa1 si el Senado desestimare la acusaci\\xc3\\xb3n o si no se pronunciare dentro de los treinta d\\xc3\\xadas siguientes.  Atribuciones exclusivas del Senado\",27 de agosto de 2020,Ley N\\xc2\\xba 21.257\\r\\nCap\\xc3\\xadtulo V, Congreso Nacional,53,\"Son atribuciones exclusivas del Senado:1) Conocer de las acusaciones que la C\\xc3\\xa1mara de Diputados entable con arreglo al art\\xc3\\xadculo anterior.El Senado resolver\\xc3\\xa1 como jurado y se limitar\\xc3\\xa1 a declarar si el acusado es o no culpable del delito, infracci\\xc3\\xb3n o abuso de poder que se le imputa.La declaraci\\xc3\\xb3n de culpabilidad deber\\xc3\\xa1 ser pronunciada por los dos tercios de los senadores en ejercicio cuando se trate de una acusaci\\xc3\\xb3n en contra del Presidente de la Rep\\xc3\\xbablica o de un gobernador regional, y por la mayor\\xc3\\xada de los senadores en ejercicio en los dem\\xc3\\xa1s casos.Por la declaraci\\xc3\\xb3n de culpabilidad queda el acusado destituido de su cargo, y no podr\\xc3\\xa1 desempe\\xc3\\xb1ar ninguna funci\\xc3\\xb3n p\\xc3\\xbablica, sea o no de elecci\\xc3\\xb3n popular, por el t\\xc3\\xa9rmino de cinco a\\xc3\\xb1os.El funcionario declarado culpable ser\\xc3\\xa1 juzgado de acuerdo a las leyes por el tribunal competente, tanto para la aplicaci\\xc3\\xb3n de la pena se\\xc3\\xb1alada al delito, si lo hubiere, cuanto para hacer efectiva la responsabilidad civil por los da\\xc3\\xb1os y perjuicios causados al Estado o a particulares;2) Decidir si ha o no lugar la admisi\\xc3\\xb3n de las acciones judiciales que cualquier persona pretenda iniciar en contra de alg\\xc3\\xban Ministro de Estado, con motivo de los perjuicios que pueda haber sufrido injustamente por acto de \\xc3\\xa9ste en el desempe\\xc3\\xb1o de su cargo;3) Conocer de las contiendas de competencia que se susciten entre las autoridades pol\\xc3\\xadticas o administrativas y los tribunales superiores de justicia;4) Otorgar la rehabilitaci\\xc3\\xb3n de la ciudadan\\xc3\\xada en el caso del art\\xc3\\xadculo 17, n\\xc3\\xba mero 3 \\xc2\\xb0 de esta Constituci\\xc3\\xb3n;5) Prestar o negar su consentimiento a los actos del Presidente de la Rep\\xc3\\xbablica , en los casos en que la Constituci\\xc3\\xb3n o la ley lo requieran.Si el Senado no se pronunciare dentro de treinta d\\xc3\\xadas despu\\xc3\\xa9s de pedida la urgencia por el Presidente de la Rep\\xc3\\xbablica , se tendr\\xc3\\xa1 por otorgado su asentimiento;6) Otorgar su acuerdo para que el Presidente de la Rep\\xc3\\xbablica pueda ausentarse del pa\\xc3\\xads por m\\xc3\\xa1s de treinta d\\xc3\\xadas o a contar del d\\xc3\\xada se\\xc3\\xb1alado en el inciso primero del art\\xc3\\xadculo 26;7) Declarar la inhabilidad del Presidente de la Rep\\xc3\\xbablica o del Presidente electo cuando un impedimento f\\xc3\\xadsico o mental lo inhabilite para el ejercicio de sus funciones; y declarar asimismo, cuando el Presidente de la Rep\\xc3\\xbablica haga dimisi\\xc3\\xb3n de su cargo, si los motivos que la originan son o no fundados y, en consecuencia, admitirla o desecharla. En ambos casos deber\\xc3\\xa1 o\\xc3\\xadr previamente al Tribunal Constitucional;8) Aprobar, por la mayor\\xc3\\xada de sus miembros en ejercicio, la declaraci\\xc3\\xb3n del Tribunal Constitucional a que se refiere la segunda parte del N 10 del art\\xc3\\xadculo 93;9) Aprobar, en sesi\\xc3\\xb3n especialmente convocada al efecto y con el voto conforme de los dos tercios de los senadores en ejercicio, la designaci\\xc3\\xb3n de los ministros y fiscales judiciales de la Corte Suprema y del Fiscal Nacional, y10) Dar su dictamen al Presidente de la Rep\\xc3\\xbablica en los casos en que \\xc3\\xa9ste lo solicite.El Senado, sus comisiones y sus dem\\xc3\\xa1s \\xc3\\xb3rganos, incluidos los comit\\xc3\\xa9s parlamentarios si los hubiere, no podr\\xc3\\xa1n fiscalizar los actos del Gobierno ni de las entidades que de \\xc3\\xa9l dependan, ni adoptar acuerdos que impliquen fiscalizaci\\xc3\\xb3n.  Atribuciones exclusivas del Congreso\",27 de agosto de 2020,Ley N\\xc2\\xba 21.257\\r\\nCap\\xc3\\xadtulo V, Congreso Nacional,54,\"Son atribuciones del Congreso:1) Aprobar o desechar los tratados internacionales que le presentare el Presidente de la Rep\\xc3\\xbablica antes de su ratificaci\\xc3\\xb3n. La aprobaci\\xc3\\xb3n de un tratado requerir\\xc3\\xa1, en cada C\\xc3\\xa1mara, de los qu\\xc3\\xb3rum que corresponda, en conformidad al art\\xc3\\xadculo 66, y se someter\\xc3\\xa1, en lo pertinente, a los tr\\xc3\\xa1mites de una ley.El Presidente de la Rep\\xc3\\xbablica informar\\xc3\\xa1 al Congreso sobre el contenido y el alcance del tratado, as\\xc3\\xad como de las reservas que pretenda confirmar o formularle.El Congreso podr\\xc3\\xa1 sugerir la formulaci\\xc3\\xb3n de reservas y declaraciones interpretativas a un tratado internacional, en el curso del tr\\xc3\\xa1mite de su aprobaci\\xc3\\xb3n, siempre que ellas procedan de conformidad a lo previsto en el propio tratado o en las normas generales de derecho internacional.Las medidas que el Presidente de la Rep\\xc3\\xbablica adopte o los acuerdos que celebre para el cumplimiento de un tratado en vigor no requerir\\xc3\\xa1n de nueva aprobaci\\xc3\\xb3n del Congreso, a menos que se trate de materias propias de ley. No requerir\\xc3\\xa1n de aprobaci\\xc3\\xb3n del Congreso los tratados celebrados por el Presidente de la Rep\\xc3\\xbablica en el ejercicio de su potestad reglamentaria.Las disposiciones de un tratado s\\xc3\\xb3lo podr\\xc3\\xa1n ser derogadas, modificadas o suspendidas en la forma prevista en los propios tratados o de acuerdo a las normas generales de derecho internacional.Corresponde al Presidente de la Rep\\xc3\\xbablica la facultad exclusiva para denunciar un tratado o retirarse de \\xc3\\xa9l, para lo cual pedir\\xc3\\xa1 la opini\\xc3\\xb3n de ambas C\\xc3\\xa1maras del Congreso, en el caso de tratados que hayan sido aprobados por \\xc3\\xa9ste. Una vez que la denuncia o el retiro produzca sus efectos en conformidad a lo establecido en el tratado internacional, \\xc3\\xa9ste dejar\\xc3\\xa1 de tener efecto en el orden jur\\xc3\\xaddico chileno.En el caso de la denuncia o el retiro de un tratado que fue aprobado por el Congreso, el Presidente de la Rep\\xc3\\xbablica deber\\xc3\\xa1 informar de ello a \\xc3\\xa9ste dentro de los quince d\\xc3\\xadas de efectuada la denuncia o el retiro.El retiro de una reserva que haya formulado el Presidente de la Rep\\xc3\\xbablica y que tuvo en consideraci\\xc3\\xb3n el Congreso Nacional al momento de aprobar un tratado, requerir\\xc3\\xa1 previo acuerdo de \\xc3\\xa9ste, de conformidad a lo establecido en la ley org\\xc3\\xa1nica constitucional respectiva. El Congreso Nacional deber\\xc3\\xa1 pronunciarse dentro del plazo de treinta d\\xc3\\xadas contados desde la recepci\\xc3\\xb3n del oficio en que se solicita el acuerdo pertinente. Si no se pronunciare dentro de este t\\xc3\\xa9rmino, se tendr\\xc3\\xa1 por aprobado el retiro de la reserva.De conformidad a lo establecido en la ley, deber\\xc3\\xa1 darse debida publicidad a hechos que digan relaci\\xc3\\xb3n con el tratado internacional, tales como su entrada en vigor, la formulaci\\xc3\\xb3n y retiro de reservas, las declaraciones interpretativas, las objeciones a una reserva y su retiro, la denuncia del tratado, el retiro, la suspensi\\xc3\\xb3n, la terminaci\\xc3\\xb3n y la nulidad del mismo.En el mismo acuerdo aprobatorio de un tratado podr\\xc3\\xa1 el Congreso autorizar al Presidente de la Rep\\xc3\\xbablica a fin de que, durante la vigencia de aqu\\xc3\\xa9l, dicte las disposiciones con fuerza de ley que estime necesarias para su cabal cumplimiento, siendo en tal caso aplicable lo dispuesto en los incisos segundo y siguientes del art\\xc3\\xadculo 64, y2) Pronunciarse, cuando corresponda, respecto de los estados de excepci\\xc3\\xb3n constitucional, en la forma prescrita por el inciso segundo del art\\xc3\\xadculo 40.  Funcionamiento del Congreso\",27 de agosto de 2020,Ley N\\xc2\\xba 21.257\\r\\nCap\\xc3\\xadtulo V, Congreso Nacional,55,\"El Congreso Nacional se instalar\\xc3\\xa1 e iniciar\\xc3\\xa1 su per\\xc3\\xadodo de sesiones en la forma que determine su ley org\\xc3\\xa1nica constitucional.En todo caso, se entender\\xc3\\xa1 siempre convocado de pleno derecho para conocer de la declaraci\\xc3\\xb3n de estados de excepci\\xc3\\xb3n constitucional.La ley org\\xc3\\xa1nica constitucional se\\xc3\\xb1alada en el inciso primero, regular\\xc3\\xa1 la tramitaci\\xc3\\xb3n de las acusaciones constitucionales, la calificaci\\xc3\\xb3n de las urgencias conforme lo se\\xc3\\xb1alado en el art\\xc3\\xadculo 74 y todo lo relacionado con la tramitaci\\xc3\\xb3n interna de la ley.\",27 de agosto de 2020,Ley N\\xc2\\xba 21.257\\r\\nCap\\xc3\\xadtulo V, Congreso Nacional,56,La C\\xc3\\xa1mara de Diputados y el Senado no podr\\xc3\\xa1n entrar en sesi\\xc3\\xb3n ni adoptar acuerdos sin la concurrencia de la tercera parte de sus miembros en ejercicio.Cada una de las C\\xc3\\xa1maras establecer\\xc3\\xa1 en su propio reglamento la clausura del debate por simple mayor\\xc3\\xada.,27 de agosto de 2020,Ley N\\xc2\\xba 21.257\\r\\nCap\\xc3\\xadtulo V, Congreso Nacional,56,\"bis Durante el mes de julio de cada a\\xc3\\xb1o, el Presidente del Senado y el Presidente de la C\\xc3\\xa1mara de Diputados dar\\xc3\\xa1n cuenta p\\xc3\\xbablica al pa\\xc3\\xads, en sesi\\xc3\\xb3n del Congreso Pleno, de las actividades realizadas por las Corporaciones que presiden. El Reglamento de cada C\\xc3\\xa1mara determinar\\xc3\\xa1 el contenido de dicha cuenta y regular\\xc3\\xa1 la forma de cumplir esta obligaci\\xc3\\xb3n  Normas comunes para los diputados y senadores\",27 de agosto de 2020,Ley N\\xc2\\xba 21.257\\r\\nCap\\xc3\\xadtulo V, Congreso Nacional,57,\"No pueden ser candidatos a diputadosni a senadores:1) Los Ministros de Estado;2) Los gobernadores regionales, los delegados presidenciales regionales, los delegados presidenciales provinciales, los alcaldes, los consejeros regionales, los concejales y los subsecretarios;3) Los miembros del Consejo del Banco Central;4) Los magistrados de los tribunales superiores de justicia y los jueces de letras;5) Los miembros del Tribunal Constitucional, del Tribunal Calificador de Elecciones y de los tribunales electorales regionales;6) El Contralor General de la Rep\\xc3\\xbablica ;7) Las personas que desempe\\xc3\\xb1an un cargo directivo de naturaleza gremial o vecinal;8) Las personas naturales y los gerentes o administradores de personas jur\\xc3\\xaddicas que celebren o caucionen contratos con el Estado;9) El Fiscal Nacional, los fiscales regionales y los fiscales adjuntos del Ministerio P\\xc3\\xbablico, y10) Los Comandantes en Jefe del Ej\\xc3\\xa9rcito, de la Armada y de la Fuerza A\\xc3\\xa9rea , el General Director de Carabineros, el Director General de la Polic\\xc3\\xada de Investigaciones y los oficiales pertenecientes a las Fuerzas Armadas y a las Fuerzas de Orden y Seguridad P\\xc3\\xbablica.Las inhabilidades establecidas en este art\\xc3\\xadculo ser\\xc3\\xa1n aplicables a quienes hubieren tenido las calidades o cargos antes mencionados dentro del a\\xc3\\xb1o inmediatamente anterior a la elecci\\xc3\\xb3n; excepto respecto de las personas mencionadas en los n\\xc3\\xbameros 7) y 8), las que no deber\\xc3\\xa1n reunir esas condiciones al momento de inscribir su candidatura y de las indicadas en el n\\xc3\\xbamero 9), respecto de las cuales el plazo de la inhabilidad ser\\xc3\\xa1 de los dos a\\xc3\\xb1os inmediatamente anteriores a la elecci\\xc3\\xb3n. Si no fueren elegidos en una elecci\\xc3\\xb3n no podr\\xc3\\xa1n volver al mismo cargo ni ser designados para cargos an\\xc3\\xa1logos a los que desempe\\xc3\\xb1aron hasta un a\\xc3\\xb1o despu\\xc3\\xa9s del acto electoral.\",27 de agosto de 2020,Ley N\\xc2\\xba 21.257\\r\\nCap\\xc3\\xadtulo V, Congreso Nacional,58,\"Los cargos de diputados y senadores son incompatibles entre s\\xc3\\xad y con todo empleo o comisi\\xc3\\xb3n retribuidos con fondos del Fisco, de las municipalidades, de las entidades fiscales aut\\xc3\\xb3nomas, semifiscales o de las empresas del Estado o en las que el Fisco tenga intervenci\\xc3\\xb3n por aportes de capital, y con toda otra funci\\xc3\\xb3n o comisi\\xc3\\xb3n de la misma naturaleza. Se except\\xc3\\xbaan los empleos docentes y las funciones o comisiones de igual car\\xc3\\xa1cter de la ense\\xc3\\xb1anza superior, media y especial.Asimismo, los cargos de diputados y senadores son incompatibles con las funciones de directores o consejeros, aun cuando sean ad honorem, en las entidades fiscales aut\\xc3\\xb3nomas, semifiscales o en las empresas estatales, o en las que el Estado tenga participaci\\xc3\\xb3n por aporte de capital.Por el solo hecho de su proclamaci\\xc3\\xb3n por el Tribunal Calificador de Elecciones, el diputado o senador cesar\\xc3\\xa1 en el otro cargo, empleo o comisi\\xc3\\xb3n incompatible que desempe\\xc3\\xb1e.\",27 de agosto de 2020,Ley N\\xc2\\xba 21.257\\r\\nCap\\xc3\\xadtulo V, Congreso Nacional,59,\"Ning\\xc3\\xban diputado o senador, desde el momento de su proclamaci\\xc3\\xb3n por el Tribunal Calificador de Elecciones puede ser nombrado para un empleo, funci\\xc3\\xb3n o comisi\\xc3\\xb3n de los referidos en el art\\xc3\\xadculo anterior.Esta disposici\\xc3\\xb3n no rige en caso de guerra exterior; ni se aplica a los cargos de Presidente de la Rep\\xc3\\xbablica , Ministro de Estado y agente diplom\\xc3\\xa1tico; pero s\\xc3\\xb3lo los cargos conferidos en estado de guerra son compatibles con las funciones de diputado o senador.\",27 de agosto de 2020,Ley N\\xc2\\xba 21.257\\r\\nCap\\xc3\\xadtulo V, Congreso Nacional,60,\"Cesar\\xc3\\xa1 en el cargo el diputado o senador que se ausentare del pa\\xc3\\xads por m\\xc3\\xa1s de treinta d\\xc3\\xadas sin permiso de la C\\xc3\\xa1mara a que pertenezca o, en receso de ella, de su Presidente.Cesar\\xc3\\xa1 en el cargo el diputado o senador que durante su ejercicio celebrare o caucionare contratos con el Estado, o el que actuare como procurador o agente en gestiones particulares de car\\xc3\\xa1cter administrativo, en la provisi\\xc3\\xb3n de empleos p\\xc3\\xbablicos, consejer\\xc3\\xadas, funciones o comisiones de similar naturaleza. En la misma sanci\\xc3\\xb3n incurrir\\xc3\\xa1 el que acepte ser director de banco o de alguna sociedad an\\xc3\\xb3nima, o ejercer cargos de similar importancia en estas actividades.La inhabilidad a que se refiere el inciso anterior tendr\\xc3\\xa1 lugar sea que el diputado o senador act\\xc3\\xbae por s\\xc3\\xad o por interp\\xc3\\xb3sita persona, natural o jur\\xc3\\xaddica, o por medio de una sociedad de personas de la que forme parte.Cesar\\xc3\\xa1 en su cargo el diputado o senador que act\\xc3\\xbae como abogado o mandatario en cualquier clase de juicio, que ejercite cualquier influencia ante las autoridades administrativas o judiciales en favor o representaci\\xc3\\xb3n del empleador o de los trabajadores en negociaciones o conflictos laborales, sean del sector p\\xc3\\xbablico o privado, o que intervengan en ellos ante cualquiera de las partes. Igual sanci\\xc3\\xb3n se aplicar\\xc3\\xa1 al parlamentario que act\\xc3\\xbae o intervenga en actividades estudiantiles, cualquiera que sea la rama de la ense\\xc3\\xb1anza, con el objeto de atentar contra su normal desenvolvimiento.Sin perjuicio de lo dispuesto en el inciso s\\xc3\\xa9ptimo del n\\xc3\\xbamero 15 del art\\xc3\\xadculo 19, cesar\\xc3\\xa1, asimismo, en sus funciones el diputado o senador que de palabra o por escrito incite a la alteraci\\xc3\\xb3n del orden p\\xc3\\xbablico o propicie el cambio del orden jur\\xc3\\xaddico institucional por medios distintos de los que establece esta Constituci\\xc3\\xb3n, o que comprometa gravemente la seguridad o el honor de la Naci\\xc3\\xb3n.Quien perdiere el cargo de diputado o senador por cualquiera de las causales se\\xc3\\xb1aladas precedentemente no podr\\xc3\\xa1 optar a ninguna funci\\xc3\\xb3n o empleo p\\xc3\\xbablico, sea o no de elecci\\xc3\\xb3n popular, por el t\\xc3\\xa9rmino de dos a\\xc3\\xb1os, salvo los casos del inciso s\\xc3\\xa9ptimo del n\\xc3\\xbamero 15 del art\\xc3\\xadculo 19, en los cuales se aplicar\\xc3\\xa1n las sanciones all\\xc3\\xad contempladas. Cesar\\xc3\\xa1 en su cargo el diputado o senador que haya infringido gravemente las normas sobre transparencia, l\\xc3\\xadmites y control del gasto electoral, desde la fecha que lo declare por sentencia firme el Tribunal Calificador de Elecciones, a requerimiento del Consejo Directivo del Servicio Electoral. Una ley org\\xc3\\xa1nica constitucional se\\xc3\\xb1alar\\xc3\\xa1 los casos en que existe una infracci\\xc3\\xb3n grave. Asimismo, el diputado o senador que perdiere el cargo no podr\\xc3\\xa1 optar a ninguna funci\\xc3\\xb3n o empleo p\\xc3\\xbablico por el t\\xc3\\xa9rmino de tres a\\xc3\\xb1os, ni podr\\xc3\\xa1 ser candidato a cargos de elecci\\xc3\\xb3n popular en los dos actos electorales inmediatamente siguientes a su cesaci\\xc3\\xb3n.Cesar\\xc3\\xa1, asimismo, en sus funciones el diputado o senador que, durante su ejercicio, pierda alg\\xc3\\xban requisito general de elegibilidad o incurra en alguna de las causales de inhabilidad a que se refiere el art\\xc3\\xadculo 57, sin perjuicio de la excepci\\xc3\\xb3n contemplada en el inciso segundo del art\\xc3\\xadculo 59 respecto de los Ministros de Estado.Los diputados y senadores podr\\xc3\\xa1n renunciar a sus cargos cuando les afecte una enfermedad grave que les impida desempe\\xc3\\xb1arlos y as\\xc3\\xad lo califique el Tribunal Constitucional.\",27 de agosto de 2020,Ley N\\xc2\\xba 21.257\\r\\nCap\\xc3\\xadtulo V, Congreso Nacional,61,\"Los diputados y senadores s\\xc3\\xb3lo son inviolables por las opiniones que manifiesten y los votos que emitan en el desempe\\xc3\\xb1o de sus cargos, en sesiones de sala o de comisi\\xc3\\xb3n.Ning\\xc3\\xban diputado o senador, desde el d\\xc3\\xada de su elecci\\xc3\\xb3n o desde su juramento, seg\\xc3\\xban el caso, puede ser acusado o privado de su libertad, salvo el caso de delito flagrante, si el Tribunal de Alzada de la jurisdicci\\xc3\\xb3n respectiva, en pleno, no autoriza previamente la acusaci\\xc3\\xb3n declarando haber lugar a formaci\\xc3\\xb3n de causa. De esta resoluci\\xc3\\xb3n podr\\xc3\\xa1 apelarse para ante la Corte Suprema.En caso de ser arrestado alg\\xc3\\xban diputado o senador por delito flagrante, ser\\xc3\\xa1 puesto inmediatamente a disposici\\xc3\\xb3n del Tribunal de Alzada respectivo, con la informaci\\xc3\\xb3n sumaria correspondiente. El Tribunal proceder\\xc3\\xa1, entonces, conforme a lo dispuesto en el inciso anterior.Desde el momento en que se declare, por resoluci\\xc3\\xb3n firme, haber lugar a formaci\\xc3\\xb3n de causa, queda el diputado o senador imputado suspendido de su cargo y sujeto al juez competente.\",27 de agosto de 2020,Ley N\\xc2\\xba 21.257\\r\\nCap\\xc3\\xadtulo V, Congreso Nacional,62,Los diputados y senadores percibir\\xc3\\xa1n como \\xc3\\xbanica renta una dieta equivalente a la remuneraci\\xc3\\xb3n de un Ministro de Estado.  Materias de Ley,27 de agosto de 2020,Ley N\\xc2\\xba 21.257\\r\\nCap\\xc3\\xadtulo V, Congreso Nacional,63,\"S\\xc3\\xb3lo son materias de ley:1) Las que en virtud de la Constituci\\xc3\\xb3n deben ser objeto de leyes org\\xc3\\xa1nicas constitucionales;2) Las que la Constituci\\xc3\\xb3n exija que sean reguladas por una ley;3) Las que son objeto de codificaci\\xc3\\xb3n, sea civil, comercial, procesal, penal u otra;4) Las materias b\\xc3\\xa1sicas relativas al r\\xc3\\xa9gimen jur\\xc3\\xaddico laboral, sindical, previsional y de seguridad social;5) Las que regulen honores p\\xc3\\xbablicos a los grandes servidores;6) Las que modifiquen la forma o caracter\\xc3\\xadsticas de los emblemas nacionales;7) Las que autoricen al Estado, a sus organismos y a las municipalidades, para contratar empr\\xc3\\xa9stitos, los que deber\\xc3\\xa1n estar destinados a financiar proyectos espec\\xc3\\xadficos. La ley deber\\xc3\\xa1 indicar las fuentes de recursos con cargo a los cuales deba hacerse el servicio de la deuda. Sin embargo, se requerir\\xc3\\xa1 de una ley de qu\\xc3\\xb3rum calificado para autorizar la contrataci\\xc3\\xb3n de aquellos empr\\xc3\\xa9stitos cuyo vencimiento exceda del t\\xc3\\xa9rmino de duraci\\xc3\\xb3n del respectivo per\\xc3\\xadodo presidencial.Lo dispuesto en este n\\xc3\\xbamero no se aplicar\\xc3\\xa1 al Banco Central;8) Las que autoricen la celebraci\\xc3\\xb3n de cualquier clase de operaciones que puedan comprometer en forma directa o indirecta el cr\\xc3\\xa9dito o la responsabilidad financiera del Estado, sus organismos y de las municipalidades.Esta disposici\\xc3\\xb3n no se aplicar\\xc3\\xa1 al Banco Central;9) Las que fijen las normas con arreglo a las cuales las empresas del Estado y aquellas en que \\xc3\\xa9ste tenga participaci\\xc3\\xb3n puedan contratar empr\\xc3\\xa9stitos, los que en ning\\xc3\\xban caso, podr\\xc3\\xa1n efectuarse con el Estado, sus organismos o empresas;10) Las que fijen las normas sobre enajenaci\\xc3\\xb3n de bienes del Estado o de las municipalidades y sobre su arrendamiento o concesi\\xc3\\xb3n;11) Las que establezcan o modifiquen la divisi\\xc3\\xb3n pol\\xc3\\xadtica y administrativa del pa\\xc3\\xads;12) Las que se\\xc3\\xb1alen el valor, tipo y denominaci\\xc3\\xb3n de las monedas y el sistema de pesos y medidas;13) Las que fijen las fuerzas de aire, mar y tierra que han de mantenerse en pie en tiempo de paz o de guerra, y las normas para permitir la entrada de tropas extranjeras en el territorio de la Rep\\xc3\\xbablica , como, asimismo, la salida de tropas nacionales fuera de \\xc3\\xa9l;14) Las dem\\xc3\\xa1s que la Constituci\\xc3\\xb3n se\\xc3\\xb1ale como leyes de iniciativa exclusiva del Presidente de la Rep\\xc3\\xbablica;15) Las que autoricen la declaraci\\xc3\\xb3n de guerra, a propuesta del Presidente de la Rep\\xc3\\xbablica;16) Las que concedan indultos generales y amnist\\xc3\\xadas y las que fijen las normas generales con arreglo a las cuales debe ejercerse la facultad del Presidente de la Rep\\xc3\\xbablica para conceder indultos particulares y pensiones de gracia.Las leyes que concedan indultos generales y amnist\\xc3\\xadas requerir\\xc3\\xa1n siempre de qu\\xc3\\xb3rum calificado. No obstante, este qu\\xc3\\xb3rum ser\\xc3\\xa1 de las dos terceras partes de los diputados y senadores en ejercicio cuando se trate de delitos contemplados en el art\\xc3\\xadculo 9;17) Las que se\\xc3\\xb1alen la ciudad en que debe residir el Presidente de la Rep\\xc3\\xbablica , celebrar sus sesiones el Congreso Nacional y funcionar la Corte Suprema y el Tribunal Constitucional;18) Las que fijen las bases de los procedimientos que rigen los actos de la administraci\\xc3\\xb3n p\\xc3\\xbablica;19) Las que regulen el funcionamiento de loter\\xc3\\xadas, hip\\xc3\\xb3dromos y apuestas en general, y20) Toda otra norma de car\\xc3\\xa1cter general y obligatoria que estatuya las bases esenciales de un ordenamiento jur\\xc3\\xaddico.\",27 de agosto de 2020,Ley N\\xc2\\xba 21.257\\r\\nCap\\xc3\\xadtulo V, Congreso Nacional,64,\"El Presidente de la Rep\\xc3\\xbablica podr\\xc3\\xa1 solicitar autorizaci\\xc3\\xb3n al Congreso Nacional para dictar disposiciones con fuerza de ley durante un plazo no superior a un a\\xc3\\xb1o sobre materias que correspondan al dominio de la ley.Esta autorizaci\\xc3\\xb3n no podr\\xc3\\xa1 extenderse a la nacionalidad, la ciudadan\\xc3\\xada, las elecciones ni al plebiscito, como tampoco a materias comprendidas en las garant\\xc3\\xadas constitucionales o que deban ser objeto de leyes org\\xc3\\xa1nicas constitucionales o de qu\\xc3\\xb3rum calificado.La autorizaci\\xc3\\xb3n no podr\\xc3\\xa1 comprender facultades que afecten a la organizaci\\xc3\\xb3n, atribuciones y r\\xc3\\xa9gimen de los funcionarios del Poder Judicial, del Congreso Nacional, del Tribunal Constitucional ni de la Contralor\\xc3\\xada General de la Rep\\xc3\\xbablica.La ley que otorgue la referida autorizaci\\xc3\\xb3n se\\xc3\\xb1alar\\xc3\\xa1 las materias precisas sobre las que recaer\\xc3\\xa1 la delegaci\\xc3\\xb3n y podr\\xc3\\xa1 establecer o determinar las limitaciones, restricciones y formalidades que se estimen convenientes.Sin perjuicio de lo dispuesto en los incisos anteriores, el Presidente de la Rep\\xc3\\xbablica queda autorizado para fijar el texto refundido, coordinado y sistematizado de las leyes cuando sea conveniente para su mejor ejecuci\\xc3\\xb3n. En ejercicio de esta facultad, podr\\xc3\\xa1 introducirle los cambios de forma que sean indispensables, sin alterar, en caso alguno, su verdadero sentido y alcance.A la Contralor\\xc3\\xada General de la Rep\\xc3\\xbablica corresponder\\xc3\\xa1 tomar raz\\xc3\\xb3n de e stos decretos con fuerza de ley, debiendo rechazarlos cuando ellos excedan o contravengan la autorizaci\\xc3\\xb3n referida.Los decretos con fuerza de ley estar\\xc3\\xa1n sometidos en cuanto a su publicaci\\xc3\\xb3n, vigencia y efectos, a las mismas normas que rigen para la ley.  Formaci\\xc3\\xb3n de la ley\",27 de agosto de 2020,Ley N\\xc2\\xba 21.257\\r\\nCap\\xc3\\xadtulo V, Congreso Nacional,65,\"Las leyes pueden tener origen en la C\\xc3\\xa1mara de Diputados o en el Senado, por mensaje que dirija el Presidente de la Rep\\xc3\\xbablica o por moci\\xc3\\xb3n de cualquiera de sus miembros. Las mociones no pueden ser firmadas por m\\xc3\\xa1s de diez diputados ni por m\\xc3\\xa1s de cinco senadores.Las leyes sobre tributos de cualquiera naturaleza que sean, sobre los presupuestos de la Administraci\\xc3\\xb3n P\\xc3\\xbablica y sobre reclutamiento, s\\xc3\\xb3lo pueden tener origen en la C\\xc3\\xa1mara de Diputados. Las leyes sobre amnist\\xc3\\xada y sobre indultos generales s\\xc3\\xb3lo pueden tener origen en el Senado.Corresponder\\xc3\\xa1 al Presidente de la Rep\\xc3\\xbablica la iniciativa exclusiva de los proyectos de ley que tengan relaci\\xc3\\xb3n con la alteraci\\xc3\\xb3n de la divisi\\xc3\\xb3n pol\\xc3\\xadtica o administrativa del pa\\xc3\\xads, o con la administraci\\xc3\\xb3n financiera o presupuestaria del Estado, incluyendo las modificaciones de la Ley de Presupuestos, y con las materias se\\xc3\\xb1aladas en los n\\xc3\\xbameros 10 y 13 del art\\xc3\\xadculo 63.Corresponder\\xc3\\xa1, asimismo, al Presidente de la Rep\\xc3\\xbablica la iniciativa exclusiva para:1Imponer, suprimir, reducir o condonar tributos de cualquier clase o naturaleza, establecer exenciones o modificar las existentes, y determinar su forma, proporcionalidad o progresi\\xc3\\xb3n;2Crear nuevos servicios p\\xc3\\xbablicos o empleos rentados, sean fiscales, semifiscales, aut\\xc3\\xb3nomos o de las empresas del Estado; suprimirlos y determinar sus funciones o atribuciones;3Contratar empr\\xc3\\xa9stitos o celebrar cualquiera otra clase de operaciones que puedan comprometer el cr\\xc3\\xa9dito o la responsabilidad financiera del Estado, de las entidades semifiscales, aut\\xc3\\xb3nomas, de los gobiernos regionales o de las municipalidades, y condonar, reducir o modificar obligaciones, intereses u otras cargas financieras de cualquier naturaleza establecidas en favor del Fisco o de los organismos o entidades referidos;4Fijar, modificar, conceder o aumentar remuneraciones, jubilaciones, pensiones, montep\\xc3\\xados, rentas y cualquiera otra clase de emolumentos, pr\\xc3\\xa9stamos o beneficios al personal en servicio o en retiro y a los beneficiarios de montep\\xc3\\xado, en su caso, de la Administraci\\xc3\\xb3n P\\xc3\\xbablica y dem\\xc3\\xa1s organismos y entidades anteriormente se\\xc3\\xb1alados, con excepci\\xc3\\xb3n de las remuneraciones de los cargos indicados en el inciso primero del art\\xc3\\xadculo 38 bis, como asimismo fijar las remuneraciones m\\xc3\\xadnimas de los trabajadores del sector privado, aumentar obligatoriamente sus remuneraciones y dem\\xc3\\xa1s beneficios econ\\xc3\\xb3micos o alterar las bases que sirvan para determinarlos; todo ello sin perjuicio de lo dispuesto en los n\\xc3\\xbameros siguientes;5Establecer las modalidades y procedimientos de la negociaci\\xc3\\xb3n colectiva y determinar los casos en que no se podr\\xc3\\xa1 negociar, y6Establecer o modificar las normas sobre seguridad social o que incidan en ella, tanto del sector p\\xc3\\xbablico como del sector privado.El Congreso Nacional s\\xc3\\xb3lo podr\\xc3\\xa1 aceptar, disminuir o rechazar los servicios, empleos, emolumentos, pr\\xc3\\xa9stamos, beneficios, gastos y dem\\xc3\\xa1s iniciativas sobre la materia que proponga el Presidente de la Rep\\xc3\\xbablica.\",27 de agosto de 2020,Ley N\\xc2\\xba 21.257\\r\\nCap\\xc3\\xadtulo V, Congreso Nacional,66,\"Las normas legales que interpreten preceptos constitucionales necesitar\\xc3\\xa1n, para su aprobaci\\xc3\\xb3n, modificaci\\xc3\\xb3n o derogaci\\xc3\\xb3n, de las tres quintas partes de los diputados y senadores en ejercicio.Las normas legales a las cuales la Constituci\\xc3\\xb3n confiere el car\\xc3\\xa1cter de ley org\\xc3\\xa1nica constitucional requerir\\xc3\\xa1n, para su aprobaci\\xc3\\xb3n, modificaci\\xc3\\xb3n o derogaci\\xc3\\xb3n, de las cuatro s\\xc3\\xa9ptimas partes de los diputados y senadores en ejercicio.Las normas legales de qu\\xc3\\xb3rum calificado se establecer\\xc3\\xa1n, modificar\\xc3\\xa1n o derogar\\xc3\\xa1n por la mayor\\xc3\\xada absoluta de los diputados y senadores en ejercicio.Las dem\\xc3\\xa1s normas legales requerir\\xc3\\xa1n la mayor\\xc3\\xada de los miembros presentes de cada C\\xc3\\xa1mara, o las mayor\\xc3\\xadas que sean aplicables conforme a los art\\xc3\\xadculos 68 y siguientes.\",27 de agosto de 2020,Ley N\\xc2\\xba 21.257\\r\\nCap\\xc3\\xadtulo V, Congreso Nacional,67,\"El proyecto de Ley de Presupuestos deber\\xc3\\xa1 ser presentado por el Presidente de la Rep\\xc3\\xbablica al Congreso Nacional, a lo menos con tres meses de anterioridad a la fecha en que debe empezar a regir; y si el Congreso no lo despachare dentro de los sesenta d\\xc3\\xadas contados desde su presentaci\\xc3\\xb3n, regir\\xc3\\xa1 el proyecto presentado por el Presidente de la Rep\\xc3\\xbablica.El Congreso Nacional no podr\\xc3\\xa1 aumentar ni disminuir la estimaci\\xc3\\xb3n de los ingresos; s\\xc3\\xb3lo podr\\xc3\\xa1 reducir los gastos contenidos en el proyecto de Ley de Presupuestos, salvo los que est\\xc3\\xa9n establecidos por ley permanente.La estimaci\\xc3\\xb3n del rendimiento de los recursos que consulta la Ley de Presupuestos y de los nuevos que establezca cualquiera otra iniciativa de ley, corresponder\\xc3\\xa1 exclusivamente al Presidente, previo informe de los organismos t\\xc3\\xa9cnicos respectivos.No podr\\xc3\\xa1 el Congreso aprobar ning\\xc3\\xban nuevo gasto con cargo a los fondos de la Naci\\xc3\\xb3n sin que se indiquen, al mismo tiempo, las fuentes de recursos necesarios para atender dicho gasto.Si la fuente de recursos otorgada por el Congreso fuere insuficiente para financiar cualquier nuevo gasto que se apruebe, el Presidente de la Rep\\xc3\\xbablica , al promulgar la ley, previo informe favorable del servicio o instituci\\xc3\\xb3n a trav\\xc3\\xa9s del cual se recaude el nuevo ingreso, refrendado por la Contralor\\xc3\\xada General de la Rep\\xc3\\xbablica , deber\\xc3\\xa1 reducir proporcionalmente todos los gastos, cualquiera que sea su naturaleza.\",27 de agosto de 2020,Ley N\\xc2\\xba 21.257\\r\\nCap\\xc3\\xadtulo V, Congreso Nacional,68,\"El proyecto que fuere desechado en general en la C\\xc3\\xa1mara de su origen no podr\\xc3\\xa1 renovarse sino despu\\xc3\\xa9s de un a\\xc3\\xb1o. Sin embargo, el Presidente de la Rep\\xc3\\xbablica , en caso de un proyecto de su iniciativa, podr\\xc3\\xa1 solicitar que el mensaje pase a la otra C\\xc3\\xa1mara y, si \\xc3\\xa9sta lo aprueba en general por los dos tercios de sus miembros presentes, volver\\xc3\\xa1 a la de su origen y s\\xc3\\xb3lo se considerar\\xc3\\xa1 desechado si esta C\\xc3\\xa1mara lo rechaza con el voto de los dos tercios de sus miembros presentes.\",27 de agosto de 2020,Ley N\\xc2\\xba 21.257\\r\\nCap\\xc3\\xadtulo V, Congreso Nacional,69,\"Todo proyecto puede ser objeto de adiciones o correcciones en los tr\\xc3\\xa1mites que corresponda, tanto en la C\\xc3\\xa1mara de Diputados como en el Senado; pero en ning\\xc3\\xban caso se admitir\\xc3\\xa1n las que no tengan relaci\\xc3\\xb3n directa con las ideas matrices o fundamentales del proyecto.Aprobado un proyecto en la C\\xc3\\xa1mara de su origen, pasar\\xc3\\xa1 inmediatamente a la otra para su discusi\\xc3\\xb3n.\",27 de agosto de 2020,Ley N\\xc2\\xba 21.257\\r\\nCap\\xc3\\xadtulo V, Congreso Nacional,70,\"El proyecto que fuere desechado en su totalidad por la C\\xc3\\xa1mara revisora ser\\xc3\\xa1 considerado por una comisi\\xc3\\xb3n mixta de igual n\\xc3\\xbamero de diputados y senadores, la que propondr\\xc3\\xa1 la forma y modo de resolver las dificultades. El proyecto de la comisi\\xc3\\xb3n mixta volver\\xc3\\xa1 a la C\\xc3\\xa1mara de origen y, para ser aprobado tanto en \\xc3\\xa9sta como en la revisora, se requerir\\xc3\\xa1 de la mayor\\xc3\\xada de los miembros presentes en cada una de ellas. Si la comisi\\xc3\\xb3n mixta no llegare a acuerdo, o si la C\\xc3\\xa1mara de origen rechazare el proyecto de esa comisi\\xc3\\xb3n, el Presidente de la Rep\\xc3\\xbablica podr\\xc3\\xa1 pedir que esa C\\xc3\\xa1mara se pronuncie sobre si insiste por los dos tercios de sus miembros presentes en el proyecto que aprob\\xc3\\xb3 en el primer tr\\xc3\\xa1mite. Acordada la insistencia, el proyecto pasar\\xc3\\xa1 por segunda vez a la C\\xc3\\xa1mara que lo desech\\xc3\\xb3, y s\\xc3\\xb3lo se entender\\xc3\\xa1 que \\xc3\\xa9sta lo reprueba si concurren para ello las dos terceras partes de sus miembros presentes.\",27 de agosto de 2020,Ley N\\xc2\\xba 21.257\\r\\nCap\\xc3\\xadtulo V, Congreso Nacional,71,\"El proyecto que fuere adicionado o enmendado por la C\\xc3\\xa1mara revisora volver\\xc3\\xa1 a la de su origen, y en \\xc3\\xa9sta se entender\\xc3\\xa1n aprobadas las adiciones y enmiendas con el voto de la mayor\\xc3\\xada de los miembros presentes.Si las adiciones o enmiendas fueren reprobadas, se formar\\xc3\\xa1 una comisi\\xc3\\xb3n mixta y se proceder\\xc3\\xa1 en la misma forma indicada en el art\\xc3\\xadculo anterior. En caso de que en la comisi\\xc3\\xb3n mixta no se produzca acuerdo para resolver las divergencias entre ambas C\\xc3\\xa1maras, o si alguna de las C\\xc3\\xa1maras rechazare la proposici\\xc3\\xb3n de la comisi\\xc3\\xb3n mixta, el Presidente de la Rep\\xc3\\xbablica podr\\xc3\\xa1 solicitar a la C\\xc3\\xa1mara de origen que considere nuevamente el proyecto aprobado en segundo tr\\xc3\\xa1mite por la revisora. Si la C\\xc3\\xa1mara de origen rechazare las adiciones o modificaciones por los dos tercios de sus miembros presentes, no habr\\xc3\\xa1 ley en esa parte o en su totalidad; pero, si hubiere mayor\\xc3\\xada para el rechazo, menor a los dos tercios, el proyecto pasar\\xc3\\xa1 a la C\\xc3\\xa1mara revisora, y se entender\\xc3\\xa1 aprobado con el voto conforme de las dos terceras partes de los miembros presentes de esta \\xc3\\xbaltima.\",27 de agosto de 2020,Ley N\\xc2\\xba 21.257\\r\\nCap\\xc3\\xadtulo V, Congreso Nacional,72,\"Aprobado un proyecto por ambas C\\xc3\\xa1maras ser\\xc3\\xa1 remitido al Presidente de la Rep\\xc3\\xbablica , quien, si tambi\\xc3\\xa9n lo aprueba, dispondr\\xc3\\xa1 su promulgaci\\xc3\\xb3n como ley.\",27 de agosto de 2020,Ley N\\xc2\\xba 21.257\\r\\nCap\\xc3\\xadtulo V, Congreso Nacional,73,\"Si el Presidente de la Rep\\xc3\\xbablica desaprueba el proyecto, lo devolver\\xc3\\xa1 a la C\\xc3\\xa1mara de su origen con las observaciones convenientes, dentro del t\\xc3\\xa9rmino de treinta d\\xc3\\xadas.En ning\\xc3\\xban caso se admitir\\xc3\\xa1n las observaciones que no tengan relaci\\xc3\\xb3n directa con las ideas matrices o fundamentales del proyecto, a menos que hubieran sido consideradas en el mensaje respectivo.Si las dos C\\xc3\\xa1maras aprobaren las observaciones, el proyecto tendr\\xc3\\xa1 fuerza de ley y se devolver\\xc3\\xa1 al Presidente para su promulgaci\\xc3\\xb3n.Si las dos C\\xc3\\xa1maras desecharen todas o algunas de las observaciones e insistieren por los dos tercios de sus miembros presentes en la totalidad o parte del proyecto aprobado por ellas, se devolver\\xc3\\xa1 al Presidente para su promulgaci\\xc3\\xb3n.\",27 de agosto de 2020,Ley N\\xc2\\xba 21.257\\r\\nCap\\xc3\\xadtulo V, Congreso Nacional,74,\"El Presidente de la Rep\\xc3\\xbablica podr\\xc3\\xa1 hacer presente la urgencia en el despacho de un proyecto, en uno o en todos sus tr\\xc3\\xa1mites, y en tal caso, la C\\xc3\\xa1mara respectiva deber\\xc3\\xa1 pronunciarse dentro del plazo m\\xc3\\xa1ximo de treinta d\\xc3\\xadas.La calificaci\\xc3\\xb3n de la urgencia corresponder\\xc3\\xa1 hacerla al Presidente de la Rep\\xc3\\xbablica de acuerdo a la ley org\\xc3\\xa1nica constitucional relativa al Congreso, la que establecer\\xc3\\xa1 tambi\\xc3\\xa9n todo lo relacionado con la tramitaci\\xc3\\xb3n interna de la ley.\",27 de agosto de 2020,Ley N\\xc2\\xba 21.257\\r\\nCap\\xc3\\xadtulo V, Congreso Nacional,75,\"Si el Presidente de la Rep\\xc3\\xbablica no devolviere el proyecto dentro de treinta d\\xc3\\xadas, contados desde la fecha de su remisi\\xc3\\xb3n, se entender\\xc3\\xa1 que lo aprueba y se promulgar\\xc3\\xa1 como ley.La promulgaci\\xc3\\xb3n deber\\xc3\\xa1 hacerse siempre dentro del plazo de diez d\\xc3\\xadas, contados desde que ella sea procedente.La publicaci\\xc3\\xb3n se har\\xc3\\xa1 dentro de los cinco d\\xc3\\xadas h\\xc3\\xa1biles siguientes a la fecha en que quede totalmente tramitado el decreto promulgatorio.\",27 de agosto de 2020,Ley N\\xc2\\xba 21.257\\r\\nCap\\xc3\\xadtulo VI, Poder Judicial,76,\"La facultad de conocer de las causas civiles y criminales, de resolverlas y de hacer ejecutar lo juzgado, pertenece exclusivamente a los tribunales establecidos por la ley. Ni el Presidente de la Rep\\xc3\\xbablica ni el Congreso pueden, en caso alguno, ejercer funciones judiciales, avocarse causas pendientes, revisar los fundamentos o contenido de sus resoluciones o hacer revivir procesos fenecidos.Reclamada su intervenci\\xc3\\xb3n en forma legal y en negocios de su competencia, no podr\\xc3\\xa1n excusarse de ejercer su autoridad, ni aun por falta de ley que resuelva la contienda o asunto sometidos a su decisi\\xc3\\xb3n.Para hacer ejecutar sus resoluciones, y practicar o hacer practicar los actos de instrucci\\xc3\\xb3n que determine la ley, los tribunales ordinarios de justicia y los especiales que integran el Poder Judicial, podr\\xc3\\xa1n impartir \\xc3\\xb3rdenes directas a la fuerza p\\xc3\\xbablica o ejercer los medios de acci\\xc3\\xb3n conducentes de que dispusieren. Los dem\\xc3\\xa1s tribunales lo har\\xc3\\xa1n en la forma que la ley determine.La autoridad requerida deber\\xc3\\xa1 cumplir sin m\\xc3\\xa1s tr\\xc3\\xa1mite el mandato judicial y no podr\\xc3\\xa1 calificar su fundamento u oportunidad, ni la justicia o legalidad de la resoluci\\xc3\\xb3n que se trata de ejecutar.\",27 de agosto de 2020,Ley N\\xc2\\xba 21.257\\r\\nCap\\xc3\\xadtulo VI, Poder Judicial,77,\"Una ley org\\xc3\\xa1nica constitucional determinar\\xc3\\xa1 la organizaci\\xc3\\xb3n y atribuciones de los tribunales que fueren necesarios para la pronta y cumplida administraci\\xc3\\xb3n de justicia en todo el territorio de la Rep\\xc3\\xbablica. La misma ley se\\xc3\\xb1alar\\xc3\\xa1 las calidades que respectivamente deban tener los jueces y el n\\xc3\\xbamero de a\\xc3\\xb1os que deban haber ejercido la profesi\\xc3\\xb3n de abogado las personas que fueren nombradas ministros de Corte o jueces letrados. La ley org\\xc3\\xa1nica constitucional relativa a la organizaci\\xc3\\xb3n y atribuciones de los tribunales, s\\xc3\\xb3lo podr\\xc3\\xa1 ser modificada oyendo previamente a la Corte Suprema de conformidad a lo establecido en la ley org\\xc3\\xa1nica constitucional respectiva. La Corte Suprema deber\\xc3\\xa1 pronunciarse dentro del plazo de treinta d\\xc3\\xadas contados desde la recepci\\xc3\\xb3n del oficio en que se solicita la opini\\xc3\\xb3n pertinente. Sin embargo, si el Presidente de la Rep\\xc3\\xbablica hubiere hecho presente una urgencia al proyecto consultado, se comunicar\\xc3\\xa1 esta circunstancia a la Corte. En dicho caso, la Corte deber\\xc3\\xa1 evacuar la consulta dentro del plazo que implique la urgencia respectiva. Si la Corte Suprema no emitiere opini\\xc3\\xb3n dentro de los plazos aludidos, se tendr\\xc3\\xa1 por evacuado el tr\\xc3\\xa1mite. La ley org\\xc3\\xa1nica constitucional relativa a la organizaci\\xc3\\xb3n y atribuciones de los tribunales, as\\xc3\\xad como las leyes procesales que regulen un sistema de enjuiciamiento, podr\\xc3\\xa1n fijar fechas diferentes para su entrada en vigencia en las diversas regiones del territorio nacional. Sin perjuicio de lo anterior, el plazo para la entrada en vigor de dichas leyes en todo el pa\\xc3\\xads no podr\\xc3\\xa1 ser superior a cuatro a\\xc3\\xb1os.\",27 de agosto de 2020,Ley N\\xc2\\xba 21.257\\r\\nCap\\xc3\\xadtulo VI, Poder Judicial,78,\"En cuanto al nombramiento de los jueces, la ley se ajustar\\xc3\\xa1 a los siguientes preceptos generales.La Corte Suprema se compondr\\xc3\\xa1 de veinti\\xc3\\xban ministros.Los ministros y los fiscales judiciales de la Corte Suprema ser\\xc3\\xa1n nombrados por el Presidente de la Rep\\xc3\\xbablica, eligi\\xc3\\xa9ndolos de una n\\xc3\\xb3mina de cinco personas que, en cada caso, propondr\\xc3\\xa1 la misma Corte , y con acuerdo del Senado. Este adoptar\\xc3\\xa1 los respectivos acuerdos por los dos tercios de sus miembros en ejercicio, en sesi\\xc3\\xb3n especialmente convocada al efecto. Si el Senado no aprobare la proposici\\xc3\\xb3n del Presidente de la Rep\\xc3\\xbablica , la Corte Suprema deber\\xc3\\xa1 completar la quina proponiendo un nuevo nombre en sustituci\\xc3\\xb3n del rechazado, repiti\\xc3\\xa9ndose el procedimiento hasta que se apruebe un nombramiento.Cinco de los miembros de la Corte Suprema deber\\xc3\\xa1n ser abogados extra\\xc3\\xb1os a la administraci\\xc3\\xb3n de justicia, tener a lo menos quince a\\xc3\\xb1os de t\\xc3\\xadtulo, haberse destacado en la actividad profesional o universitaria y cumplir los dem\\xc3\\xa1s requisitos que se\\xc3\\xb1ale la ley org\\xc3\\xa1nica constitucional respectiva.La Corte Suprema , cuando se trate de proveer un cargo que corresponda a un miembro proveniente del Poder Judicial, formar\\xc3\\xa1 la n\\xc3\\xb3mina exclusivamente con integrantes de \\xc3\\xa9ste y deber\\xc3\\xa1 ocupar un lugar en ella el ministro m\\xc3\\xa1s antiguo de Corte de Apelaciones que figure en lista de m\\xc3\\xa9ritos. Los otros cuatro lugares se llenar\\xc3\\xa1n en atenci\\xc3\\xb3n a los merecimientos de los candidatos. Trat\\xc3\\xa1ndose de proveer una vacante correspondiente a abogados extra\\xc3\\xb1os a la administraci\\xc3\\xb3n de justicia, la n\\xc3\\xb3mina se formar\\xc3\\xa1 exclusivamente, previo concurso p\\xc3\\xbablico de antecedentes, con abogados que cumplan los requisitos se\\xc3\\xb1alados en el inciso cuarto.Los ministros y fiscales judiciales de las Cortes de Apelaciones ser\\xc3\\xa1n designados por el Presidente de la Rep\\xc3\\xbablica , a propuesta en terna de la Corte Suprema.Los jueces letrados ser\\xc3\\xa1n designados por el Presidente de la Rep\\xc3\\xbablica , a propuesta en terna de la Corte de Apelaciones de la jurisdicci\\xc3\\xb3n respectiva.El juez letrado en lo civil o criminal m\\xc3\\xa1s antiguo de asiento de Corte o el juez letrado civil o criminal m\\xc3\\xa1s antiguo del cargo inmediatamente inferior al que se trata de proveer y que figure en lista de m\\xc3\\xa9ritos y exprese su inter\\xc3\\xa9s en el cargo, ocupar\\xc3\\xa1 un lugar en la terna correspondiente. Los otros dos lugares se llenar\\xc3\\xa1n en atenci\\xc3\\xb3n al m\\xc3\\xa9rito de los candidatos.La Corte Suprema y las Cortes de Apelaciones, en su caso, formar\\xc3\\xa1n las quinas o las ternas en pleno especialmente convocado al efecto, en una misma y \\xc3\\xbanica votaci\\xc3\\xb3n, donde cada uno de sus integrantes tendr\\xc3\\xa1 derecho a votar por tres o dos personas, respectivamente. Resultar\\xc3\\xa1n elegidos quienes obtengan las cinco o las tres primeras mayor\\xc3\\xadas, seg\\xc3\\xban corresponda. El empate se resolver\\xc3\\xa1 mediante sorteo.Sin embargo, cuando se trate del nombramiento de ministros de Corte suplentes, la designaci\\xc3\\xb3n podr\\xc3\\xa1 hacerse por la Corte Suprema y, en el caso de los jueces, por la Corte de Apelaciones respectiva. Estas designaciones no podr\\xc3\\xa1n durar m\\xc3\\xa1s de sesenta d\\xc3\\xadas y no ser\\xc3\\xa1n prorrogables. En caso de que los tribunales superiores mencionados no hagan uso de esta facultad o de que haya vencido el plazo de la suplencia, se proceder\\xc3\\xa1 a proveer las vacantes en la forma ordinaria se\\xc3\\xb1alada precedentemente.\",27 de agosto de 2020,Ley N\\xc2\\xba 21.257\\r\\nCap\\xc3\\xadtulo VI, Poder Judicial,79,\"Los jueces son personalmente responsables por los delitos de cohecho, falta de observancia en materia sustancial de las leyes que reglan el procedimiento, denegaci\\xc3\\xb3n y torcida administraci\\xc3\\xb3n de justicia y, en general, de toda prevaricaci\\xc3\\xb3n en que incurran en el desempe\\xc3\\xb1o de sus funciones.Trat\\xc3\\xa1ndose de los miembros de la Corte Suprema , la ley determinar\\xc3\\xa1 los casos\",27 de agosto de 2020,Ley N\\xc2\\xba 21.257\\r\\nCap\\xc3\\xadtulo VI, Poder Judicial,80,\"Los jueces permanecer\\xc3\\xa1n en sus cargos durante su buen comportamiento; pero los inferiores desempe\\xc3\\xb1ar\\xc3\\xa1n su respectiva judicatura por el tiempo que determinen las leyes.No obstante lo anterior, los jueces cesar\\xc3\\xa1n en sus funciones al cumplir 75 a\\xc3\\xb1os de edad; o por renuncia o incapacidad legal sobreviniente o en caso de ser depuestos de sus destinos, por causa legalmente sentenciada. La norma relativa a la edad no regir\\xc3\\xa1 respecto al Presidente de la Corte Suprema , qui\\xc3\\xa9n continuar\\xc3\\xa1 en su cargo hasta el t\\xc3\\xa9rmino de su per\\xc3\\xadodo.En todo caso, la Corte Suprema por requerimiento del Presidente de la Rep\\xc3\\xbablica , a solicitud de parte interesada, o de oficio, podr\\xc3\\xa1 declarar que los jueces no han tenido buen comportamiento y, previo informe del inculpado y de la Corte de Apelaciones respectiva, en su caso, acordar su remoci\\xc3\\xb3n por la mayor\\xc3\\xada del total de sus componentes. Estos acuerdos se comunicar\\xc3\\xa1n al Presidente de la Rep\\xc3\\xbablica para su cumplimiento.La Corte Suprema , en pleno especialmente convocado al efecto y por la mayor\\xc3\\xada absoluta de sus miembros en ejercicio, podr\\xc3\\xa1 autorizar u ordenar, fundadamente, el traslado de los jueces y dem\\xc3\\xa1s funcionarios y empleados del Poder Judicial a otro cargo de igual categor\\xc3\\xada.\",27 de agosto de 2020,Ley N\\xc2\\xba 21.257\\r\\nCap\\xc3\\xadtulo VI, Poder Judicial,81,\"Los magistrados de los tribunales superiores de justicia, los fiscales judiciales y los jueces letrados que integran el Poder Judicial, no podr\\xc3\\xa1n ser aprehendidos sin orden del tribunal competente, salvo el caso de crimen o simple delito flagrante y s\\xc3\\xb3lo para ponerlos inmediatamente a disposici\\xc3\\xb3n del tribunal que debe conocer del asunto en conformidad a la ley.\",27 de agosto de 2020,Ley N\\xc2\\xba 21.257\\r\\nCap\\xc3\\xadtulo VI, Poder Judicial,82,\"La Corte Suprema tiene la superintendencia directiva, correccional y econ\\xc3\\xb3mica de todos los tribunales de la Naci\\xc3\\xb3n. Se except\\xc3\\xbaan de esta norma el Tribunal Constitucional, el Tribunal Calificador de Elecciones y los tribunales electorales regionales.Los tribunales superiores de justicia, en uso de sus facultades disciplinarias, s\\xc3\\xb3lo podr\\xc3\\xa1n invalidar resoluciones jurisdiccionales en los casos y forma que establezca la ley org\\xc3\\xa1nica constitucional respectiva.\",27 de agosto de 2020,Ley N\\xc2\\xba 21.257\\r\\nCap\\xc3\\xadtulo VII, Ministerio P\\xc3\\xbablico,83,\"Un organismo aut\\xc3\\xb3nomo, jerarquizado, con el nombre de Ministerio P\\xc3\\xbablico, dirigir\\xc3\\xa1 en forma exclusiva la investigaci\\xc3\\xb3n de los hechos constitutivos de delito, los que determinen la participaci\\xc3\\xb3n punible y los que acrediten la inocencia del imputado y, en su caso, ejercer\\xc3\\xa1 la acci\\xc3\\xb3n penal p\\xc3\\xbablica en la forma prevista por la ley. De igual manera, le corresponder\\xc3\\xa1 la adopci\\xc3\\xb3n de medidas para proteger a las v\\xc3\\xadctimas y a los testigos. En caso alguno podr\\xc3\\xa1 ejercer funciones jurisdiccionales. El ofendido por el delito y las dem\\xc3\\xa1s personas que determine la ley podr\\xc3\\xa1n ejercer igualmente la acci\\xc3\\xb3n penal. El Ministerio P\\xc3\\xbablico podr\\xc3\\xa1 impartir \\xc3\\xb3rdenes directas a las Fuerzas de Orden y Seguridad durante la investigaci\\xc3\\xb3n. Sin embargo, las actuaciones que priven al imputado o a terceros del ejercicio de los derechos que esta Constituci\\xc3\\xb3n asegura, o lo restrinjan o perturben, requerir\\xc3\\xa1n de aprobaci\\xc3\\xb3n judicial previa. La autoridad requerida deber\\xc3\\xa1 cumplir sin m\\xc3\\xa1s tr\\xc3\\xa1mite dichas \\xc3\\xb3rdenes y no podr\\xc3\\xa1 calificar su fundamento, oportunidad, justicia o legalidad, salvo requerir la exhibici\\xc3\\xb3n de la autorizaci\\xc3\\xb3n judicial previa, en su caso. El ejercicio de la acci\\xc3\\xb3n penal p\\xc3\\xbablica, y la direcci\\xc3\\xb3n de las investigaciones de los hechos que configuren el delito, de los que determinen la participaci\\xc3\\xb3n punible y de los que acrediten la inocencia del imputado en las causas que sean de conocimiento de los tribunales militares, como asimismo la adopci\\xc3\\xb3n de medidas para proteger a las v\\xc3\\xadctimas y a los testigos de tales hechos corresponder\\xc3\\xa1n, en conformidad con las normas del C\\xc3\\xb3digo de Justicia Militar y a las leyes respectivas, a los \\xc3\\xb3rganos y a las personas que ese C\\xc3\\xb3digo y esas leyes determinen.\",27 de agosto de 2020,Ley N\\xc2\\xba 21.257\\r\\nCap\\xc3\\xadtulo VII, Ministerio P\\xc3\\xbablico,84,\"Una ley org\\xc3\\xa1nica constitucional determinar\\xc3\\xa1 la organizaci\\xc3\\xb3n y atribuciones del Ministerio P\\xc3\\xbablico, se\\xc3\\xb1alar\\xc3\\xa1 las calidades y requisitos que deber\\xc3\\xa1n tener y cumplir los fiscales para su nombramiento y las causales de remoci\\xc3\\xb3n de los fiscales adjuntos, en lo no contemplado en la Constituci\\xc3\\xb3n. Las personas que sean designadas fiscales no podr\\xc3\\xa1n tener impedimento alguno que las inhabilite para desempe\\xc3\\xb1ar el cargo de juez. Los fiscales regionales y adjuntos cesar\\xc3\\xa1n en su cargo al cumplir 75 a\\xc3\\xb1os de edad. La ley org\\xc3\\xa1nica constitucional establecer\\xc3\\xa1 el grado de independencia y autonom\\xc3\\xada y la responsabilidad que tendr\\xc3\\xa1n los fiscales en la direcci\\xc3\\xb3n de la investigaci\\xc3\\xb3n y en el ejercicio de la acci\\xc3\\xb3n penal p\\xc3\\xbablica, en los casos que tengan a su cargo.\",27 de agosto de 2020,Ley N\\xc2\\xba 21.257\\r\\nCap\\xc3\\xadtulo VII, Ministerio P\\xc3\\xbablico,85,\"El Fiscal Nacional ser\\xc3\\xa1 designado por el Presidente de la Rep\\xc3\\xbablica , a propuesta en quina de la Corte Suprema y con acuerdo del Senado adoptado por los dos tercios de sus miembros en ejercicio, en sesi\\xc3\\xb3n especialmente convocada al efecto. Si el Senado no aprobare la proposici\\xc3\\xb3n del Presidente de la Rep\\xc3\\xbablica , la Corte Suprema deber\\xc3\\xa1 completar la quina proponiendo un nuevo nombre en sustituci\\xc3\\xb3n del rechazado, repiti\\xc3\\xa9ndose el procedimiento hasta que se apruebe un nombramiento. El Fiscal Nacional deber\\xc3\\xa1 tener a lo menos diez a\\xc3\\xb1os de t\\xc3\\xadtulo de abogado, haber cumplido cuarenta a\\xc3\\xb1os de edad y poseer las dem\\xc3\\xa1s calidades necesarias para ser ciudadano con derecho a sufragio; durar\\xc3\\xa1 ocho a\\xc3\\xb1os en el ejercicio de sus funciones y no podr\\xc3\\xa1 ser designado para el per\\xc3\\xadodo siguiente. Ser\\xc3\\xa1 aplicable al Fiscal Nacional lo dispuesto en el inciso segundo del art\\xc3\\xadculo 80 en lo relativo al tope de edad.\",27 de agosto de 2020,Ley N\\xc2\\xba 21.257\\r\\nCap\\xc3\\xadtulo VII, Ministerio P\\xc3\\xbablico,86,\"Existir\\xc3\\xa1 un Fiscal Regional en cada una de las regiones en que se divida administrativamente el pa\\xc3\\xads, a menos que la poblaci\\xc3\\xb3n o la extensi\\xc3\\xb3n geogr\\xc3\\xa1fica de la regi\\xc3\\xb3n hagan necesario nombrar m\\xc3\\xa1s de uno. Los fiscales regionales ser\\xc3\\xa1n nombrados por el Fiscal Nacional, a propuesta en terna de la Corte de Apelaciones de la respectiva regi\\xc3\\xb3n. En caso que en la regi\\xc3\\xb3n exista m\\xc3\\xa1s de una Corte de Apelaciones, la terna ser\\xc3\\xa1 formada por un pleno conjunto de todas ellas, especialmente convocado al efecto por el Presidente de la Corte de m\\xc3\\xa1s antigua creaci\\xc3\\xb3n. Los fiscales regionales deber\\xc3\\xa1n tener a lo menos cinco a\\xc3\\xb1os de t\\xc3\\xadtulo de abogado, haber cumplido 30 a\\xc3\\xb1os de edad y poseer las dem\\xc3\\xa1s calidades necesarias para ser ciudadano con derecho a sufragio; durar\\xc3\\xa1n ocho a\\xc3\\xb1os en el ejercicio de sus funciones y no podr\\xc3\\xa1n ser designados como fiscales regionales por el per\\xc3\\xadodo siguiente, lo que no obsta a que puedan ser nombrados en otro cargo del Ministerio P\\xc3\\xbablico.\",27 de agosto de 2020,Ley N\\xc2\\xba 21.257\\r\\nCap\\xc3\\xadtulo VII, Ministerio P\\xc3\\xbablico,87,\"La Corte Suprema y las Cortes de Apelaciones, en su caso, llamar\\xc3\\xa1n a concurso p\\xc3\\xbablico de antecedentes para la integraci\\xc3\\xb3n de las quinas y ternas, las que ser\\xc3\\xa1n acordadas por la mayor\\xc3\\xada absoluta de sus miembros en ejercicio, en pleno especialmente convocado al efecto. No podr\\xc3\\xa1n integrar las quinas y ternas los miembros activos o pensionados del Poder Judicial. Las quinas y ternas se formar\\xc3\\xa1n en una misma y \\xc3\\xbanica votaci\\xc3\\xb3n en la cual cada integrante del pleno tendr\\xc3\\xa1 derecho a votar por tres o dos personas, respectivamente. Resultar\\xc3\\xa1n elegidos quienes obtengan las cinco o las tres primeras mayor\\xc3\\xadas, seg\\xc3\\xban corresponda. De producirse un empate, \\xc3\\xa9ste se resolver\\xc3\\xa1 mediante sorteo.\",27 de agosto de 2020,Ley N\\xc2\\xba 21.257\\r\\nCap\\xc3\\xadtulo VII, Ministerio P\\xc3\\xbablico,88,\"Existir\\xc3\\xa1n fiscales adjuntos que ser\\xc3\\xa1n designados por el Fiscal Nacional, a propuesta en terna del fiscal regional respectivo, la que deber\\xc3\\xa1 formarse previo concurso p\\xc3\\xbablico, en conformidad a la ley org\\xc3\\xa1nica constitucional. Deber\\xc3\\xa1n tener el t\\xc3\\xadtulo de abogado y poseer las dem\\xc3\\xa1s calidades necesarias para ser ciudadano con derecho a sufragio.\",27 de agosto de 2020,Ley N\\xc2\\xba 21.257\\r\\nCap\\xc3\\xadtulo VII, Ministerio P\\xc3\\xbablico,89,\"El Fiscal Nacional y los fiscales regionales s\\xc3\\xb3lo podr\\xc3\\xa1n ser removidos por la Corte Suprema , a requerimiento del Presidente de la Rep\\xc3\\xbablica , de la C\\xc3\\xa1mara de Diputados, o de diez de sus miembros, por incapacidad, mal comportamiento o negligencia manifiesta en el ejercicio de sus funciones. La Corte conocer\\xc3\\xa1 del asunto en pleno especialmente convocado al efecto y para acordar la remoci\\xc3\\xb3n deber\\xc3\\xa1 reunir el voto conforme de la mayor\\xc3\\xada de sus miembros en ejercicio. La remoci\\xc3\\xb3n de los fiscales regionales tambi\\xc3\\xa9n podr\\xc3\\xa1 ser solicitada por el Fiscal Nacional.\",27 de agosto de 2020,Ley N\\xc2\\xba 21.257\\r\\nCap\\xc3\\xadtulo VII, Ministerio P\\xc3\\xbablico,90,\"Se aplicar\\xc3\\xa1 al Fiscal Nacional, a los fiscales regionales y a los fiscales adjuntos lo establecido en el art\\xc3\\xadculo 81.\",27 de agosto de 2020,Ley N\\xc2\\xba 21.257\\r\\nCap\\xc3\\xadtulo VII, Ministerio P\\xc3\\xbablico,91,\"El Fiscal Nacional tendr\\xc3\\xa1 la superintendencia directiva, correccional y econ\\xc3\\xb3mica del Ministerio P\\xc3\\xbablico, en conformidad a la ley org\\xc3\\xa1nica constitucional respectiva.\",27 de agosto de 2020,Ley N\\xc2\\xba 21.257\\r\\nCap\\xc3\\xadtulo VIII, Tribunal Constitucional,92,\"Habr\\xc3\\xa1 un Tribunal Constitucional integrado por diez miembros, designados de la siguiente forma: a) Tres designados por el Presidente de la Rep\\xc3\\xbablica . b) Cuatro elegidos por el Congreso Nacional. Dos ser\\xc3\\xa1n nombrados directamente por el Senado y dos ser\\xc3\\xa1n previamente propuestos por la C\\xc3\\xa1mara de Diputados para su aprobaci\\xc3\\xb3n o rechazo por el Senado. Los nombramientos, o la propuesta en su caso, se efectuar\\xc3\\xa1n en votaciones \\xc3\\xbanicas y requerir\\xc3\\xa1n para su aprobaci\\xc3\\xb3n del voto favorable de los dos tercios de los senadores o diputados en ejercicio, seg\\xc3\\xban corresponda . c) Tres elegidos por la Corte Suprema en una votaci\\xc3\\xb3n secreta que se celebrar\\xc3\\xa1 en sesi\\xc3\\xb3n especialmente convocada para tal efecto . Los miembros del Tribunal durar\\xc3\\xa1n nueve a\\xc3\\xb1os en sus cargos y se renovar\\xc3\\xa1n por parcialidades cada tres. Deber\\xc3\\xa1n tener a lo menos quince a\\xc3\\xb1os de t\\xc3\\xadtulo de abogado, haberse destacado en la actividad profesional, universitaria o p\\xc3\\xbablica, no podr\\xc3\\xa1n tener impedimento alguno que los inhabilite para desempe\\xc3\\xb1ar el cargo de juez, estar\\xc3\\xa1n sometidos a las normas de los art\\xc3\\xadculos 58, 59 y 81, y no podr\\xc3\\xa1n ejercer la profesi\\xc3\\xb3n de abogado, incluyendo la judicatura, ni cualquier acto de los establecidos en los incisos segundo y tercero del art\\xc3\\xadculo 60. Los miembros del Tribunal Constitucional ser\\xc3\\xa1n inamovibles y no podr\\xc3\\xa1n ser reelegidos, salvo aqu\\xc3\\xa9l que lo haya sido como reemplazante y haya ejercido el cargo por un per\\xc3\\xadodo menor a cinco a\\xc3\\xb1os. Cesar\\xc3\\xa1n en sus funciones al cumplir 75 a\\xc3\\xb1os de edad. En caso que un miembro del Tribunal Constitucional cese en su cargo, se proceder\\xc3\\xa1 a su reemplazo por quien corresponda, de acuerdo con el inciso primero de este art\\xc3\\xadculo y por el tiempo que falte para completar el per\\xc3\\xadodo del reemplazado. El Tribunal funcionar\\xc3\\xa1 en pleno o dividido en dos salas. En el primer caso, el qu\\xc3\\xb3rum para sesionar ser\\xc3\\xa1 de, a lo menos, ocho miembros y en el segundo de, a lo menos, cuatro. El Tribunal adoptar\\xc3\\xa1 sus acuerdos por simple mayor\\xc3\\xada, salvo los casos en que se exija un qu\\xc3\\xb3rum diferente y fallar\\xc3\\xa1 de acuerdo a derecho. El Tribunal en pleno resolver\\xc3\\xa1 en definitiva las atribuciones indicadas en los n\\xc3\\xbameros 1, 3, 4, 5, 6, 7, 8, 9 y 11 del art\\xc3\\xadculo siguiente. Para el ejercicio de sus restantes atribuciones, podr\\xc3\\xa1 funcionar en pleno o en sala de acuerdo a lo que disponga la ley org\\xc3\\xa1nica constitucional respectiva.Una ley org\\xc3\\xa1nica constitucional determinar\\xc3\\xa1 su organizaci\\xc3\\xb3n, funcionamiento, procedimientos y fijar\\xc3\\xa1 la planta, r\\xc3\\xa9gimen de remuneraciones y estatuto de su personal.\",27 de agosto de 2020,Ley N\\xc2\\xba 21.257\\r\\nCap\\xc3\\xadtulo VIII, Tribunal Constitucional,93,\"Son atribuciones del Tribunal Constitucional: 1 Ejercer el control de constitucionalidad de las leyes que interpreten alg\\xc3\\xban precepto de la Constituci\\xc3\\xb3n , de las leyes org\\xc3\\xa1nicas constitucionales y de las normas de un tratado que versen sobre materias propias de estas \\xc3\\xbaltimas, antes de su promulgaci\\xc3\\xb3n; 2 Resolver sobre las cuestiones de constitucionalidad de los auto s acordados dictados por la Corte Suprema , las Cortes de Apelaciones y el Tribunal Calificador de Elecciones; 3 Resolver las cuestiones sobre constitucionalidad que se susciten durante la tramitaci\\xc3\\xb3n de los proyectos de ley o de reforma constitucional y de los tratados sometidos a la aprobaci\\xc3\\xb3n del Congreso; 4 Resolver las cuestiones que se susciten sobre la constitucionalidad de un decreto con fuerza de ley; 5 Resolver las cuestiones que se susciten sobre constitucionalidad con relaci\\xc3\\xb3n a la convocatoria a un plebiscito, sin perjuicio de las atribuciones que correspondan al Tribunal Calificador de Elecciones; 6\\xc2\\xb0 Resolver, por la mayor\\xc3\\xada de sus miembros en ejercicio, la inaplicabilidad de un precepto legal cuya aplicaci\\xc3\\xb3n en cualquier gesti\\xc3\\xb3n que se siga ante un tribunal ordinario o especial, resulte contraria a la Constituci\\xc3\\xb3n ; 7 Resolver por la mayor\\xc3\\xada de los cuatro quintos de sus integrantes en ejercicio, la inconstitucionalidad de un precepto legal declarado inaplicable en conformidad a lo dispuesto en el numeral anterior; 8 Resolver los reclamos en caso de que el Presidente de la Rep\\xc3\\xbablica no promulgue una ley cuando deba hacerlo o promulgue un texto diverso del que constitucionalmente corresponda; 9 Resolver sobre la constitucionalidad de un decreto o resoluci\\xc3\\xb3n del Presidente de la Rep\\xc3\\xbablica que la Contralor\\xc3\\xada General de la Rep\\xc3\\xbablica haya representado por estimarlo inconstitucional, cuando sea requerido por el Presidente en conformidad al art\\xc3\\xadculo 99; 10\\xc2\\xb0 Declarar la inconstitucionalidad de las organizaciones y de los movimientos o partidos pol\\xc3\\xadticos, como asimismo la responsabilidad de las personas que hubieran tenido participaci\\xc3\\xb3n en los hechos que motivaron la declaraci\\xc3\\xb3n de inconstitucionalidad, en conformidad a lo dispuesto en los p\\xc3\\xa1rrafos sexto, s\\xc3\\xa9ptimo y octavo del N 15 del art\\xc3\\xadculo 19 de esta Constituci\\xc3\\xb3n. Sin embargo, si la persona afectada fuera el Presidente de la Rep\\xc3\\xbablica o el Presidente electo, la referida declaraci\\xc3\\xb3n requerir\\xc3\\xa1, adem\\xc3\\xa1s, el acuerdo del Senado adoptado por la mayor\\xc3\\xada de sus miembros en ejercicio; 11 Informar al Senado en los casos a que se refiere el art\\xc3\\xadculo 53 n\\xc3\\xbamero 7) de esta Constituci\\xc3\\xb3n; 12 Resolver las contiendas de competencia que se susciten entre las autoridades pol\\xc3\\xadticas o administrativas y los tribunales de justicia, que no correspondan al Senado; 13 Resolver sobre las inhabilidades constitucionales o legales que afecten a una persona para ser designada Ministro de Estado, permanecer en dicho cargo o desempe\\xc3\\xb1ar simult\\xc3\\xa1neamente otras funciones; 14 Pronunciarse sobre las inhabilidades, incompatibilidades y causales de cesaci\\xc3\\xb3n en el cargo de los parlamentarios; 15 Calificar la inhabilidad invocada por un parlamentario en los t\\xc3\\xa9rminos del inciso final del art\\xc3\\xadculo 60 y pronunciarse sobre su renuncia al cargo, y 16\\xc2\\xb0 Resolver sobre la constitucionalidad de los decretos supremos, cualquiera sea el vicio invocado, incluyendo aqu\\xc3\\xa9llos que fueren dictados en el ejercicio de la potestad reglamentaria aut\\xc3\\xb3noma del Presidente de la Rep\\xc3\\xbablica cuando se refieran a materias que pudieran estar reservadas a la ley por mandato del art\\xc3\\xadculo 63. En el caso del n\\xc3\\xbamero 1., la C\\xc3\\xa1mara de origen enviar\\xc3\\xa1 al Tribunal Constitucional el proyecto respectivo dentro de los cinco d\\xc3\\xadas siguientes a aqu\\xc3\\xa9l en que quede totalmente tramitado por el Congreso. En el caso del n\\xc3\\xbamero 2., el Tribunal podr\\xc3\\xa1 conocer de la materia a requerimiento del Presidente de la Rep\\xc3\\xbablica, de cualquiera de las C\\xc3\\xa1maras o de diez de sus miembros. Asimismo, podr\\xc3\\xa1 requerir al Tribunal toda persona que sea parte en juicio o gesti\\xc3\\xb3n pendiente ante un tribunal ordinario o especial, o desde la primera actuaci\\xc3\\xb3n del procedimiento penal, cuando sea afectada en el ejercicio de sus derechos fundamentales por lo dispuesto en el respectivo autoacordado En el caso del n\\xc3\\xbamero 3., el Tribunal s\\xc3\\xb3lo podr\\xc3\\xa1 conocer de la materia a requerimiento del Presidente de la Rep\\xc3\\xbablica, de cualquiera de las C\\xc3\\xa1maras o de una cuarta parte de sus miembros en ejercicio, siempre que sea formulado antes de la promulgaci\\xc3\\xb3n de la ley o de la remisi\\xc3\\xb3n de la comunicaci\\xc3\\xb3n que informa la aprobaci\\xc3\\xb3n del tratado por el Congreso Nacional y, en caso alguno, despu\\xc3\\xa9s de quinto d\\xc3\\xada del despacho del proyecto o de la se\\xc3\\xb1alada comunicaci\\xc3\\xb3n. El Tribunal deber\\xc3\\xa1 resolver dentro del plazo de diez d\\xc3\\xadas contado desde que reciba el requerimiento, a menos que decida prorrogarlo hasta por otros diez d\\xc3\\xadas por motivos graves y calificados. El requerimiento no suspender\\xc3\\xa1 la tramitaci\\xc3\\xb3n del proyecto; pero la parte impugnada de \\xc3\\xa9ste no podr\\xc3\\xa1 ser promulgada hasta la expiraci\\xc3\\xb3n del plazo referido, salvo que se trate del proyecto de Ley de Presupuestos o del proyecto relativo a la declaraci\\xc3\\xb3n de guerra propuesta por el Presidente de la Rep\\xc3\\xbablica. En el caso del n\\xc3\\xbamero 4., la cuesti\\xc3\\xb3n podr\\xc3\\xa1 ser planteada por el Presidente de la Rep\\xc3\\xbablica dentro del plazo de diez d\\xc3\\xadas cuando la Contralor\\xc3\\xada rechace por inconstitucional un decreto con fuerza de ley. Tambi\\xc3\\xa9n podr\\xc3\\xa1 ser promovida por cualquiera de las C\\xc3\\xa1maras o por una cuarta parte de sus miembros en ejercicio en caso de que la Contralor\\xc3\\xada hubiere tomado raz\\xc3\\xb3n de un decreto con fuerza de ley que se impugne de inconstitucional. Este requerimiento deber\\xc3\\xa1 efectuarse dentro del plazo de treinta d\\xc3\\xadas, contado desde la publicaci\\xc3\\xb3n del respectivo decreto con fuerza de ley. En el caso del n\\xc3\\xbamero 5., la cuesti\\xc3\\xb3n podr\\xc3\\xa1 promoverse a requerimiento del Senado o de la C\\xc3\\xa1mara de Diputados, dentro de diez d\\xc3\\xadas contados desde la fecha de publicaci\\xc3\\xb3n del decreto que fije el d\\xc3\\xada de la consulta plebiscitaria. El Tribunal establecer\\xc3\\xa1 en su resoluci\\xc3\\xb3n el texto definitivo de la consulta plebiscitaria, cuando \\xc3\\xa9sta fuera procedente. Si al tiempo de dictarse la sentencia faltaran menos de treinta d\\xc3\\xadas para la realizaci\\xc3\\xb3n del plebiscito, el Tribunal fijar\\xc3\\xa1 en ella una nueva fecha comprendida entre los treinta y los sesenta d\\xc3\\xadas siguientes al fallo. En el caso del n\\xc3\\xbamero 6., la cuesti\\xc3\\xb3n podr\\xc3\\xa1 ser planteada por cualquiera de las partes o por el juez que conoce del asunto. Corresponder\\xc3\\xa1 a cualquiera de las salas del Tribunal declarar, sin ulterior recurso, la admisibilidad de la cuesti\\xc3\\xb3n siempre que verifique la existencia de una gesti\\xc3\\xb3n pendiente ante el tribunal ordinario o especial, que la aplicaci\\xc3\\xb3n del precepto legal impugnado pueda resultar decisivo en la resoluci\\xc3\\xb3n de un asunto, que la impugnaci\\xc3\\xb3n est\\xc3\\xa9 fundada razonablemente y se cumplan los dem\\xc3\\xa1s requisitos que establezca la ley. A esta misma sala le corresponder\\xc3\\xa1 resolver la suspensi\\xc3\\xb3n del procedimiento en que se ha originado la acci\\xc3\\xb3n de inaplicabilidad por inconstitucionalidad. En el caso del n\\xc3\\xbamero 7, una vez resuelta en sentencia previa la declaraci\\xc3\\xb3n de inaplicabilidad de un precepto legal, conforme al n\\xc3\\xbamero 6 de este art\\xc3\\xadculo, habr\\xc3\\xa1 acci\\xc3\\xb3n p\\xc3\\xbablica para requerir al Tribunal la declaraci\\xc3\\xb3n de inconstitucionalidad, sin perjuicio de la facultad de \\xc3\\xa9ste para declararla de oficio. Corresponder\\xc3\\xa1 a la ley org\\xc3\\xa1nica constitucional respectiva establecer los requisitos de admisibilidad, en el caso de que se ejerza la acci\\xc3\\xb3n p\\xc3\\xbablica, como asimismo regular el procedimiento que deber\\xc3\\xa1 seguirse para actuar de oficio. En los casos del n\\xc3\\xbamero 8, la cuesti\\xc3\\xb3n podr\\xc3\\xa1 promoverse por cualquiera de las C\\xc3\\xa1maras o por una cuarta parte de sus miembros en ejercicio, dentro de los treinta d\\xc3\\xadas siguientes a la publicaci\\xc3\\xb3n del texto impugnado o dentro de los sesenta d\\xc3\\xadas siguientes a la fecha en que el Presidente de la Rep\\xc3\\xbablica debi\\xc3\\xb3 efectuar la promulgaci\\xc3\\xb3n de la ley. Si el Tribunal acogiera el reclamo, promulgar\\xc3\\xa1 en su fallo la ley que no lo haya sido o rectificar\\xc3\\xa1 la promulgaci\\xc3\\xb3n incorrecta. En el caso del n\\xc3\\xbamero 11, el Tribunal s\\xc3\\xb3lo podr\\xc3\\xa1 conocer de la materia a requerimiento del Senado. Habr\\xc3\\xa1 acci\\xc3\\xb3n p\\xc3\\xbablica para requerir al Tribunal respecto de las atribuciones que se le confieren por los n\\xc3\\xbameros 10. y 13. de este art\\xc3\\xadculo. Sin embargo, si en el caso del n\\xc3\\xbamero 10 la persona afectada fuera el Presidente de la Rep\\xc3\\xbablica o el Presidente electo, el requerimiento deber\\xc3\\xa1 formularse por la C\\xc3\\xa1mara de Diputados o por la cuarta parte de sus miembros en ejercicio. En el caso del n\\xc3\\xbamero 12\\xc2\\xb0, el requerimiento deber\\xc3\\xa1 ser deducido por cualquiera de las autoridades o tribunales en conflicto. En el caso del n\\xc3\\xbamero 14, el Tribunal s\\xc3\\xb3lo podr\\xc3\\xa1 conocer de la materia a requerimiento del Presidente de la Rep\\xc3\\xbablica o de no menos de diez parlamentarios en ejercicio. En el caso del n\\xc3\\xbamero 16, el Tribunal s\\xc3\\xb3lo podr\\xc3\\xa1 conocer de la materia a requerimiento de cualquiera de las C\\xc3\\xa1maras efectuado dentro de los treinta d\\xc3\\xadas siguientes a la publicaci\\xc3\\xb3n o notificaci\\xc3\\xb3n del texto impugnado. En el caso de vicios que no se refieran a decretos que excedan la potestad reglamentaria aut\\xc3\\xb3noma del Presidente de la Rep\\xc3\\xbablica tambi\\xc3\\xa9n podr\\xc3\\xa1 una cuarta parte de los miembros en ejercicio deducir dicho requerimiento. El Tribunal Constitucional podr\\xc3\\xa1 apreciar en conciencia los hechos cuando conozca de las atribuciones indicadas en los n\\xc3\\xbameros 10, 11 y 13, como, asimismo, cuando conozca de las causales de cesaci\\xc3\\xb3n en el cargo de parlamentario. En los casos de los numerales 10, 13 y en el caso del numeral 2 cuando sea requerido por una parte, corresponder\\xc3\\xa1 a una sala del Tribunal pronunciarse sin ulterior recurso, de su admisibilidad.\",27 de agosto de 2020,Ley N\\xc2\\xba 21.257\\r\\nCap\\xc3\\xadtulo VIII, Tribunal Constitucional,94,\"Contra las resoluciones del Tribunal Constitucional no proceder\\xc3\\xa1 recurso alguno, sin perjuicio de que puede, el mismo Tribunal, conforme a la ley, rectificar los errores de hecho en que hubiere incurrido. Las disposiciones que el Tribunal declare inconstitucionales no podr\\xc3\\xa1n convertirse en ley en el proyecto o decreto con fuerza de ley de que se trate. En el caso del N 16 del art\\xc3\\xadculo 93, el decreto supremo impugnado quedar\\xc3\\xa1 sin efecto de pleno derecho, con el solo m\\xc3\\xa9rito de la sentencia del Tribunal que acoja el reclamo. No obstante, el precepto declarado inconstitucional en conformidad a lo dispuesto en los numerales 2, 4 \\xc3\\xb3 7 del art\\xc3\\xadculo 93, se entender\\xc3\\xa1 derogado desde la publicaci\\xc3\\xb3n en el Diario Oficial de la sentencia que acoja el reclamo, la que no producir\\xc3\\xa1 efecto retroactivo. Las sentencias que declaren la inconstitucionalidad de todo o parte de una ley, de un decreto con fuerza de ley, de un decreto supremo o auto acordado, en su caso, se publicar\\xc3\\xa1n en el Diario Oficial dentro de los tres d\\xc3\\xadas siguientes a su dictaci\\xc3\\xb3n.\",27 de agosto de 2020,Ley N\\xc2\\xba 21.257\\r\\nCap\\xc3\\xadtulo IX, Servicio Electoral y Justicia Electoral,94,\"bis Un organismo aut\\xc3\\xb3nomo, con personalidad jur\\xc3\\xaddica y patrimonio propios, denominado Servicio Electoral, ejercer\\xc3\\xa1 la administraci\\xc3\\xb3n, supervigilancia y fiscalizaci\\xc3\\xb3n de los procesos electorales y plebiscitarios; del cumplimiento de las normas sobre transparencia, l\\xc3\\xadmite y control del gasto electoral; de las normas sobre los partidos pol\\xc3\\xadticos, y las dem\\xc3\\xa1s funciones que se\\xc3\\xb1ale una ley org\\xc3\\xa1nica constitucional. La direcci\\xc3\\xb3n superior del Servicio Electoral corresponder\\xc3\\xa1 a un Consejo Directivo, el que ejercer\\xc3\\xa1 de forma exclusiva las atribuciones que le encomienden la Constituci\\xc3\\xb3n y las leyes. Dicho Consejo estar\\xc3\\xa1 integrado por cinco consejeros designados por el Presidente de la Rep\\xc3\\xbablica, previo acuerdo del Senado, adoptado por los dos tercios de sus miembros en ejercicio. Los Consejeros durar\\xc3\\xa1n diez a\\xc3\\xb1os en sus cargos, no podr\\xc3\\xa1n ser designados para un nuevo per\\xc3\\xadodo y se renovar\\xc3\\xa1n por parcialidades cada dos a\\xc3\\xb1os. Los Consejeros solo podr\\xc3\\xa1n ser removidos por la Corte Suprema, a requerimiento del Presidente de la Rep\\xc3\\xbablica o de un tercio de los miembros en ejercicio de la C\\xc3\\xa1mara de Diputados, por infracci\\xc3\\xb3n grave a la Constituci\\xc3\\xb3n o a las leyes, incapacidad, mal comportamiento o negligencia manifiesta en el ejercicio de sus funciones. La Corte conocer\\xc3\\xa1 del asunto en Pleno, especialmente convocado al efecto, y para acordar la remoci\\xc3\\xb3n deber\\xc3\\xa1 reunir el voto conforme de la mayor\\xc3\\xada de sus miembros en ejercicio. La organizaci\\xc3\\xb3n y atribuciones del Servicio Electoral ser\\xc3\\xa1n establecidas por una ley org\\xc3\\xa1nica constitucional. Su forma de desconcentraci\\xc3\\xb3n, las plantas, remuneraciones y estatuto del personal ser\\xc3\\xa1n establecidos por una ley.\",27 de agosto de 2020,Ley N\\xc2\\xba 21.257\\r\\nCap\\xc3\\xadtulo IX, Servicio Electoral y Justicia Electoral,95,\"Un tribunal especial, que se denominar\\xc3\\xa1 Tribunal Calificador de Elecciones, conocer\\xc3\\xa1 del escrutinio general y de la calificaci\\xc3\\xb3n de las elecciones de Presidente de la Rep\\xc3\\xbablica , de diputados y senadores; resolver\\xc3\\xa1 las reclamaciones a que dieren lugar y proclamar\\xc3\\xa1 a los que resulten elegidos. Dicho Tribunal conocer\\xc3\\xa1, asimismo, de los plebiscitos, y tendr\\xc3\\xa1 las dem\\xc3\\xa1s atribuciones que determine la ley. Estar\\xc3\\xa1 constituido por cinco miembros designados en la siguiente forma: a) Cuatro ministros de la Corte Suprema , designados por \\xc3\\xa9sta, mediante sorteo, en la forma y oportunidad que determine la ley org\\xc3\\xa1nica constitucional respectiva, y b) Un ciudadano que hubiere ejercido el cargo de Presidente o Vicepresidente de la C\\xc3\\xa1mara de Diputados o del Senado por un per\\xc3\\xadodo no inferior a los 365 d\\xc3\\xadas, designado por la Corte Suprema en la forma se\\xc3\\xb1alada en la letra a) precedente, de entre todos aqu\\xc3\\xa9llos que re\\xc3\\xbanan las calidades indicadas. Las designaciones a que se refiere la letra b) no podr\\xc3\\xa1n recaer en personas que sean parlamentario, candidato a cargos de elecci\\xc3\\xb3n popular, Ministro de Estado, ni dirigente de partido pol\\xc3\\xadtico. Los miembros de este tribunal durar\\xc3\\xa1n cuatro a\\xc3\\xb1os en sus funciones y les ser\\xc3\\xa1n aplicables las disposiciones de los art\\xc3\\xadculos 58 y 59 de esta Constituci\\xc3\\xb3n. El Tribunal Calificador proceder\\xc3\\xa1 como jurado en la apreciaci\\xc3\\xb3n de los hechos y sentenciar\\xc3\\xa1 con arreglo a derecho. Una ley org\\xc3\\xa1nica constitucional regular\\xc3\\xa1 la organizaci\\xc3\\xb3n y funcionamiento del Tribunal Calificador.\",27 de agosto de 2020,Ley N\\xc2\\xba 21.257\\r\\nCap\\xc3\\xadtulo IX, Servicio Electoral y Justicia Electoral,96,\"Habr\\xc3\\xa1 tribunales electorales regionales encargados de conocer el escrutinio general y la calificaci\\xc3\\xb3n de las elecciones que la ley les encomiende, as\\xc3\\xad como de resolver las reclamaciones a que dieren lugar y de proclamar a los candidatos electos. Sus resoluciones ser\\xc3\\xa1n apelables para ante el Tribunal Calificador de Elecciones en la forma que determine la ley. Asimismo , les corresponder\\xc3\\xa1 conocer de la calificaci\\xc3\\xb3n de las elecciones de car\\xc3\\xa1cter gremial y de las que tengan lugar en aquellos grupos intermedios que la ley se\\xc3\\xb1ale. Estos tribunales estar\\xc3\\xa1n constituidos por un ministro de la Corte de Apelaciones respectiva, elegido por \\xc3\\xa9sta, y por dos miembros designados por el Tribunal Calificador de Elecciones de entre personas que hayan ejercido la profesi\\xc3\\xb3n de abogado o desempe\\xc3\\xb1ado la funci\\xc3\\xb3n de ministro o abogado integrante de Corte de Apelaciones por un plazo no inferior a tres a\\xc3\\xb1os . Los miembros de estos tribunales durar\\xc3\\xa1n cuatro a\\xc3\\xb1os en sus funciones y tendr\\xc3\\xa1n las inhabilidades e incompatibilidades que determine la ley. Estos tribunales proceder\\xc3\\xa1n como jurado en la apreciaci\\xc3\\xb3n de los hechos y sentenciar\\xc3\\xa1n con arreglo a derecho. La ley determinar\\xc3\\xa1 las dem\\xc3\\xa1s atribuciones de estos tribunales y regular\\xc3\\xa1 su organizaci\\xc3\\xb3n y funcionamiento.\",27 de agosto de 2020,Ley N\\xc2\\xba 21.257\\r\\nCap\\xc3\\xadtulo IX, Servicio Electoral y Justicia Electoral,97,\"Anualmente, se destinar\\xc3\\xa1n en la Ley de Presupuestos de la Naci\\xc3\\xb3n los fondos necesarios para la organizaci\\xc3\\xb3n y funcionamiento de estos tribunales, cuyas plantas, remuneraciones y estatuto del personal ser\\xc3\\xa1n establecidos por ley.\",27 de agosto de 2020,Ley N\\xc2\\xba 21.257\\r\\nCap\\xc3\\xadtulo X, Contralor\\xc3\\xada General De La Rep\\xc3\\xbablica,98,\"Un organismo aut\\xc3\\xb3nomo con el nombre de Contralor\\xc3\\xada General de la Rep\\xc3\\xbablica ejercer\\xc3\\xa1 el control de la legalidad de los actos de la Administraci\\xc3\\xb3n , fiscalizar\\xc3\\xa1 el ingreso y la inversi\\xc3\\xb3n de los fondos del Fisco, de las municipalidades y de los dem\\xc3\\xa1s organismos y servicios que determinen las leyes; examinar\\xc3\\xa1 y juzgar\\xc3\\xa1 las cuentas de las personas que tengan a su cargo bienes de esas entidades; llevar\\xc3\\xa1 la contabilidad general de la Naci\\xc3\\xb3n , y desempe\\xc3\\xb1ar\\xc3\\xa1 las dem\\xc3\\xa1s funciones que le encomiende la ley org\\xc3\\xa1nica constitucional respectiva. El Contralor General de la Republica deber\\xc3\\xa1 tener a lo menos diez a\\xc3\\xb1os de t\\xc3\\xadtulo de abogado, haber cumplido cuarenta a\\xc3\\xb1os de edad y poseer las dem\\xc3\\xa1s calidades necesarias para ser ciudadano con derecho a sufragio. Ser\\xc3\\xa1 designado por el Presidente de la Rep\\xc3\\xbablica con acuerdo del Senado adoptado por los tres quintos de sus miembros en ejercicio, por un per\\xc3\\xadodo de ocho a\\xc3\\xb1os y no podr\\xc3\\xa1 ser designado para el per\\xc3\\xadodo siguiente. Con todo, al cumplir 75 a\\xc3\\xb1os de edad cesar\\xc3\\xa1 en el cargo.\",27 de agosto de 2020,Ley N\\xc2\\xba 21.257\\r\\nCap\\xc3\\xadtulo X, Contralor\\xc3\\xada General De La Rep\\xc3\\xbablica,99,\"En el ejercicio de la funci\\xc3\\xb3n de control de legalidad, el Contralor General tomar\\xc3\\xa1 raz\\xc3\\xb3n de los decretos y resoluciones que, en conformidad a la ley, deben tramitarse por la Contralor\\xc3\\xada o representar\\xc3\\xa1 la ilegalidad de que puedan adolecer; pero deber\\xc3\\xa1 darles curso cuando, a pesar de su representaci\\xc3\\xb3n, el Presidente de la Rep\\xc3\\xbablica insista con la firma de todos sus Ministros, caso en el cual deber\\xc3\\xa1 enviar copia de los respectivos decretos a la C\\xc3\\xa1mara de Diputados. En ning\\xc3\\xban caso dar\\xc3\\xa1 curso a los decretos de gastos que excedan el l\\xc3\\xadmite se\\xc3\\xb1alado en la Constituci\\xc3\\xb3n y remitir\\xc3\\xa1 copia \\xc3\\xadntegra de los antecedentes a la misma C\\xc3\\xa1mara. Corresponder\\xc3\\xa1, asimismo, al Contralor General de la Rep\\xc3\\xbablica tomar raz\\xc3\\xb3n de los decretos con fuerza de ley, debiendo representarlos cuando ellos excedan o contravengan la ley delegatoria o sean contrarios a la Constituci\\xc3\\xb3n. Si la representaci\\xc3\\xb3n tuviere lugar con respecto a un decreto con fuerza de ley, a un decreto promulgatorio de una ley o de una reforma constitucional por apartarse del texto aprobado, o a un decreto o resoluci\\xc3\\xb3n por ser contrario a la Constituci\\xc3\\xb3n , el Presidente de la Rep\\xc3\\xbablica no tendr\\xc3\\xa1 la facultad de insistir, y en caso de no conformarse con la representaci\\xc3\\xb3n de la Contralor\\xc3\\xada deber\\xc3\\xa1 remitir los antecedentes al Tribunal Constitucional dentro del plazo de diez d\\xc3\\xadas, a fin de que \\xc3\\xa9ste resuelva la controversia. En lo dem\\xc3\\xa1s, la organizaci\\xc3\\xb3n, el funcionamiento y las atribuciones de la Contralor\\xc3\\xada General de la Rep\\xc3\\xbablica ser\\xc3\\xa1n materia de una ley org\\xc3\\xa1nica constitucional.\",27 de agosto de 2020,Ley N\\xc2\\xba 21.257\\r\\nCap\\xc3\\xadtulo X, Contralor\\xc3\\xada General De La Rep\\xc3\\xbablica,100,\"Las Tesorer\\xc3\\xadas del Estado no podr\\xc3\\xa1n efectuar ning\\xc3\\xban pago sino en virtud de un decreto o resoluci\\xc3\\xb3n expedido por autoridad competente, en que se exprese la ley o la parte del presupuesto que autorice aquel gasto. Los pagos se efectuar\\xc3\\xa1n considerando, adem\\xc3\\xa1s, el orden cronol\\xc3\\xb3gico establecido en ella y previa refrendaci\\xc3\\xb3n presupuestaria del documento que ordene el pago.\",27 de agosto de 2020,Ley N\\xc2\\xba 21.257\\r\\nCap\\xc3\\xadtulo XI,\" Fuerzas Armadas, De Orden Y Seguridad P\\xc3\\xbablica\",101,\"Las Fuerzas Armadas dependientes del Ministerio encargado de la Defensa Nacional est\\xc3\\xa1n constituidas \\xc3\\xbanica y exclusivamente por el Ej\\xc3\\xa9rcito, la Armada y la Fuerza A\\xc3\\xa9rea. Existen para la defensa de la patria y son esenciales para la seguridad nacional.Las Fuerzas de Orden y Seguridad P\\xc3\\xbablica est\\xc3\\xa1n integradas s\\xc3\\xb3lo por Carabineros e Investigaciones. Constituyen la fuerza p\\xc3\\xbablica y existen para dar eficacia al derecho, garantizar el orden p\\xc3\\xbablico y la seguridad p\\xc3\\xbablica interior, en la forma que lo determinen sus respectivas leyes org\\xc3\\xa1nicas. Dependen del Ministerio encargado de la Seguridad P\\xc3\\xbablica.Las Fuerzas Armadas y Carabineros, como cuerpos armados, son esencialmente obedientes y no deliberantes. Las fuerzas dependientes de los Ministerios encargados de la Defensa Nacional y de la Seguridad P\\xc3\\xbablica son, adem\\xc3\\xa1s, profesionales, jerarquizadas y disciplinadas.\",27 de agosto de 2020,Ley N\\xc2\\xba 21.257\\r\\nCap\\xc3\\xadtulo XI,\" Fuerzas Armadas, De Orden Y Seguridad P\\xc3\\xbablica\",102,\"La incorporaci\\xc3\\xb3n a las plantas y dotaciones de las Fuerzas Armadas y de Carabineros s\\xc3\\xb3lo podr\\xc3\\xa1 hacerse a trav\\xc3\\xa9s de sus propias Escuelas, con excepci\\xc3\\xb3n de los escalafones profesionales y de empleados civiles que determine la ley.\",27 de agosto de 2020,Ley N\\xc2\\xba 21.257\\r\\nCap\\xc3\\xadtulo XI,\" Fuerzas Armadas, De Orden Y Seguridad P\\xc3\\xbablica\",103,\"Ninguna persona, grupo u organizaci\\xc3\\xb3n podr\\xc3\\xa1 poseer o tener armas u otros elementos similares que se\\xc3\\xb1ale una ley aprobada con qu\\xc3\\xb3rum calificado, sin autorizaci\\xc3\\xb3n otorgada en conformidad a \\xc3\\xa9sta.Una ley determinar\\xc3\\xa1 el Ministerio o los \\xc3\\xb3rganos de su dependencia que ejercer\\xc3\\xa1n la supervigilancia y control de las armas. Asimismo, establecer\\xc3\\xa1 los \\xc3\\xb3rganos p\\xc3\\xbablicos encargados de fiscalizar el cumplimiento de las normas relativas a dicho control.\",27 de agosto de 2020,Ley N\\xc2\\xba 21.257\\r\\nCap\\xc3\\xadtulo XI,\" Fuerzas Armadas, De Orden Y Seguridad P\\xc3\\xbablica\",104,\"Los Comandantes en Jefe del Ej\\xc3\\xa9rcito, de la Armada y de la Fuerza A\\xc3\\xa9rea , y el General Director de Carabineros ser\\xc3\\xa1n designados por el Presidente de la Rep\\xc3\\xbablica de entre los cinco oficiales generales de mayor antig\\xc3\\xbcedad, que re\\xc3\\xbanan las calidades que los respectivos estatutos institucionales exijan para tales cargos; durar\\xc3\\xa1n cuatro a\\xc3\\xb1os en sus funciones, no podr\\xc3\\xa1n ser nombrados para un nuevo per\\xc3\\xadodo y gozar\\xc3\\xa1n de inamovilidad en su cargo.El Presidente de la Rep\\xc3\\xbablica , mediante decreto fundado e informando previamente a la C\\xc3\\xa1mara de Diputados y al Senado, podr\\xc3\\xa1 llamar a retiro a los Comandantes en Jefe del Ej\\xc3\\xa9rcito, de la Armada y de la Fuerza A\\xc3\\xa9rea y al General Director de Carabineros, en su caso, antes de completar su respectivo per\\xc3\\xadodo.\",27 de agosto de 2020,Ley N\\xc2\\xba 21.257\\r\\nCap\\xc3\\xadtulo XI,\" Fuerzas Armadas, De Orden Y Seguridad P\\xc3\\xbablica\",105,\"Los nombramientos, ascensos y retiros de los oficiales de las Fuerzas Armadas y Carabineros, se efectuar\\xc3\\xa1n por decreto supremo, en conformidad a la ley org\\xc3\\xa1nica constitucional correspondiente, la que determinar\\xc3\\xa1 las normas b\\xc3\\xa1sicas respectivas, as\\xc3\\xad como las normas b\\xc3\\xa1sicas referidas a la carrera profesional, incorporaci\\xc3\\xb3n a sus plantas, previsi\\xc3\\xb3n, antig\\xc3\\xbcedad, mando, sucesi\\xc3\\xb3n de mando y presupuesto de las Fuerzas Armadas y Carabineros.El ingreso, los nombramientos, ascensos y retiros en Investigaciones se efectuar\\xc3\\xa1n en conformidad a su ley org\\xc3\\xa1nica.\",27 de agosto de 2020,Ley N\\xc2\\xba 21.257\\r\\nCap\\xc3\\xadtulo XII, Consejo De Seguridad Nacional,106,\"Habr\\xc3\\xa1 un Consejo de Seguridad Nacional encargado de asesorar al Presidente de la Rep\\xc3\\xbablica en las materias vinculadas a la seguridad nacional y de ejercer las dem\\xc3\\xa1s funciones que esta Constituci\\xc3\\xb3n le encomienda. Ser\\xc3\\xa1 presidido por el Jefe del Estado y estar\\xc3\\xa1 integrado por los Presidentes del Senado, de la C\\xc3\\xa1mara de Diputados y de la Corte Suprema , por los Comandantes en Jefe de las Fuerzas Armadas, por el General Director de Carabineros y por el Contralor General de la Rep\\xc3\\xbablica. En los casos que el Presidente de la Rep\\xc3\\xbablica lo determine, podr\\xc3\\xa1n estar presentes en sus sesiones los ministros encargados del gobierno interior, de la defensa nacional, de la seguridad p\\xc3\\xbablica, de las relaciones exteriores y de la econom\\xc3\\xada y finanzas del pa\\xc3\\xads.\",27 de agosto de 2020,Ley N\\xc2\\xba 21.257\\r\\nCap\\xc3\\xadtulo XII, Consejo De Seguridad Nacional,107,\"El Consejo de Seguridad Nacional se reunir\\xc3\\xa1 cuando sea convocado por el Presidente de la Rep\\xc3\\xbablica y requerir\\xc3\\xa1 como qu\\xc3\\xb3rum para sesionar el de la mayor\\xc3\\xada absoluta de sus integrantes. El Consejo no adoptar\\xc3\\xa1 acuerdos sino para dictar el reglamento a que se refiere el inciso final de la presente disposici\\xc3\\xb3n. En sus sesiones, cualquiera de sus integrantes podr\\xc3\\xa1 expresar su opini\\xc3\\xb3n frente a alg\\xc3\\xban hecho, acto o materia que diga relaci\\xc3\\xb3n con las bases de la institucionalidad o la seguridad nacional. Las actas del Consejo ser\\xc3\\xa1n p\\xc3\\xbablicas, a menos que la mayor\\xc3\\xada de sus miembros determine lo contrario. Un reglamento dictado por el propio Consejo establecer\\xc3\\xa1 las dem\\xc3\\xa1s disposiciones concernientes a su organizaci\\xc3\\xb3n, funcionamiento y publicidad de sus debates.\",27 de agosto de 2020,Ley N\\xc2\\xba 21.257\\r\\nCap\\xc3\\xadtulo XIII, Banco Central,108,\"Existir\\xc3\\xa1 un organismo aut\\xc3\\xb3nomo, con patrimonio propio, de car\\xc3\\xa1cter t\\xc3\\xa9cnico, denominado Banco Central, cuya composici\\xc3\\xb3n, organizaci\\xc3\\xb3n, funciones y atribuciones determinar\\xc3\\xa1 una ley org\\xc3\\xa1nica constitucional.\",27 de agosto de 2020,Ley N\\xc2\\xba 21.257\\r\\nCap\\xc3\\xadtulo XIII, Banco Central,109,\"El Banco Central s\\xc3\\xb3lo podr\\xc3\\xa1 efectuar operaciones con instituciones financieras, sean p\\xc3\\xbablicas o privadas. De manera alguna podr\\xc3\\xa1 otorgar a ellas su garant\\xc3\\xada, ni adquirir documentos emitidos por el Estado, sus organismos o empresas. Sin perjuicio de lo anterior, en situaciones excepcionales y transitorias, en las que as\\xc3\\xad lo requiera la preservaci\\xc3\\xb3n del normal funcionamiento de los pagos internos y externos, el Banco Central podr\\xc3\\xa1 comprar durante un per\\xc3\\xadodo determinado y vender, en el mercado secundario abierto, instrumentos de deuda emitidos por el Fisco, de conformidad a lo establecido en su ley org\\xc3\\xa1nica constitucional. Ning\\xc3\\xban gasto p\\xc3\\xbablico o pr\\xc3\\xa9stamo podr\\xc3\\xa1 financiarse con cr\\xc3\\xa9ditos directos o indirectos del Banco Central. Con todo, en caso de guerra exterior o de peligro de ella, que calificar\\xc3\\xa1 el Consejo de Seguridad Nacional, el Banco Central podr\\xc3\\xa1 obtener, otorgar o financiar cr\\xc3\\xa9ditos al Estado y entidades p\\xc3\\xbablicas o privadas. El Banco Central no podr\\xc3\\xa1 adoptar ning\\xc3\\xban acuerdo que signifique de una manera directa o indirecta establecer normas o requisitos diferentes o discriminatorios en relaci\\xc3\\xb3n a personas, instituciones o entidades que realicen operaciones de la misma naturaleza.\",27 de agosto de 2020,Ley N\\xc2\\xba 21.257\\r\\nCap\\xc3\\xadtulo XIV, Gobierno Y Administraci\\xc3\\xb3n Interior Del Estado,110,\"Para el gobierno y administraci\\xc3\\xb3n interior del Estado, el territorio de la Rep\\xc3\\xbablica se divide en regiones y \\xc3\\xa9stas en provincias. Para los efectos de la administraci\\xc3\\xb3n local, las provincias se dividir\\xc3\\xa1n en comunas.La creaci\\xc3\\xb3n, supresi\\xc3\\xb3n y denominaci\\xc3\\xb3n de regiones, provincias y comunas; la modificaci\\xc3\\xb3n de sus l\\xc3\\xadmites, as\\xc3\\xad como la fijaci\\xc3\\xb3n de las capitales de las regiones y provincias, ser\\xc3\\xa1n materia de ley org\\xc3\\xa1nica constitucional.  Gobierno y Administraci\\xc3\\xb3n Regional\",27 de agosto de 2020,Ley N\\xc2\\xba 21.257\\r\\nCap\\xc3\\xadtulo XIV, Gobierno Y Administraci\\xc3\\xb3n Interior Del Estado,111,\"La administraci\\xc3\\xb3n superior de cada regi\\xc3\\xb3n reside en un gobierno regional, que tendr\\xc3\\xa1 por objeto el desarrollo social, cultural y econ\\xc3\\xb3mico de la regi\\xc3\\xb3n. El gobierno regional estar\\xc3\\xa1 constituido por un gobernador regional y el consejo regional. Para el ejercicio de sus funciones, el gobierno regional gozar\\xc3\\xa1 de personalidad jur\\xc3\\xaddica de derecho p\\xc3\\xbablico y tendr\\xc3\\xa1 patrimonio propio. El gobernador regional ser\\xc3\\xa1 el \\xc3\\xb3rgano ejecutivo del gobierno regional, correspondi\\xc3\\xa9ndole presidir el consejo y ejercer las funciones y atribuciones que la ley org\\xc3\\xa1nica constitucional determine, en coordinaci\\xc3\\xb3n con los dem\\xc3\\xa1s \\xc3\\xb3rganos y servicios p\\xc3\\xbablicos creados para el cumplimiento de la funci\\xc3\\xb3n administrativa. Asimismo, le corresponder\\xc3\\xa1 la coordinaci\\xc3\\xb3n, supervigilancia o fiscalizaci\\xc3\\xb3n de los servicios p\\xc3\\xbablicos que dependan o se relacionen con el gobierno regional. El gobernador regional ser\\xc3\\xa1 elegido por sufragio universal en votaci\\xc3\\xb3n directa. Ser\\xc3\\xa1 electo el candidato a gobernador regional que obtuviere la mayor\\xc3\\xada de los sufragios v\\xc3\\xa1lidamente emitidos y siempre que dicha mayor\\xc3\\xada sea equivalente, al menos, al cuarenta por ciento de los votos v\\xc3\\xa1lidamente emitidos, en conformidad a lo que disponga la ley org\\xc3\\xa1nica constitucional respectiva. Durar\\xc3\\xa1 en el ejercicio de sus funciones por el t\\xc3\\xa9rmino de cuatro a\\xc3\\xb1os, pudiendo ser reelegido consecutivamente s\\xc3\\xb3lo para el per\\xc3\\xadodo siguiente. Si a la elecci\\xc3\\xb3n del gobernador regional se presentaren m\\xc3\\xa1s de dos candidatos y ninguno de ellos obtuviere al menos cuarenta por ciento de los sufragios v\\xc3\\xa1lidamente emitidos, se proceder\\xc3\\xa1 a una segunda votaci\\xc3\\xb3n que se circunscribir\\xc3\\xa1 a los candidatos que hayan obtenido las dos m\\xc3\\xa1s altas mayor\\xc3\\xadas relativas y en ella resultar\\xc3\\xa1 electo aquel de los candidatos que obtenga el mayor n\\xc3\\xbamero de sufragios. Esta nueva votaci\\xc3\\xb3n se verificar\\xc3\\xa1 en la forma que determine la ley. Para los efectos de lo dispuesto en los dos incisos precedentes, los votos en blanco y los nulos se considerar\\xc3\\xa1n como no emitidos. La ley org\\xc3\\xa1nica constitucional respectiva establecer\\xc3\\xa1 las causales de inhabilidad, incompatibilidad, subrogaci\\xc3\\xb3n, cesaci\\xc3\\xb3n y vacancia del cargo de gobernador regional, sin perjuicio de lo dispuesto en los art\\xc3\\xadculos 124 y 125.\",27 de agosto de 2020,Ley N\\xc2\\xba 21.257\\r\\nCap\\xc3\\xadtulo XIV, Gobierno Y Administraci\\xc3\\xb3n Interior Del Estado,112,\"(art\\xc3\\xadculo derogado. Ley N\\xc2\\xb0 20.990, numeral 6, del art\\xc3\\xadculo \\xc3\\xbanico)\",27 de agosto de 2020,Ley N\\xc2\\xba 21.257\\r\\nCap\\xc3\\xadtulo XIV, Gobierno Y Administraci\\xc3\\xb3n Interior Del Estado,113,\"El consejo regional ser\\xc3\\xa1 un \\xc3\\xb3rgano de car\\xc3\\xa1cter normativo, resolutivo y fiscalizador, dentro del \\xc3\\xa1mbito propio de competencia del gobierno regional, encargado de hacer efectiva la participaci\\xc3\\xb3n de la ciudadan\\xc3\\xada regional y ejercer las atribuciones que la ley org\\xc3\\xa1nica constitucional respectiva le encomiende. El consejo regional estar\\xc3\\xa1 integrado por consejeros elegidos por sufragio universal en votaci\\xc3\\xb3n directa, de conformidad con la ley org\\xc3\\xa1nica constitucional respectiva. Durar\\xc3\\xa1n cuatro a\\xc3\\xb1os en sus cargos y podr\\xc3\\xa1n ser reelegidos sucesivamente en el cargo hasta por dos per\\xc3\\xadodos. La misma ley establecer\\xc3\\xa1 la organizaci\\xc3\\xb3n del consejo regional, determinar\\xc3\\xa1 el n\\xc3\\xbamero de consejeros que lo integrar\\xc3\\xa1n y su forma de reemplazo, cuidando siempre que tanto la poblaci\\xc3\\xb3n como el territorio de la regi\\xc3\\xb3n est\\xc3\\xa9n equitativamente representados. El consejo regional podr\\xc3\\xa1 fiscalizar los actos del gobierno regional. Para ejercer esta atribuci\\xc3\\xb3n el consejo regional, con el voto conforme de un tercio de los consejeros regionales presentes, podr\\xc3\\xa1 adoptar acuerdos o sugerir observaciones que se transmitir\\xc3\\xa1n por escrito al gobernador regional, quien deber\\xc3\\xa1 dar respuesta fundada dentro de treinta d\\xc3\\xadas. Las dem\\xc3\\xa1s atribuciones fiscalizadoras del consejo regional y su ejercicio ser\\xc3\\xa1n determinadas por la ley org\\xc3\\xa1nica constitucional respectiva. Sin perjuicio de lo anterior, cualquier consejero regional podr\\xc3\\xa1 requerir del gobernador regional o delegado presidencial regional la informaci\\xc3\\xb3n necesaria al efecto, quienes deber\\xc3\\xa1n contestar fundadamente dentro del plazo se\\xc3\\xb1alado en el inciso tercero. Cesar\\xc3\\xa1 en su cargo el consejero regional que durante su ejercicio perdiere alguno de los requisitos de elegibilidad o incurriere en alguna de las inhabilidades, incompatibilidades, incapacidades u otras causales de cesaci\\xc3\\xb3n que la ley org\\xc3\\xa1nica constitucional establezca. Lo se\\xc3\\xb1alado en los incisos precedentes respecto del consejo regional y de los consejeros regionales ser\\xc3\\xa1 aplicable, en lo que corresponda, a los territorios especiales a que se refiere el art\\xc3\\xadculo 126 bis. La ley org\\xc3\\xa1nica constitucional determinar\\xc3\\xa1 las funciones y atribuciones del presidente del consejo regional. Corresponder\\xc3\\xa1 al consejo regional aprobar el proyecto de presupuesto de la respectiva regi\\xc3\\xb3n considerando, para tal efecto, los recursos asignados a \\xc3\\xa9sta en la Ley de Presupuestos, sus recursos propios y los que provengan de los convenios de programaci\\xc3\\xb3n. Los Senadores y Diputados que representen a las circunscripciones y distritos de la regi\\xc3\\xb3n podr\\xc3\\xa1n, cuando lo estimen conveniente, asistir a las sesiones del consejo regional y tomar parte en sus debates, sin derecho a voto.\",27 de agosto de 2020,Ley N\\xc2\\xba 21.257\\r\\nCap\\xc3\\xadtulo XIV, Gobierno Y Administraci\\xc3\\xb3n Interior Del Estado,114,\"La ley org\\xc3\\xa1nica constitucional respectiva determinar\\xc3\\xa1 la forma y el modo en que el Presidente de la Rep\\xc3\\xbablicatransferir\\xc3\\xa1 a uno o m\\xc3\\xa1s gobiernos regionales, en car\\xc3\\xa1cter temporal o definitivo, una o m\\xc3\\xa1s competencias de los ministerios y servicios p\\xc3\\xbablicos creados para el cumplimiento de la funci\\xc3\\xb3n administrativa, en materias de ordenamiento territorial, fomento de las actividades productivas y desarrollo social y cultural.\",27 de agosto de 2020,Ley N\\xc2\\xba 21.257\\r\\nCap\\xc3\\xadtulo XIV, Gobierno Y Administraci\\xc3\\xb3n Interior Del Estado,115,\"Para el gobierno y administraci\\xc3\\xb3n interior del Estado a que se refiere el presente cap\\xc3\\xadtulo se observar\\xc3\\xa1 como principio b\\xc3\\xa1sico la b\\xc3\\xbasqueda de un desarrollo territorial arm\\xc3\\xb3nico y equitativo. Las leyes que se dicten al efecto deber\\xc3\\xa1n velar por el cumplimiento y aplicaci\\xc3\\xb3n de dicho principio, incorporando asimismo criterios de solidaridad entre las regiones, como al interior de ellas, en lo referente a la distribuci\\xc3\\xb3n de los recursos p\\xc3\\xbablicos.Sin perjuicio de los recursos que para su funcionamiento se asignen a los gobiernos regionales en la Ley de Presupuestos de la Naci\\xc3\\xb3n y de aquellos que provengan de lo dispuesto en el N 20 del art\\xc3\\xadculo 19, dicha ley contemplar\\xc3\\xa1 una proporci\\xc3\\xb3n del total de los gastos de inversi\\xc3\\xb3n p\\xc3\\xbablica que determine, con la denominaci\\xc3\\xb3n de fondo nacional de desarrollo regional.La Ley de Presupuestos de la Naci\\xc3\\xb3n contemplar\\xc3\\xa1, asimismo, gastos correspondientes a inversiones sectoriales de asignaci\\xc3\\xb3n regional cuya distribuci\\xc3\\xb3n entre regiones responder\\xc3\\xa1 a criterios de equidad y eficiencia, tomando en consideraci\\xc3\\xb3n los programas nacionales de inversi\\xc3\\xb3n correspondientes. La asignaci\\xc3\\xb3n de tales gastos al interior de cada regi\\xc3\\xb3n corresponder\\xc3\\xa1 al gobierno regional.A iniciativa de los gobiernos regionales o de uno o m\\xc3\\xa1s ministerios podr\\xc3\\xa1n celebrarse convenios anuales o plurianuales de programaci\\xc3\\xb3n de inversi\\xc3\\xb3n p\\xc3\\xbablica entre gobiernos regionales, entre \\xc3\\xa9stos y uno o m\\xc3\\xa1s ministerios o entre gobiernos regionales y municipalidades, cuyo cumplimiento ser\\xc3\\xa1 obligatorio. La ley org\\xc3\\xa1nica constitucional respectiva establecer\\xc3\\xa1 las normas generales que regular\\xc3\\xa1n la suscripci\\xc3\\xb3n, ejecuci\\xc3\\xb3n y exigibilidad de los referidos convenios. La ley podr\\xc3\\xa1 autorizar a los gobiernos regionales y a las empresas p\\xc3\\xbablicas para asociarse con personas naturales o jur\\xc3\\xaddicas a fin de propiciar actividades e iniciativas sin fines de lucro que contribuyan al desarrollo regional. Las entidades que al efecto se constituyan se regular\\xc3\\xa1n por las normas comunes aplicables a los particulares.Lo dispuesto en el inciso anterior se entender\\xc3\\xa1 sin perjuicio de lo establecido en el n\\xc3\\xbamero 21 del art\\xc3\\xadculo 19.\",27 de agosto de 2020,Ley N\\xc2\\xba 21.257\\r\\nCap\\xc3\\xadtulo XIV, Gobierno Y Administraci\\xc3\\xb3n Interior Del Estado,115,\"bis En cada regi\\xc3\\xb3n existir\\xc3\\xa1 una delegaci\\xc3\\xb3n presidencial regional, a cargo de un delegado presidencial regional, el que ejercer\\xc3\\xa1 las funciones y atribuciones del Presidente de la Rep\\xc3\\xbablica en la regi\\xc3\\xb3n, en conformidad a la ley. El delegado presidencial regional ser\\xc3\\xa1 el representante natural e inmediato, en el territorio de su jurisdicci\\xc3\\xb3n, del Presidente de la Rep\\xc3\\xbablica y ser\\xc3\\xa1 nombrado y removido libremente por \\xc3\\xa9l. El delegado presidencial regional ejercer\\xc3\\xa1 sus funciones con arreglo a las leyes y a las \\xc3\\xb3rdenes e instrucciones del Presidente de la Rep\\xc3\\xbablica. Al delegado presidencial regional le corresponder\\xc3\\xa1 la coordinaci\\xc3\\xb3n, supervigilancia o fiscalizaci\\xc3\\xb3n de los servicios p\\xc3\\xbablicos creados por ley para el cumplimiento de las funciones administrativas que operen en la regi\\xc3\\xb3n que dependan o se relacionen con el Presidente de la Rep\\xc3\\xbablica a trav\\xc3\\xa9s de un Ministerio.   Gobierno y Administraci\\xc3\\xb3n Provincial\",27 de agosto de 2020,Ley N\\xc2\\xba 21.257\\r\\nCap\\xc3\\xadtulo XIV, Gobierno Y Administraci\\xc3\\xb3n Interior Del Estado,116,\"En cada provincia existir\\xc3\\xa1 una delegaci\\xc3\\xb3n presidencial provincial, que ser\\xc3\\xa1 un \\xc3\\xb3rgano territorialmente desconcentrado del delegado presidencial regional, y estar\\xc3\\xa1 a cargo de un delegado presidencial provincial, quien ser\\xc3\\xa1 nombrado y removido libremente por el Presidente de la Rep\\xc3\\xbablica. En la provincia asiento de la capital regional, el delegado presidencial regional ejercer\\xc3\\xa1 las funciones y atribuciones del delegado presidencial provincial.Corresponde al delegado presidencial provincial ejercer, de acuerdo a las instrucciones del delegado presidencial regional, la supervigilancia de los servicios p\\xc3\\xbablicos existentes en la provincia. La ley determinar\\xc3\\xa1 las atribuciones que podr\\xc3\\xa1 delegarle el delegado presidencial regional y las dem\\xc3\\xa1s que le corresponden.\",27 de agosto de 2020,Ley N\\xc2\\xba 21.257\\r\\nCap\\xc3\\xadtulo XIV, Gobierno Y Administraci\\xc3\\xb3n Interior Del Estado,117,\"Los delegados presidenciales provinciales, en los casos y forma que determine la ley, podr\\xc3\\xa1n designar encargados para el ejercicio de sus facultades en una o m\\xc3\\xa1s localidades.  Administraci\\xc3\\xb3n Comunal\",27 de agosto de 2020,Ley N\\xc2\\xba 21.257\\r\\nCap\\xc3\\xadtulo XIV, Gobierno Y Administraci\\xc3\\xb3n Interior Del Estado,118,\"La administraci\\xc3\\xb3n local de cada comuna o agrupaci\\xc3\\xb3n de comunas que determine la ley reside en una municipalidad, la que estar\\xc3\\xa1 constituida por el alcalde, que es su m\\xc3\\xa1xima autoridad, y por el concejo. Los alcaldes ser\\xc3\\xa1n elegidos por sufragio universal de conformidad a la ley org\\xc3\\xa1nica constitucional de municipalidades, durar\\xc3\\xa1n cuatro a\\xc3\\xb1os en sus cargos y podr\\xc3\\xa1n ser reelegidos sucesivamente en el cargo hasta por dos per\\xc3\\xadodos.La ley org\\xc3\\xa1nica constitucional respectiva establecer\\xc3\\xa1 las modalidades y formas que deber\\xc3\\xa1 asumir la participaci\\xc3\\xb3n de la comunidad local en las actividades municipales.Los alcaldes, en los casos y formas que determine la ley org\\xc3\\xa1nica constitucional respectiva, podr\\xc3\\xa1n designar delegados para el ejercicio de sus facultades en una o m\\xc3\\xa1s localidades.Las municipalidades son corporaciones aut\\xc3\\xb3nomas de derecho p\\xc3\\xbablico, con personalidad jur\\xc3\\xaddica y patrimonio propio, cuya finalidad es satisfacer las necesidades de la comunidad local y asegurar su participaci\\xc3\\xb3n en el progreso econ\\xc3\\xb3mico, social y cultural de la comuna.Una ley org\\xc3\\xa1nica constitucional determinar\\xc3\\xa1 las funciones y atribuciones de las municipalidades. Dicha ley se\\xc3\\xb1alar\\xc3\\xa1, adem\\xc3\\xa1s, las materias de competencia municipal que el alcalde, con acuerdo del concejo o a requerimiento de los 2/3 de los concejales en ejercicio, o de la proporci\\xc3\\xb3n de ciudadanos que establezca la ley, someter\\xc3\\xa1 a consulta no vinculante o a plebiscito, as\\xc3\\xad como las oportunidades, forma de la convocatoria y efectos. Las municipalidades podr\\xc3\\xa1n asociarse entre ellas en conformidad a la ley org\\xc3\\xa1nica constitucional respectiva, pudiendo dichas asociaciones gozar de personalidad jur\\xc3\\xaddica de derecho privado. Asimismo, podr\\xc3\\xa1n constituir o integrar corporaciones o fundaciones de derecho privado sin fines de lucro cuyo objeto sea la promoci\\xc3\\xb3n y difusi\\xc3\\xb3n del arte, la cultura y el deporte, o el fomento de obras de desarrollo comunal y productivo. La participaci\\xc3\\xb3n municipal en ellas se regir\\xc3\\xa1 por la citada ley org\\xc3\\xa1nica constitucional. Las municipalidades podr\\xc3\\xa1n establecer en el \\xc3\\xa1mbito de las comunas o agrupaci\\xc3\\xb3n de comunas, de conformidad con la ley org\\xc3\\xa1nica constitucional respectiva, territorios denominados unidades vecinales, con el objeto de propender a un desarrollo equilibrado y a una adecuada canalizaci\\xc3\\xb3n de la participaci\\xc3\\xb3n ciudadana.Los servicios p\\xc3\\xbablicos deber\\xc3\\xa1n coordinarse con el municipio cuando desarrollen su labor en el territorio comunal respectivo, en conformidad con la ley.La ley determinar\\xc3\\xa1 la forma y el modo en que los ministerios, servicios p\\xc3\\xbablicos y gobiernos regionales podr\\xc3\\xa1n transferir competencias a las municipalidades, como asimismo el car\\xc3\\xa1cter provisorio o definitivo de la transferencia.\",27 de agosto de 2020,Ley N\\xc2\\xba 21.257\\r\\nCap\\xc3\\xadtulo XIV, Gobierno Y Administraci\\xc3\\xb3n Interior Del Estado,119,\"En cada municipalidad habr\\xc3\\xa1 un concejo integrado por concejales elegidos por sufragio universal en conformidad a la ley org\\xc3\\xa1nica constitucional de municipalidades. Durar\\xc3\\xa1n cuatro a\\xc3\\xb1os en sus cargos y podr\\xc3\\xa1n ser reelegidos sucesivamente en el cargo hasta por dos per\\xc3\\xadodos. La misma ley determinar\\xc3\\xa1 el n\\xc3\\xbamero de concejales y la forma de elegir al alcalde.El concejo ser\\xc3\\xa1 un \\xc3\\xb3rgano encargado de hacer efectiva la participaci\\xc3\\xb3n de la comunidad local, ejercer\\xc3\\xa1 funciones normativas, resolutivas y fiscalizadoras y otras atribuciones que se le encomienden, en la forma que determine la ley org\\xc3\\xa1nica constitucional respectiva.La ley org\\xc3\\xa1nica de municipalidades determinar\\xc3\\xa1 las normas sobre organizaci\\xc3\\xb3n y funcionamiento del concejo y las materias en que la consulta del alcalde al con c ejo ser\\xc3\\xa1 obligatoria y aquellas en que necesariamente se requerir\\xc3\\xa1 el acuerdo de \\xc3\\xa9ste. En todo caso, ser\\xc3\\xa1 necesario dicho acuerdo para la aprobaci\\xc3\\xb3n del plan comunal de desarrollo, del presupuesto municipal y de los proyectos de inversi\\xc3\\xb3n respectivos.\",27 de agosto de 2020,Ley N\\xc2\\xba 21.257\\r\\nCap\\xc3\\xadtulo XIV, Gobierno Y Administraci\\xc3\\xb3n Interior Del Estado,120,\"La ley org\\xc3\\xa1nica constitucional respectiva regular\\xc3\\xa1 la administraci\\xc3\\xb3n transitoria de las comunas que se creen, el procedimiento de instalaci\\xc3\\xb3n de las nuevas municipalidades, de traspaso del personal municipal y de los servicios y los resguardos necesarios para cautelar el uso y disposici\\xc3\\xb3n de los bienes que se encuentren situados en los territorios de las nuevas comunas.Asimismo, la ley org\\xc3\\xa1nica constitucional de municipalidades establecer\\xc3\\xa1 los procedimientos que deber\\xc3\\xa1n observarse en caso de supresi\\xc3\\xb3n o fusi\\xc3\\xb3n de una o m\\xc3\\xa1s comunas.\",27 de agosto de 2020,Ley N\\xc2\\xba 21.257\\r\\nCap\\xc3\\xadtulo XIV, Gobierno Y Administraci\\xc3\\xb3n Interior Del Estado,121,\"Las municipalidades, para el cumplimiento de sus funciones, podr\\xc3\\xa1n crear o suprimir empleos y fijar remuneraciones, como tambi\\xc3\\xa9n establecer los \\xc3\\xb3rganos o unidades que la ley org\\xc3\\xa1nica constitucional respectiva permita.Estas facultades se ejercer\\xc3\\xa1n dentro de los l\\xc3\\xadmites y requisitos que, a iniciativa exclusiva del Presidente de la Rep\\xc3\\xbablica , determine la ley org\\xc3\\xa1nica constitucional de municipalidades.\",27 de agosto de 2020,Ley N\\xc2\\xba 21.257\\r\\nCap\\xc3\\xadtulo XIV, Gobierno Y Administraci\\xc3\\xb3n Interior Del Estado,122,\"Las municipalidades gozar\\xc3\\xa1n de autonom\\xc3\\xada para la administraci\\xc3\\xb3n de sus finanzas. La Ley de Presupuestos de la Naci\\xc3\\xb3n podr\\xc3\\xa1 asignarles recursos para atender sus gastos, sin perjuicio de los ingresos que directamente se les confieran por la ley o se les otorguen por los gobiernos regionales respectivos. Una ley org\\xc3\\xa1nica constitucional contemplar\\xc3\\xa1 un mecanismo de redistribuci\\xc3\\xb3n solidaria de los ingresos propios entre las municipalidades del pa\\xc3\\xads con la denominaci\\xc3\\xb3n de fondo com\\xc3\\xban municipal. Las normas de distribuci\\xc3\\xb3n de este fondo ser\\xc3\\xa1n materia de ley.  Disposiciones Generales\",27 de agosto de 2020,Ley N\\xc2\\xba 21.257\\r\\nCap\\xc3\\xadtulo XIV, Gobierno Y Administraci\\xc3\\xb3n Interior Del Estado,123,\"La ley establecer\\xc3\\xa1 f\\xc3\\xb3rmulas de coordinaci\\xc3\\xb3n para la administraci\\xc3\\xb3n de todos o algunos de los municipios, con respecto a los problemas que les sean comunes, as\\xc3\\xad como entre los municipios y los dem\\xc3\\xa1s servicios p\\xc3\\xbablicos. Sin perjuicio de lo dispuesto en el inciso anterior, la ley org\\xc3\\xa1nica constitucional respectiva regular\\xc3\\xa1 la administraci\\xc3\\xb3n de las \\xc3\\xa1reas metropolitanas, y establecer\\xc3\\xa1 las condiciones y formalidades que permitan conferir dicha calidad a determinados territorios.\",27 de agosto de 2020,Ley N\\xc2\\xba 21.257\\r\\nCap\\xc3\\xadtulo XIV, Gobierno Y Administraci\\xc3\\xb3n Interior Del Estado,124,\"Para ser elegido gobernador regional, consejero regional, alcalde o concejal y para ser designado delegado presidencial regional o delegado presidencial provincial, se requerir\\xc3\\xa1 ser ciudadano con derecho a sufragio, tener los dem\\xc3\\xa1s requisitos de idoneidad que la ley se\\xc3\\xb1ale, en su caso, y residir en la regi\\xc3\\xb3n a lo menos en los \\xc3\\xbaltimos dos a\\xc3\\xb1os anteriores a su designaci\\xc3\\xb3n o elecci\\xc3\\xb3n. Los cargos de gobernador regional, consejero regional, alcalde, concejal, delegado presidencial regional y delegado presidencial provincial ser\\xc3\\xa1n incompatibles entre s\\xc3\\xad. El cargo de gobernador regional es incompatible con todo otro empleo o comisi\\xc3\\xb3n retribuidos con fondos del Fisco, de las municipalidades, de las entidades fiscales aut\\xc3\\xb3nomas, semifiscales o de las empresas del Estado o en las que el Fisco tenga intervenci\\xc3\\xb3n por aportes de capital, y con toda otra funci\\xc3\\xb3n o comisi\\xc3\\xb3n de la misma naturaleza. Se except\\xc3\\xbaan los empleos docentes y las funciones o comisiones de igual car\\xc3\\xa1cter de la ense\\xc3\\xb1anza superior, media y especial, dentro de los l\\xc3\\xadmites que fije la ley. Asimismo, el cargo de gobernador regional es incompatible con las funciones de directores o consejeros, aun cuando sean ad honorem, en las entidades fiscales aut\\xc3\\xb3nomas, semifiscales o en las empresas estatales, o en las que el Estado tenga participaci\\xc3\\xb3n por aporte de capital. Por el solo hecho de su proclamaci\\xc3\\xb3n por el Tribunal Calificador de Elecciones, el gobernador regional electo cesar\\xc3\\xa1 en todo otro cargo, empleo o comisi\\xc3\\xb3n que desempe\\xc3\\xb1e. Ning\\xc3\\xban gobernador regional, desde el momento de su proclamaci\\xc3\\xb3n por el Tribunal Calificador de Elecciones, puede ser nombrado para un empleo, funci\\xc3\\xb3n o comisi\\xc3\\xb3n de los referidos en los incisos precedentes. Sin perjuicio de lo anterior, esta disposici\\xc3\\xb3n no rige en caso de guerra exterior; pero s\\xc3\\xb3lo los cargos conferidos en estado de guerra son compatibles con las funciones de gobernador regional. Ning\\xc3\\xban gobernador regional, delegado presidencial regional o delegado presidencial provincial, desde el d\\xc3\\xada de su elecci\\xc3\\xb3n o designaci\\xc3\\xb3n, seg\\xc3\\xban el caso, puede ser acusado o privado de su libertad, salvo el caso de delito flagrante, si el Tribunal de Alzada de la jurisdicci\\xc3\\xb3n respectiva, en pleno, no autoriza previamente la acusaci\\xc3\\xb3n declarando haber lugar a la formaci\\xc3\\xb3n de causa. De esta resoluci\\xc3\\xb3n podr\\xc3\\xa1 apelarse ante la Corte Suprema. En caso de ser arrestado alg\\xc3\\xban gobernador regional, delegado presidencial regional o delegado presidencial provincial por delito flagrante, ser\\xc3\\xa1 puesto inmediatamente a disposici\\xc3\\xb3n del Tribunal de Alzada respectivo, con la informaci\\xc3\\xb3n sumaria correspondiente. El Tribunal proceder\\xc3\\xa1, entonces, conforme a lo dispuesto en el inciso anterior. Desde el momento en que se declare, por resoluci\\xc3\\xb3n firme, haber lugar a formaci\\xc3\\xb3n de causa, queda el gobernador regional, delegado presidencial regional o delegado presidencial provincial imputado suspendido de su cargo y sujeto al juez competente.\",27 de agosto de 2020,Ley N\\xc2\\xba 21.257\\r\\nCap\\xc3\\xadtulo XIV, Gobierno Y Administraci\\xc3\\xb3n Interior Del Estado,125,\"Las leyes org\\xc3\\xa1nicas constitucionales respectivas establecer\\xc3\\xa1n las causales de cesaci\\xc3\\xb3n en los cargos de gobernador regional, de alcalde, consejero regional y concejal. Con todo, cesar\\xc3\\xa1n en sus cargos las autoridades mencionadas que hayan infringido gravemente las normas sobre transparencia, l\\xc3\\xadmites y control del gasto electoral, desde la fecha que lo declare por sentencia firme el Tribunal Calificador de Elecciones, a requerimiento del Consejo Directivo del Servicio Electoral. Una ley org\\xc3\\xa1nica constitucional se\\xc3\\xb1alar\\xc3\\xa1 los casos en que existe una infracci\\xc3\\xb3n grave. Asimismo, quien perdiere el cargo de gobernador regional, de alcalde, consejero regional o concejal, de acuerdo a lo establecido en el inciso anterior, no podr\\xc3\\xa1 optar a ninguna funci\\xc3\\xb3n o empleo p\\xc3\\xbablico por el t\\xc3\\xa9rmino de tres a\\xc3\\xb1os, ni podr\\xc3\\xa1 ser candidato a cargos de elecci\\xc3\\xb3n popular en los dos actos electorales inmediatamente siguientes a su cesaci\\xc3\\xb3n.\",27 de agosto de 2020,Ley N\\xc2\\xba 21.257\\r\\nCap\\xc3\\xadtulo XIV, Gobierno Y Administraci\\xc3\\xb3n Interior Del Estado,125,\"bis. Para determinar el l\\xc3\\xadmite a la reelecci\\xc3\\xb3n que se aplica a los gobernadores regionales, consejeros regionales, alcaldes y concejales, se considerar\\xc3\\xa1 que han ejercido su cargo durante un per\\xc3\\xadodo cuando hayan cumplido m\\xc3\\xa1s de la mitad de su mandato.\",27 de agosto de 2020,Ley N\\xc2\\xba 21.257\\r\\nCap\\xc3\\xadtulo XIV, Gobierno Y Administraci\\xc3\\xb3n Interior Del Estado,126,\"La ley determinar\\xc3\\xa1 la forma de resolver las cuestiones de competencia que pudieren suscitarse entre las autoridades nacionales, regionales, provinciales y comunales.Asimismo, establecer\\xc3\\xa1 el modo de dirimir las discrepancias que se produzcan entre el gobernador regional y el consejo regional, as\\xc3\\xad como entre el alcalde y el concejo.  Disposiciones Especiales\",27 de agosto de 2020,Ley N\\xc2\\xba 21.257\\r\\nCap\\xc3\\xadtulo XIV, Gobierno Y Administraci\\xc3\\xb3n Interior Del Estado,126,\"bis Son territorios especiales los correspondientes a Isla de Pascua y al Archipi\\xc3\\xa9lago Juan Fern\\xc3\\xa1ndez. El Gobierno y Administraci\\xc3\\xb3n de estos territorios se regir\\xc3\\xa1 por los estatutos especiales que establezcan las leyes org\\xc3\\xa1nicas constitucionales respectivas Los derechos a residir, permanecer y trasladarse hacia y desde cualquier lugar de la Rep\\xc3\\xbablica, garantizados en el numeral 7 del art\\xc3\\xadculo 19, se ejercer\\xc3\\xa1n en dichos territorios en la forma que determinen las leyes especiales que regulen su ejercicio, las que deber\\xc3\\xa1n ser de qu\\xc3\\xb3rum calificado.\",27 de agosto de 2020,Ley N\\xc2\\xba 21.257\\r\\nCap\\xc3\\xadtulo XV, Reforma de la Constituci\\xc3\\xb3n y del Procedimiento para Elaborar una Nueva Constituci\\xc3\\xb3n de la Rep\\xc3\\xbablica,127,\"Los proyectos de reforma de la Constituci\\xc3\\xb3n podr\\xc3\\xa1n ser iniciados por mensaje del Presidente de la Rep\\xc3\\xbablica o por moci\\xc3\\xb3n de cualquiera de los miembros del Congreso Nacional, con las limitaciones se\\xc3\\xb1aladas en el inciso primero del art\\xc3\\xadculo 65.El proyecto de reforma necesitar\\xc3\\xa1 para ser aprobado en cada C\\xc3\\xa1mara el voto conforme de las tres quintas partes de los diputados y senadores en ejercicio. Si la reforma recayere sobre los cap\\xc3\\xadtulos I, III, VIII, XI, XII o XV, necesitar\\xc3\\xa1, en cada C\\xc3\\xa1mara, la aprobaci\\xc3\\xb3n de las dos terceras partes de los diputados y senadores en ejercicio.En lo no previsto en este Cap\\xc3\\xadtulo, ser\\xc3\\xa1n aplicables a la tramitaci\\xc3\\xb3n de los proyectos de reforma constitucional las normas sobre formaci\\xc3\\xb3n de la ley, debiendo respetarse siempre los qu\\xc3\\xb3rums se\\xc3\\xb1alados en el inciso anterior.\",27 de agosto de 2020,Ley N\\xc2\\xba 21.257\\r\\nCap\\xc3\\xadtulo XV, Reforma de la Constituci\\xc3\\xb3n y del Procedimiento para Elaborar una Nueva Constituci\\xc3\\xb3n de la Rep\\xc3\\xbablica,128,\"El proyecto que aprueben ambas C\\xc3\\xa1maras pasar\\xc3\\xa1 al Presidente de la Rep\\xc3\\xbablica. Si el Presidente de la Rep\\xc3\\xbablica rechazare totalmente un proyecto de reforma aprobado por ambas C\\xc3\\xa1maras y \\xc3\\xa9stas insistieren en su totalidad por las dos terceras partes de los miembros en ejercicio de cada C\\xc3\\xa1mara, el Presidente deber\\xc3\\xa1 promulgar dicho proyecto, a menos que consulte a la ciudadan\\xc3\\xada mediante plebiscito.Si el Presidente observare parcialmente un proyecto de reforma aprobado por ambas C\\xc3\\xa1maras, las observaciones se entender\\xc3\\xa1n aprobadas con el voto conforme de las tres quintas o dos terceras partes de los miembros en ejercicio de cada C\\xc3\\xa1mara, seg\\xc3\\xban corresponda de acuerdo con el art\\xc3\\xadculo anterior, y se devolver\\xc3\\xa1 al Presidente para su promulgaci\\xc3\\xb3n.En caso de que las C\\xc3\\xa1maras no aprueben todas o algunas de las observaciones del Presidente, no habr\\xc3\\xa1 reforma constitucional sobre los puntos en discrepancia, a menos que ambas C\\xc3\\xa1maras insistieren por los dos tercios de sus miembros en ejercicio en la parte del proyecto aprobado por ellas. En este \\xc3\\xbaltimo caso, se devolver\\xc3\\xa1 al Presidente la parte del proyecto que haya sido objeto de insistencia para su promulgaci\\xc3\\xb3n, salvo que \\xc3\\xa9ste consulte a la ciudadan\\xc3\\xada para que se pronuncie mediante un plebiscito, respecto de las cuestiones en desacuerdo.La ley org\\xc3\\xa1nica constitucional relativa al Congreso regular\\xc3\\xa1 en lo dem\\xc3\\xa1s lo concerniente a los vetos de los proyectos de reforma y a su tramitaci\\xc3\\xb3n en el Congreso.\",27 de agosto de 2020,Ley N\\xc2\\xba 21.257\\r\\nCap\\xc3\\xadtulo XV, Reforma de la Constituci\\xc3\\xb3n y del Procedimiento para Elaborar una Nueva Constituci\\xc3\\xb3n de la Rep\\xc3\\xbablica,129,\"La convocatoria a plebiscito deber\\xc3\\xa1 efectuarse dentro de los treinta d\\xc3\\xadas siguientes a aquel en que ambas C\\xc3\\xa1maras insistan en el proyecto aprobado por ellas, y se ordenar\\xc3\\xa1 mediante decreto supremo que fijar\\xc3\\xa1 la fecha de la votaci\\xc3\\xb3n plebiscitaria, la que se celebrar\\xc3\\xa1 ciento veinte d\\xc3\\xadas despu\\xc3\\xa9s de la publicaci\\xc3\\xb3n de dicho decreto si ese d\\xc3\\xada correspondiere a un domingo. Si as\\xc3\\xad no fuere, ella se realizar\\xc3\\xa1 el domingo inmediatamente siguiente. Transcurrido este plazo sin que el Presidente convoque a plebiscito, se promulgar\\xc3\\xa1 el proyecto que hubiere aprobado el Congreso.El decreto de convocatoria contendr\\xc3\\xa1, seg\\xc3\\xban corresponda, el proyecto aprobado por ambas C\\xc3\\xa1maras y vetado totalmente por el Presidente de la Rep\\xc3\\xbablica , o las cuestiones del proyecto en las cuales el Congreso haya insistido. En este \\xc3\\xbaltimo caso, cada una de las cuestiones en desacuerdo deber\\xc3\\xa1 ser votada separadamente en el plebiscito.El Tribunal Calificador comunicar\\xc3\\xa1 al Presidente de la Rep\\xc3\\xbablica el resultado del plebiscito, y especificar\\xc3\\xa1 el texto del proyecto aprobado por la ciudadan\\xc3\\xada, el que deber\\xc3\\xa1 ser promulgado como reforma constitucional dentro de los cinco d\\xc3\\xadas siguientes a dicha comunicaci\\xc3\\xb3n.Una vez promulgado el proyecto y desde la fecha de su vigencia, sus disposiciones formar\\xc3\\xa1n parte de la Constituci\\xc3\\xb3n y se tendr\\xc3\\xa1n por incorporadas a \\xc3\\xa9sta.  Del procedimiento para elaborar una Nueva Constituci\\xc3\\xb3n Pol\\xc3\\xadtica de la Rep\\xc3\\xbablica\",27 de agosto de 2020,Ley N\\xc2\\xba 21.257\\r\\nCap\\xc3\\xadtulo XV, Reforma de la Constituci\\xc3\\xb3n y del Procedimiento para Elaborar una Nueva Constituci\\xc3\\xb3n de la Rep\\xc3\\xbablica,130,\" Del Plebiscito Nacional. Tres d\\xc3\\xadas despu\\xc3\\xa9s de la entrada en vigencia de este art\\xc3\\xadculo, el Presidente de la Rep\\xc3\\xbablica convocar\\xc3\\xa1 mediante un decreto supremo exento a un plebiscito nacional para el d\\xc3\\xada25 de octubre de 2020. En el plebiscito se\\xc3\\xb1alado, la ciudadan\\xc3\\xada dispondr\\xc3\\xa1 de dos c\\xc3\\xa9dulas electorales. La primera contendr\\xc3\\xa1 la siguiente pregunta: \"\"\\xc2\\xbfQuiere usted una Nueva Constituci\\xc3\\xb3n?\"\". Bajo la cuesti\\xc3\\xb3n planteada habr\\xc3\\xa1 dos rayas horizontales, una al lado de la otra. La primera l\\xc3\\xadnea tendr\\xc3\\xa1 en su parte inferior la expresi\\xc3\\xb3n \"\"Apruebo\"\" y la segunda, la expresi\\xc3\\xb3n \"\"Rechazo\"\", a fin de que el elector pueda marcar su preferencia sobre una de las alternativas. La segunda c\\xc3\\xa9dula contendr\\xc3\\xa1 la pregunta: \"\"\\xc2\\xbfQu\\xc3\\xa9 tipo de \\xc3\\xb3rgano debiera redactar la Nueva Constituci\\xc3\\xb3n?\"\". Bajo la cuesti\\xc3\\xb3n planteada habr\\xc3\\xa1 dos rayas horizontales, una al lado de la otra. La primera de ellas tendr\\xc3\\xa1 en su parte inferior la expresi\\xc3\\xb3n \"\"Convenci\\xc3\\xb3n Mixta Constitucional\"\" y la segunda, la expresi\\xc3\\xb3n \"\"Convenci\\xc3\\xb3n Constitucional\"\". Bajo la expresi\\xc3\\xb3n \"\"Convenci\\xc3\\xb3n Mixta Constitucional\"\" se incorporar\\xc3\\xa1 la oraci\\xc3\\xb3n: \"\"Integrada en partes iguales por miembros elegidos popularmente y parlamentarios o parlamentarias en ejercicio\"\". Bajo la expresi\\xc3\\xb3n \"\"Convenci\\xc3\\xb3n Constitucional\"\" se incorporar\\xc3\\xa1 la oraci\\xc3\\xb3n: \"\"Integrada exclusivamente por miembros elegidos popularmente\"\", a fin de que el elector pueda marcar su preferencia sobre una de las alternativas. A efecto de este plebiscito, se aplicar\\xc3\\xa1n las disposiciones pertinentes contenidas en los siguientes cuerpos legales, en su texto vigente al 1 de enero de 2020: a) Decreto con fuerza de ley N 2, del a\\xc3\\xb1o 2017, del Ministerio Secretar\\xc3\\xada General de la Presidencia, que fija el texto refundido, coordinado y sistematizado de la ley N 18.700, org\\xc3\\xa1nica constitucional sobre Votaciones Populares y Escrutinios, en los siguientes pasajes: P\\xc3\\xa1rrafo V, P\\xc3\\xa1rrafo VI, con excepci\\xc3\\xb3n del inciso sexto del art\\xc3\\xadculo 32 e incisos segundo a cuarto del art\\xc3\\xadculo 33, P\\xc3\\xa1rrafo VII, VIII, IX, X y XI del T\\xc3\\xadtulo I; T\\xc3\\xadtulo II al X inclusive; T\\xc3\\xadtulo XII y XIII; b) Decreto con fuerza de ley N 5, del a\\xc3\\xb1o 2017, del Ministerio Secretar\\xc3\\xada General de la Presidencia, que fija el texto refundido, coordinado y sistematizado de la ley N 18.556, org\\xc3\\xa1nica constitucional sobre Sistema de Inscripciones Electorales y Servicio Electoral; c) Decreto con fuerza de ley N 4, del a\\xc3\\xb1o 2017, del Ministerio Secretar\\xc3\\xada General de la Presidencia, que fija el texto refundido, coordinado y sistematizado de la ley N 18.603, org\\xc3\\xa1nica constitucional de Partidos Pol\\xc3\\xadticos, en los siguientes pasajes: T\\xc3\\xadtulo I, V, VI, IX y X. Los canales de televisi\\xc3\\xb3n de libre recepci\\xc3\\xb3n deber\\xc3\\xa1n destinar gratuitamente treinta minutos diarios de sus transmisiones a propaganda electoral sobre este plebiscito, debiendo dar expresi\\xc3\\xb3n a las dos opciones contempladas en cada c\\xc3\\xa9dula, conforme a un acuerdo que adoptar\\xc3\\xa1 el Consejo Nacional de Televisi\\xc3\\xb3n y que ser\\xc3\\xa1 publicado en el Diario Oficial, dentro del plazo de treinta d\\xc3\\xadas contado desde la publicaci\\xc3\\xb3n de la convocatoria al plebiscito nacional, respetando una estricta igualdad de promoci\\xc3\\xb3n de las opciones plebiscitadas. De este acuerdo podr\\xc3\\xa1 reclamarse ante el Tribunal Calificador de Elecciones dentro del plazo de tres d\\xc3\\xadas contado desde la publicaci\\xc3\\xb3n del mismo. El Tribunal Calificador de Elecciones resolver\\xc3\\xa1 la reclamaci\\xc3\\xb3n sumariamente dentro del plazo de cinco d\\xc3\\xadas contado desde la fecha de su respectiva interposici\\xc3\\xb3n. El Tribunal Calificador de Elecciones conocer\\xc3\\xa1 del escrutinio general y proclamar\\xc3\\xa1 aprobadas las cuestiones que hayan obtenido m\\xc3\\xa1s de la mitad de los sufragios v\\xc3\\xa1lidamente emitidos. Para estos efectos, los votos nulos y blancos se considerar\\xc3\\xa1n como no emitidos. El proceso de calificaci\\xc3\\xb3n del plebiscito nacional deber\\xc3\\xa1 quedar concluido dentro de los treinta d\\xc3\\xadas siguientes a la fecha de \\xc3\\xa9ste. La sentencia de proclamaci\\xc3\\xb3n del plebiscito ser\\xc3\\xa1 comunicada dentro de los tres d\\xc3\\xadas siguientes de su dictaci\\xc3\\xb3n al Presidente de la Rep\\xc3\\xbablica y al Congreso Nacional. Si la ciudadan\\xc3\\xada hubiere aprobado elaborar una Nueva Constituci\\xc3\\xb3n, el Presidente de la Rep\\xc3\\xbablica deber\\xc3\\xa1 convocar, mediante decreto supremo exento, dentro de los cinco d\\xc3\\xadas siguientes a la comunicaci\\xc3\\xb3n a que alude el inciso anterior, a elecci\\xc3\\xb3n de los miembros de la Convenci\\xc3\\xb3n Mixta Constitucional o Convenci\\xc3\\xb3n Constitucional, seg\\xc3\\xban corresponda. Esta elecci\\xc3\\xb3n se llevar\\xc3\\xa1 a cabo el d\\xc3\\xada 11 de abril de 2021.\",27 de agosto de 2020,Ley N\\xc2\\xba 21.257\\r\\nCap\\xc3\\xadtulo XV, Reforma de la Constituci\\xc3\\xb3n y del Procedimiento para Elaborar una Nueva Constituci\\xc3\\xb3n de la Rep\\xc3\\xbablica,131,\" De la Convenci\\xc3\\xb3n. Para todos los efectos de este ep\\xc3\\xadgrafe, se entender\\xc3\\xa1 que la voz \"\"Convenci\\xc3\\xb3n\"\" sin m\\xc3\\xa1s, hace referencia a la Convenci\\xc3\\xb3n Mixta Constitucional y a la Convenci\\xc3\\xb3n Constitucional, sin distinci\\xc3\\xb3n alguna. A los integrantes de la Convenci\\xc3\\xb3n se les llamar\\xc3\\xa1 Convencionales Constituyentes. Adem\\xc3\\xa1s de lo establecido en los art\\xc3\\xadculos 139, 140 y 141 de la Constituci\\xc3\\xb3n, a la elecci\\xc3\\xb3n de Convencionales Constituyentes a la que hace referencia el inciso final del art\\xc3\\xadculo 130, ser\\xc3\\xa1n aplicables las disposiciones pertinentes a la elecci\\xc3\\xb3n de diputados, contenidas en los siguientes cuerpos legales, en su texto vigente al 25 de junio del a\\xc3\\xb1o 2020: a) Decreto con fuerza de ley N 2, del a\\xc3\\xb1o 2017, del Ministerio Secretar\\xc3\\xada General de la Presidencia, que fija el texto refundido, coordinado y sistematizado de la ley N 18.700, org\\xc3\\xa1nica constitucional sobre Votaciones Populares y Escrutinios; b) Decreto con fuerza de ley N 5, del a\\xc3\\xb1o 2017, del Ministerio Secretar\\xc3\\xada General de la Presidencia, que fija el texto refundido, coordinado y sistematizado de la ley N 18.556, org\\xc3\\xa1nica constitucional sobre Sistema de Inscripciones Electorales y Servicio Electoral; c) Decreto con fuerza de ley N 4, del a\\xc3\\xb1o 2017, del Ministerio Secretar\\xc3\\xada General de la Presidencia, que fija el texto refundido, coordinado y sistematizado de la ley N 18.603, org\\xc3\\xa1nica constitucional de Partidos Pol\\xc3\\xadticos; d) Decreto con fuerza de ley N 3, del a\\xc3\\xb1o 2017, del Ministerio Secretar\\xc3\\xada General de la Presidencia, que fija el texto refundido, coordinado y sistematizado de la ley N 19.884, sobre Transparencia, L\\xc3\\xadmite y Control del Gasto Electoral. El proceso de calificaci\\xc3\\xb3n de la elecci\\xc3\\xb3n de Convencionales Constituyentes deber\\xc3\\xa1 quedar concluido dentro de los treinta d\\xc3\\xadas siguientes a la fecha de \\xc3\\xa9sta. La sentencia de proclamaci\\xc3\\xb3n ser\\xc3\\xa1 comunicada dentro de los tres d\\xc3\\xadas siguientes de su dictaci\\xc3\\xb3n al Presidente de la Rep\\xc3\\xbablica y al Congreso Nacional.\",27 de agosto de 2020,Ley N\\xc2\\xba 21.257\\r\\nCap\\xc3\\xadtulo XV, Reforma de la Constituci\\xc3\\xb3n y del Procedimiento para Elaborar una Nueva Constituci\\xc3\\xb3n de la Rep\\xc3\\xbablica,132,\" De los requisitos e incompatibilidades de los candidatos. Podr\\xc3\\xa1n ser candidatos a la Convenci\\xc3\\xb3n aquellos ciudadanos que re\\xc3\\xbanan las condiciones contempladas en el art\\xc3\\xadculo 13 de la Constituci\\xc3\\xb3n. No ser\\xc3\\xa1 aplicable a los candidatos a esta elecci\\xc3\\xb3n ning\\xc3\\xban otro requisito, inhabilidad o prohibici\\xc3\\xb3n, salvo las establecidas en este ep\\xc3\\xadgrafe y con excepci\\xc3\\xb3n de las normas sobre afiliaci\\xc3\\xb3n e independencia de las candidaturas establecidas en el art\\xc3\\xadculo 5, incisos cuarto y sexto, del decreto con fuerza de ley N 2, del a\\xc3\\xb1o 2017, del Ministerio Secretar\\xc3\\xada General de la Presidencia, que fija el texto refundido, coordinado y sistematizado de la ley N 18.700, org\\xc3\\xa1nica constitucional sobre Votaciones Populares y Escrutinios. Los Ministros de Estado, los intendentes, los gobernadores, los alcaldes, los consejeros regionales, los concejales, los subsecretarios, los secretarios regionales ministeriales, los jefes de servicio, los miembros del Consejo del Banco Central, los miembros del Consejo del Servicio Electoral, los miembros y funcionarios de los diferentes escalafones del Poder Judicial, del Ministerio P\\xc3\\xbablico, de la Contralor\\xc3\\xada General de la Rep\\xc3\\xbablica, as\\xc3\\xad como los del Tribunal Constitucional, del Tribunal de Defensa de la Libre Competencia, del Tribunal de Contrataci\\xc3\\xb3n P\\xc3\\xbablica, del Tribunal Calificador de Elecciones y de los tribunales electorales regionales; los consejeros del Consejo para la Transparencia, y los miembros activos de las Fuerzas Armadas y de Orden y Seguridad P\\xc3\\xbablica, que declaren sus candidaturas a miembros de la Convenci\\xc3\\xb3n, cesar\\xc3\\xa1n en sus cargos por el solo ministerio de la Constituci\\xc3\\xb3n, desde el momento en que sus candidaturas sean inscritas en el Registro Especial a que hace referencia el inciso primero del art\\xc3\\xadculo 21 del decreto con fuerza de ley N 2, del a\\xc3\\xb1o 2017, del Ministerio Secretar\\xc3\\xada General de la Presidencia, que fija el texto refundido, coordinado y sistematizado de la ley N 18.700. Lo dispuesto precedentemente le ser\\xc3\\xa1 aplicable a los senadores y diputados solo respecto de la Convenci\\xc3\\xb3n Constitucional. Las personas que desempe\\xc3\\xb1en un cargo directivo de naturaleza gremial o vecinal deber\\xc3\\xa1n suspender dichas funciones desde el momento que sus candidaturas sean inscritas en el Registro Especial mencionado en el inciso anterior.\",27 de agosto de 2020,Ley N\\xc2\\xba 21.257\\r\\nCap\\xc3\\xadtulo XV, Reforma de la Constituci\\xc3\\xb3n y del Procedimiento para Elaborar una Nueva Constituci\\xc3\\xb3n de la Rep\\xc3\\xbablica,133,\" Del funcionamiento de la Convenci\\xc3\\xb3n. Dentro de los tres d\\xc3\\xadas siguientes a la recepci\\xc3\\xb3n de la comunicaci\\xc3\\xb3n a que hace referencia el inciso final del art\\xc3\\xadculo 131, el Presidente de la Rep\\xc3\\xbablica convocar\\xc3\\xa1, mediante decreto supremo exento, a la primera sesi\\xc3\\xb3n de instalaci\\xc3\\xb3n de la Convenci\\xc3\\xb3n, se\\xc3\\xb1alando adem\\xc3\\xa1s, el lugar de la convocatoria. En caso de no se\\xc3\\xb1alarlo, se instalar\\xc3\\xa1 en la sede del Congreso Nacional. Dicha instalaci\\xc3\\xb3n deber\\xc3\\xa1 realizarse dentro de los quince d\\xc3\\xadas posteriores a la fecha de publicaci\\xc3\\xb3n del decreto. En su primera sesi\\xc3\\xb3n, la Convenci\\xc3\\xb3n deber\\xc3\\xa1 elegir a un Presidente y a un Vicepresidente por mayor\\xc3\\xada absoluta de sus miembros en ejercicio. La Convenci\\xc3\\xb3n deber\\xc3\\xa1 aprobar las normas y el reglamento de votaci\\xc3\\xb3n de las mismas por un qu\\xc3\\xb3rum de dos tercios de sus miembros en ejercicio. La Convenci\\xc3\\xb3n no podr\\xc3\\xa1 alterar los qu\\xc3\\xb3rum ni procedimientos para su funcionamiento y para la adopci\\xc3\\xb3n de acuerdos. La Convenci\\xc3\\xb3n deber\\xc3\\xa1 constituir una secretar\\xc3\\xada t\\xc3\\xa9cnica, la que ser\\xc3\\xa1 conformada por personas de comprobada idoneidad acad\\xc3\\xa9mica o profesional. Corresponder\\xc3\\xa1 al Presidente de la Rep\\xc3\\xbablica, o a los \\xc3\\xb3rganos que \\xc3\\xa9ste determine, prestar el apoyo t\\xc3\\xa9cnico, administrativo y financiero que sea necesario para la instalaci\\xc3\\xb3n y funcionamiento de la Convenci\\xc3\\xb3n.\",27 de agosto de 2020,Ley N\\xc2\\xba 21.257\\r\\nCap\\xc3\\xadtulo XV, Reforma de la Constituci\\xc3\\xb3n y del Procedimiento para Elaborar una Nueva Constituci\\xc3\\xb3n de la Rep\\xc3\\xbablica,134,\" Del estatuto de los Convencionales Constituyentes. A los integrantes de la Convenci\\xc3\\xb3n les ser\\xc3\\xa1 aplicable lo establecido en los art\\xc3\\xadculos 51, con excepci\\xc3\\xb3n de los incisos primero y segundo; 58, 59, 60 y 61. A contar de la proclamaci\\xc3\\xb3n del Tribunal Calificador de Elecciones, los funcionarios p\\xc3\\xbablicos, con excepci\\xc3\\xb3n de los mencionados en el inciso tercero del art\\xc3\\xadculo 132, as\\xc3\\xad como los trabajadores de las empresas del Estado, podr\\xc3\\xa1n hacer uso de un permiso sin goce de remuneraciones mientras sirvan a la Convenci\\xc3\\xb3n, en cuyo caso no les ser\\xc3\\xa1n aplicables lo se\\xc3\\xb1alado en el inciso primero del art\\xc3\\xadculo 58 de la Constituci\\xc3\\xb3n. Los Convencionales Constituyentes estar\\xc3\\xa1n afectos a las normas de la ley N 20.880, sobre probidad en la funci\\xc3\\xb3n p\\xc3\\xbablica y prevenci\\xc3\\xb3n de los conflictos de inter\\xc3\\xa9s, aplicables a los diputados, y a la ley N 20.730, que regula el lobby y las gestiones que representen intereses particulares ante las autoridades y funcionarios. Ser\\xc3\\xa1n compatibles los cargos de parlamentario e integrantes de la Convenci\\xc3\\xb3n Mixta Constitucional. Los diputados y senadores que integren esta convenci\\xc3\\xb3n quedar\\xc3\\xa1n eximidos de su obligaci\\xc3\\xb3n de asistir a las sesiones de sala y comisi\\xc3\\xb3n del Congreso durante el per\\xc3\\xadodo en que \\xc3\\xa9sta se mantenga en funcionamiento. El Congreso Nacional podr\\xc3\\xa1 incorporar medidas de organizaci\\xc3\\xb3n para un adecuado trabajo legislativo mientras la Convenci\\xc3\\xb3n Mixta Constitucional se encuentre en funcionamiento. Los integrantes de la Convenci\\xc3\\xb3n, con excepci\\xc3\\xb3n de los parlamentarios que la integren, recibir\\xc3\\xa1n una retribuci\\xc3\\xb3n mensual de 50 unidades tributarias mensuales, adem\\xc3\\xa1s de las asignaciones que se establezcan en el Reglamento de la Convenci\\xc3\\xb3n. Dichas asignaciones ser\\xc3\\xa1n administradas por un comit\\xc3\\xa9 externo que determine el mismo Reglamento.\",27 de agosto de 2020,Ley N\\xc2\\xba 21.257\\r\\nCap\\xc3\\xadtulo XV, Reforma de la Constituci\\xc3\\xb3n y del Procedimiento para Elaborar una Nueva Constituci\\xc3\\xb3n de la Rep\\xc3\\xbablica,135,\" Disposiciones especiales. La Convenci\\xc3\\xb3n no podr\\xc3\\xa1 intervenir ni ejercer ninguna otra funci\\xc3\\xb3n o atribuci\\xc3\\xb3n de otros \\xc3\\xb3rganos o autoridades establecidas en esta Constituci\\xc3\\xb3n o en las leyes. Mientras no entre en vigencia la Nueva Constituci\\xc3\\xb3n en la forma establecida en este ep\\xc3\\xadgrafe, esta Constituci\\xc3\\xb3n seguir\\xc3\\xa1 plenamente vigente, sin que pueda la Convenci\\xc3\\xb3n negarle autoridad o modificarla. En conformidad al art\\xc3\\xadculo 5, inciso primero, de la Constituci\\xc3\\xb3n, mientras la Convenci\\xc3\\xb3n est\\xc3\\xa9 en funciones la soberan\\xc3\\xada reside esencialmente en la Naci\\xc3\\xb3n y es ejercida por el pueblo a trav\\xc3\\xa9s de los plebiscitos y elecciones peri\\xc3\\xb3dicas que la Constituci\\xc3\\xb3n y las leyes determinan y, tambi\\xc3\\xa9n, por las autoridades que esta Constituci\\xc3\\xb3n establece. Le quedar\\xc3\\xa1 prohibido a la Convenci\\xc3\\xb3n, a cualquiera de sus integrantes o a una fracci\\xc3\\xb3n de ellos, atribuirse el ejercicio de la soberan\\xc3\\xada, asumiendo otras atribuciones que las que expresamente le reconoce esta Constituci\\xc3\\xb3n. El texto de Nueva Constituci\\xc3\\xb3n que se someta a plebiscito deber\\xc3\\xa1 respetar el car\\xc3\\xa1cter de Rep\\xc3\\xbablica del Estado de Chile, su r\\xc3\\xa9gimen democr\\xc3\\xa1tico, las sentencias judiciales firmes y ejecutoriadas y los tratados internacionales ratificados por Chile y que se encuentren vigentes.\",27 de agosto de 2020,Ley N\\xc2\\xba 21.257\\r\\nCap\\xc3\\xadtulo XV, Reforma de la Constituci\\xc3\\xb3n y del Procedimiento para Elaborar una Nueva Constituci\\xc3\\xb3n de la Rep\\xc3\\xbablica,136,\" De la reclamaci\\xc3\\xb3n. Se podr\\xc3\\xa1 reclamar de una infracci\\xc3\\xb3n a las reglas de procedimiento aplicables a la Convenci\\xc3\\xb3n, contenidas en este ep\\xc3\\xadgrafe y de aquellas de procedimiento que emanen de los acuerdos de car\\xc3\\xa1cter general de la propia Convenci\\xc3\\xb3n. En ning\\xc3\\xban caso se podr\\xc3\\xa1 reclamar sobre el contenido de los textos en elaboraci\\xc3\\xb3n. Conocer\\xc3\\xa1n de esta reclamaci\\xc3\\xb3n cinco ministros de la Corte Suprema, elegidos por sorteo por la misma Corte para cada cuesti\\xc3\\xb3n planteada. La reclamaci\\xc3\\xb3n deber\\xc3\\xa1 ser suscrita por al menos un cuarto de los miembros en ejercicio de la Convenci\\xc3\\xb3n y se interpondr\\xc3\\xa1 ante la Corte Suprema, dentro del plazo de cinco d\\xc3\\xadas desde que se tom\\xc3\\xb3 conocimiento del vicio alegado. La reclamaci\\xc3\\xb3n deber\\xc3\\xa1 indicar el vicio que se reclama, el que deber\\xc3\\xa1 ser esencial, y el perjuicio que causa. El procedimiento para el conocimiento y resoluci\\xc3\\xb3n de las reclamaciones ser\\xc3\\xa1 establecido en un Auto Acordado que adoptar\\xc3\\xa1 la Corte Suprema, el que no podr\\xc3\\xa1 ser objeto del control establecido en art\\xc3\\xadculo 93 n\\xc3\\xbamero 2 de la Constituci\\xc3\\xb3n. La sentencia que acoja la reclamaci\\xc3\\xb3n solo podr\\xc3\\xa1 anular el acto. En todo caso, deber\\xc3\\xa1 resolverse dentro de los diez d\\xc3\\xadas siguientes desde que se entr\\xc3\\xb3 al conocimiento del asunto. Contra las resoluciones de que trata este art\\xc3\\xadculo no se admitir\\xc3\\xa1 acci\\xc3\\xb3n ni recurso alguno. Ninguna autoridad, ni tribunal, podr\\xc3\\xa1n conocer acciones, reclamos o recursos vinculados con las tareas que la Constituci\\xc3\\xb3n le asigna a la Convenci\\xc3\\xb3n, fuera de lo establecido en este art\\xc3\\xadculo. No podr\\xc3\\xa1 interponerse la reclamaci\\xc3\\xb3n a la que se refiere este art\\xc3\\xadculo respecto del inciso final del art\\xc3\\xadculo 135 de la Constituci\\xc3\\xb3n.\",27 de agosto de 2020,Ley N\\xc2\\xba 21.257\\r\\nCap\\xc3\\xadtulo XV, Reforma de la Constituci\\xc3\\xb3n y del Procedimiento para Elaborar una Nueva Constituci\\xc3\\xb3n de la Rep\\xc3\\xbablica,137,\" Pr\\xc3\\xb3rroga del plazo de funcionamiento de la Convenci\\xc3\\xb3n. La Convenci\\xc3\\xb3n deber\\xc3\\xa1 redactar y aprobar una propuesta de texto de Nueva Constituci\\xc3\\xb3n en el plazo m\\xc3\\xa1ximo de nueve meses, contado desde su instalaci\\xc3\\xb3n, el que podr\\xc3\\xa1 prorrogarse, por una sola vez, por tres meses. La mencionada pr\\xc3\\xb3rroga podr\\xc3\\xa1 ser solicitada por quien ejerza la Presidencia de la Convenci\\xc3\\xb3n o por un tercio de sus miembros, con una anticipaci\\xc3\\xb3n no superior a quince d\\xc3\\xadas ni posterior a los cinco d\\xc3\\xadas previos al vencimiento del plazo de nueve meses. Presentada la solicitud, se citar\\xc3\\xa1 inmediatamente a sesi\\xc3\\xb3n especial, en la cual la Presidencia deber\\xc3\\xa1 dar cuenta p\\xc3\\xbablica de los avances en la elaboraci\\xc3\\xb3n de la propuesta de texto de Nueva Constituci\\xc3\\xb3n, con lo cual se entender\\xc3\\xa1 prorrogado el plazo sin m\\xc3\\xa1s tr\\xc3\\xa1mite. De todas estas circunstancias deber\\xc3\\xa1 quedar constancia en el acta respectiva. El plazo de pr\\xc3\\xb3rroga comenzar\\xc3\\xa1 a correr el d\\xc3\\xada siguiente a aquel en que venza el plazo original. Una vez redactada y aprobada la propuesta de texto de Nueva Constituci\\xc3\\xb3n por la Convenci\\xc3\\xb3n, o vencido el plazo o su pr\\xc3\\xb3rroga, la Convenci\\xc3\\xb3n se disolver\\xc3\\xa1 de pleno derecho.\",27 de agosto de 2020,Ley N\\xc2\\xba 21.257\\r\\nCap\\xc3\\xadtulo XV, Reforma de la Constituci\\xc3\\xb3n y del Procedimiento para Elaborar una Nueva Constituci\\xc3\\xb3n de la Rep\\xc3\\xbablica,138,\" De las normas transitorias. La Convenci\\xc3\\xb3n podr\\xc3\\xa1 establecer disposiciones especiales de entrada en vigencia de alguna de las normas o cap\\xc3\\xadtulos de la Nueva Constituci\\xc3\\xb3n. La Nueva Constituci\\xc3\\xb3n no podr\\xc3\\xa1 poner t\\xc3\\xa9rmino anticipado al per\\xc3\\xadodo de las autoridades electas en votaci\\xc3\\xb3n popular, salvo que aquellas instituciones que integran sean suprimidas u objeto de una modificaci\\xc3\\xb3n sustancial. La Nueva Constituci\\xc3\\xb3n deber\\xc3\\xa1 establecer el modo en que las otras autoridades que esta Constituci\\xc3\\xb3n establece cesar\\xc3\\xa1n o continuar\\xc3\\xa1n en sus funciones.\",27 de agosto de 2020,Ley N\\xc2\\xba 21.257\\r\\nCap\\xc3\\xadtulo XV, Reforma de la Constituci\\xc3\\xb3n y del Procedimiento para Elaborar una Nueva Constituci\\xc3\\xb3n de la Rep\\xc3\\xbablica,139,\" De la integraci\\xc3\\xb3n de la Convenci\\xc3\\xb3n Mixta Constitucional. La Convenci\\xc3\\xb3n Mixta Constitucional estar\\xc3\\xa1 integrada por 172 miembros, de los cuales 86 corresponder\\xc3\\xa1n a ciudadanos electos especialmente para estos efectos y 86 parlamentarios que ser\\xc3\\xa1n elegidos por el Congreso Pleno, conformado por todos los senadores y diputados en ejercicio, los que podr\\xc3\\xa1n presentar listas o pactos electorales, y se elegir\\xc3\\xa1n de acuerdo al sistema establecido en el art\\xc3\\xadculo 121 del decreto con fuerza de ley N 2, del a\\xc3\\xb1o 2017, del Ministerio Secretar\\xc3\\xada General de la Presidencia, que fija el texto refundido, coordinado y sistematizado de la ley N 18.700, org\\xc3\\xa1nica constitucional sobre Votaciones Populares y Escrutinios, en lo que refiere a la elecci\\xc3\\xb3n de diputados.\",27 de agosto de 2020,Ley N\\xc2\\xba 21.257\\r\\nCap\\xc3\\xadtulo XV, Reforma de la Constituci\\xc3\\xb3n y del Procedimiento para Elaborar una Nueva Constituci\\xc3\\xb3n de la Rep\\xc3\\xbablica,140,\" Del sistema electoral de la Convenci\\xc3\\xb3n Mixta Constitucional. En el caso de los Convencionales Constituyentes no parlamentarios, estos ser\\xc3\\xa1n elegidos de acuerdo a las reglas consagradas en el art\\xc3\\xadculo 121 del decreto con fuerza de ley N 2, del a\\xc3\\xb1o 2017, del Ministerio Secretar\\xc3\\xada General de la Presidencia, que fija el texto refundido, coordinado y sistematizado de la ley N 18.700, org\\xc3\\xa1nica constitucional sobre Votaciones Populares y Escrutinios, en su texto vigente al 25 de junio del 2020 y ser\\xc3\\xa1n aplicables los art\\xc3\\xadculos 187 y 188 del mismo cuerpo legal, con las siguientes modificaciones: Distrito 1 que elegir\\xc3\\xa1 2 Convencionales Constituyentes; Distrito 2 que elegir\\xc3\\xa1 2 Convencionales Constituyentes; Distrito 3 que elegir\\xc3\\xa1 3 Convencionales Constituyentes; Distrito 4 que elegir\\xc3\\xa1 3 Convencionales Constituyentes; Distrito 5 que elegir\\xc3\\xa1 4 Convencionales Constituyentes; Distrito 6 que elegir\\xc3\\xa1 4 Convencionales Constituyentes; Distrito 7 que elegir\\xc3\\xa1 4 Convencionales Constituyentes; Distrito 8 que elegir\\xc3\\xa1 4 Convencionales Constituyentes; Distrito 9 que elegir\\xc3\\xa1 4 Convencionales Constituyentes; Distrito 10 que elegir\\xc3\\xa1 4 Convencionales Constituyentes; Distrito 11 que elegir\\xc3\\xa1 3 Convencionales Constituyentes; Distrito 12 que elegir\\xc3\\xa1 4 Convencionales Constituyentes; Distrito 13 que elegir\\xc3\\xa1 3 Convencionales Constituyentes; Distrito 14 que elegir\\xc3\\xa1 3 Convencionales Constituyentes; Distrito 15 que elegir\\xc3\\xa1 3 Convencionales Constituyentes; Distrito 16 que elegir\\xc3\\xa1 2 Convencionales Constituyentes; Distrito 17 que elegir\\xc3\\xa1 4 Convencionales Constituyentes; Distrito 18 que elegir\\xc3\\xa1 2 Convencionales Constituyentes; Distrito 19 que elegir\\xc3\\xa1 3 Convencionales Constituyentes; Distrito 20 que elegir\\xc3\\xa1 4 Convencionales Constituyentes; Distrito 21 que elegir\\xc3\\xa1 3 Convencionales Constituyentes; Distrito 22 que elegir\\xc3\\xa1 2 Convencionales Constituyentes; Distrito 23 que elegir\\xc3\\xa1 4 Convencionales Constituyentes; Distrito 24 que elegir\\xc3\\xa1 3 Convencionales Constituyentes; Distrito 25 que elegir\\xc3\\xa1 2 Convencionales Constituyentes; Distrito 26 que elegir\\xc3\\xa1 3 Convencionales Constituyentes; Distrito 27 que elegir\\xc3\\xa1 2 Convencionales Constituyentes; y Distrito 28 que elegir\\xc3\\xa1 2 Convencionales Constituyentes.\",27 de agosto de 2020,Ley N\\xc2\\xba 21.257\\r\\nCap\\xc3\\xadtulo XV, Reforma de la Constituci\\xc3\\xb3n y del Procedimiento para Elaborar una Nueva Constituci\\xc3\\xb3n de la Rep\\xc3\\xbablica,141,\" De la integraci\\xc3\\xb3n de la Convenci\\xc3\\xb3n Constitucional. La Convenci\\xc3\\xb3n Constitucional estar\\xc3\\xa1 integrada por 155 ciudadanos electos especialmente para estos efectos. Para ello, se considerar\\xc3\\xa1n los distritos electorales establecidos en los art\\xc3\\xadculos 187 y 188, y el sistema electoral descrito en el art\\xc3\\xadculo 121, todos del decreto con fuerza de ley N 2, del a\\xc3\\xb1o 2017, del Ministerio Secretar\\xc3\\xada General de la Presidencia, que fija el texto refundido, coordinado y sistematizado de la ley N 18.700, org\\xc3\\xa1nica constitucional sobre Votaciones Populares y Escrutinios, en lo que se refiere a la elecci\\xc3\\xb3n de diputados, a su texto vigente al 25 de junio del 2020. Los integrantes de la Convenci\\xc3\\xb3n Constitucional no podr\\xc3\\xa1n ser candidatos a cargos de elecci\\xc3\\xb3n popular mientras ejercen sus funciones y hasta un a\\xc3\\xb1o despu\\xc3\\xa9s de que cesen en sus cargos en la Convenci\\xc3\\xb3n.\",27 de agosto de 2020,Ley N\\xc2\\xba 21.257\\r\\nCap\\xc3\\xadtulo XV, Reforma de la Constituci\\xc3\\xb3n y del Procedimiento para Elaborar una Nueva Constituci\\xc3\\xb3n de la Rep\\xc3\\xbablica,142,\" Del Plebiscito Constitucional. Comunicada al Presidente de la Rep\\xc3\\xbablica la propuesta de texto constitucional aprobada por la Convenci\\xc3\\xb3n, \\xc3\\xa9ste deber\\xc3\\xa1 convocar dentro de los tres d\\xc3\\xadas siguientes a dicha comunicaci\\xc3\\xb3n, mediante decreto supremo exento, a un plebiscito nacional constitucional para que la ciudadan\\xc3\\xada apruebe o rechace la propuesta. El sufragio en este plebiscito ser\\xc3\\xa1 obligatorio para quienes tengan domicilio electoral en Chile. El ciudadano que no sufragare ser\\xc3\\xa1 penado con una multa a beneficio municipal de 0,5 a 3 unidades tributarias mensuales. No incurrir\\xc3\\xa1 en esta sanci\\xc3\\xb3n el ciudadano que haya dejado de cumplir su obligaci\\xc3\\xb3n por enfermedad, ausencia del pa\\xc3\\xads, encontrarse el d\\xc3\\xada del plebiscito en un lugar situado a m\\xc3\\xa1s de doscientos kil\\xc3\\xb3metros de aqu\\xc3\\xa9l en que se encontrare registrado su domicilio electoral o por otro impedimento grave, debidamente comprobado ante el juez competente, quien apreciar\\xc3\\xa1 la prueba de acuerdo a las reglas de la sana cr\\xc3\\xadtica. Las personas que durante la realizaci\\xc3\\xb3n del plebiscito nacional constitucional desempe\\xc3\\xb1en funciones que encomienda el decreto con fuerza de ley N 2, del a\\xc3\\xb1o 2017, del Ministerio Secretar\\xc3\\xada General de la Presidencia, que fija el texto refundido, coordinado y sistematizado de la ley N 18.700, org\\xc3\\xa1nica constitucional sobre Votaciones Populares y Escrutinios, se eximir\\xc3\\xa1n de la sanci\\xc3\\xb3n establecida en el presente art\\xc3\\xadculo remitiendo al juez competente un certificado que acredite esta circunstancia. El conocimiento de la infracci\\xc3\\xb3n se\\xc3\\xb1alada corresponder\\xc3\\xa1 al juez de polic\\xc3\\xada local de la comuna donde se cometieron tales infracciones, de acuerdo con el procedimiento establecido en la ley N 18.287. En el plebiscito se\\xc3\\xb1alado, la ciudadan\\xc3\\xada dispondr\\xc3\\xa1 de una c\\xc3\\xa9dula electoral que contendr\\xc3\\xa1 la siguiente pregunta, seg\\xc3\\xban corresponda a la Convenci\\xc3\\xb3n que haya propuesto el texto: \"\"\\xc2\\xbfAprueba usted el texto de Nueva Constituci\\xc3\\xb3n propuesto por la Convenci\\xc3\\xb3n Mixta Constitucional?\"\" o \"\"\\xc2\\xbfAprueba usted el texto de Nueva Constituci\\xc3\\xb3n propuesto por la Convenci\\xc3\\xb3n Constitucional?\"\". Bajo la cuesti\\xc3\\xb3n planteada habr\\xc3\\xa1 dos rayas horizontales, una al lado de la otra. La primera de ellas, tendr\\xc3\\xa1 en su parte inferior la expresi\\xc3\\xb3n \"\"Apruebo\"\" y la segunda, la palabra \"\"Rechazo\"\", a fin de que el elector pueda marcar su preferencia sobre una de las alternativas. Este plebiscito deber\\xc3\\xa1 celebrarse sesenta d\\xc3\\xadas despu\\xc3\\xa9s de la publicaci\\xc3\\xb3n en el Diario Oficial del decreto supremo a que hace referencia el inciso primero, si ese d\\xc3\\xada fuese domingo, o el domingo inmediatamente siguiente. Con todo, si en conformidad a las reglas anteriores la fechadel plebiscito se encuentra en el lapso entre sesenta d\\xc3\\xadas antes o despu\\xc3\\xa9s de una votaci\\xc3\\xb3n popular de aquellas a que hacen referencia los art\\xc3\\xadculos 26, 47 y 49 de la Constituci\\xc3\\xb3n, el d\\xc3\\xada del plebiscito se retrasar\\xc3\\xa1 hasta el domingo posterior inmediatamente siguiente. Si, como resultado de la aplicaci\\xc3\\xb3n de la regla precedente, el plebiscito cayere en el mes de enero o febrero, el plebiscito se celebrar\\xc3\\xa1 el primer domingo del mes de marzo. El proceso de calificaci\\xc3\\xb3n del plebiscito nacional deber\\xc3\\xa1 quedar concluido dentro de los treinta d\\xc3\\xadas siguientes a la fecha de \\xc3\\xa9ste. La sentencia de proclamaci\\xc3\\xb3n del plebiscito ser\\xc3\\xa1 comunicada dentro de los tres d\\xc3\\xadas siguientes de su dictaci\\xc3\\xb3n al Presidente de la Rep\\xc3\\xbablica y al Congreso Nacional. Si la cuesti\\xc3\\xb3n planteada a la ciudadan\\xc3\\xada en el plebiscito nacional constitucional fuere aprobada, el Presidente de la Rep\\xc3\\xbablica deber\\xc3\\xa1, dentro de los cinco d\\xc3\\xadas siguientes a la comunicaci\\xc3\\xb3n de la sentencia referida en el inciso anterior, convocar al Congreso Pleno para que, en un acto p\\xc3\\xbablico y solemne, se promulgue y se jure o prometa respetar y acatar la Nueva Constituci\\xc3\\xb3n Pol\\xc3\\xadtica de la Rep\\xc3\\xbablica. Dicho texto ser\\xc3\\xa1 publicado en el Diario Oficial dentro de los diez d\\xc3\\xadas siguientes a su promulgaci\\xc3\\xb3n y entrar\\xc3\\xa1 en vigencia en dicha fecha. A partir de esta fecha, quedar\\xc3\\xa1 derogada la presente Constituci\\xc3\\xb3n Pol\\xc3\\xadtica de la Rep\\xc3\\xbablica, cuyo texto refundido, coordinado y sistematizado se encuentra establecido en el decreto supremo N 100, de 17 de septiembre de 2005. La Constituci\\xc3\\xb3n deber\\xc3\\xa1 imprimirse y repartirse gratuitamente a todos los establecimientos educacionales, p\\xc3\\xbablicos o privados; bibliotecas municipales, universidades y \\xc3\\xb3rganos del Estado. Los jueces y magistrados de los tribunales superiores de justicia deber\\xc3\\xa1n recibir un ejemplar de la Constituci\\xc3\\xb3n. Si la cuesti\\xc3\\xb3n planteada a la ciudadan\\xc3\\xada en el plebiscito ratificatorio fuere rechazada, continuar\\xc3\\xa1 vigente la presente Constituci\\xc3\\xb3n.\",27 de agosto de 2020,Ley N\\xc2\\xba 21.257\\r\\nCap\\xc3\\xadtulo XV, Reforma de la Constituci\\xc3\\xb3n y del Procedimiento para Elaborar una Nueva Constituci\\xc3\\xb3n de la Rep\\xc3\\xbablica,143, Remisi\\xc3\\xb3n. Al plebiscito constitucional le ser\\xc3\\xa1 aplicable lo dispuesto en los incisos cuarto a sexto del art\\xc3\\xadculo 130.,27 de agosto de 2020,Ley N\\xc2\\xba 21.257\\r\\n'}"
            ]
          },
          "metadata": {
            "tags": []
          },
          "execution_count": 12
        }
      ]
    },
    {
      "cell_type": "code",
      "metadata": {
        "id": "v6uxlxUh7lid",
        "outputId": "bedb4d2f-c4fd-421a-f127-823b32b5acc1",
        "colab": {
          "base_uri": "https://localhost:8080/",
          "height": 87
        }
      },
      "source": [
        "!pip install textwrap3\n",
        "import pandas as pd \n",
        "import torch\n",
        "from transformers import AutoTokenizer, AutoModelForQuestionAnswering, pipeline"
      ],
      "execution_count": null,
      "outputs": [
        {
          "output_type": "stream",
          "text": [
            "Collecting textwrap3\n",
            "  Downloading https://files.pythonhosted.org/packages/77/9c/a53e561d496ee5866bbeea4d3a850b3b545ed854f8a21007c1e0d872e94d/textwrap3-0.9.2-py2.py3-none-any.whl\n",
            "Installing collected packages: textwrap3\n",
            "Successfully installed textwrap3-0.9.2\n"
          ],
          "name": "stdout"
        }
      ]
    },
    {
      "cell_type": "code",
      "metadata": {
        "id": "zJHDXKte7sp2"
      },
      "source": [
        "df = pd.read_csv('constitucion.csv')"
      ],
      "execution_count": null,
      "outputs": []
    },
    {
      "cell_type": "code",
      "metadata": {
        "id": "gjp0FlLX7wyn",
        "outputId": "6d1fe988-48e7-4361-cb10-08111883b6ed",
        "colab": {
          "base_uri": "https://localhost:8080/",
          "height": 197
        }
      },
      "source": [
        "df.head()"
      ],
      "execution_count": null,
      "outputs": [
        {
          "output_type": "execute_result",
          "data": {
            "text/html": [
              "<div>\n",
              "<style scoped>\n",
              "    .dataframe tbody tr th:only-of-type {\n",
              "        vertical-align: middle;\n",
              "    }\n",
              "\n",
              "    .dataframe tbody tr th {\n",
              "        vertical-align: top;\n",
              "    }\n",
              "\n",
              "    .dataframe thead th {\n",
              "        text-align: right;\n",
              "    }\n",
              "</style>\n",
              "<table border=\"1\" class=\"dataframe\">\n",
              "  <thead>\n",
              "    <tr style=\"text-align: right;\">\n",
              "      <th></th>\n",
              "      <th>chapter</th>\n",
              "      <th>name_chapter</th>\n",
              "      <th>number_article</th>\n",
              "      <th>article</th>\n",
              "      <th>last_update</th>\n",
              "      <th>law_update</th>\n",
              "    </tr>\n",
              "  </thead>\n",
              "  <tbody>\n",
              "    <tr>\n",
              "      <th>0</th>\n",
              "      <td>Capítulo I</td>\n",
              "      <td>Bases De La Institucionalidad</td>\n",
              "      <td>1</td>\n",
              "      <td>Las personas nacen libres e iguales en dignida...</td>\n",
              "      <td>27 de agosto de 2020</td>\n",
              "      <td>Ley Nº 21.257</td>\n",
              "    </tr>\n",
              "    <tr>\n",
              "      <th>1</th>\n",
              "      <td>Capítulo I</td>\n",
              "      <td>Bases De La Institucionalidad</td>\n",
              "      <td>2</td>\n",
              "      <td>Son emblemas nacionales la bandera nacional, e...</td>\n",
              "      <td>27 de agosto de 2020</td>\n",
              "      <td>Ley Nº 21.257</td>\n",
              "    </tr>\n",
              "    <tr>\n",
              "      <th>2</th>\n",
              "      <td>Capítulo I</td>\n",
              "      <td>Bases De La Institucionalidad</td>\n",
              "      <td>3</td>\n",
              "      <td>El Estado de Chile es unitario. La administrac...</td>\n",
              "      <td>27 de agosto de 2020</td>\n",
              "      <td>Ley Nº 21.257</td>\n",
              "    </tr>\n",
              "    <tr>\n",
              "      <th>3</th>\n",
              "      <td>Capítulo I</td>\n",
              "      <td>Bases De La Institucionalidad</td>\n",
              "      <td>4</td>\n",
              "      <td>Chile es una república democrática.</td>\n",
              "      <td>27 de agosto de 2020</td>\n",
              "      <td>Ley Nº 21.257</td>\n",
              "    </tr>\n",
              "    <tr>\n",
              "      <th>4</th>\n",
              "      <td>Capítulo I</td>\n",
              "      <td>Bases De La Institucionalidad</td>\n",
              "      <td>5</td>\n",
              "      <td>La soberanía reside esencialmente en la Nación...</td>\n",
              "      <td>27 de agosto de 2020</td>\n",
              "      <td>Ley Nº 21.257</td>\n",
              "    </tr>\n",
              "  </tbody>\n",
              "</table>\n",
              "</div>"
            ],
            "text/plain": [
              "      chapter  ...     law_update\n",
              "0  Capítulo I  ...  Ley Nº 21.257\n",
              "1  Capítulo I  ...  Ley Nº 21.257\n",
              "2  Capítulo I  ...  Ley Nº 21.257\n",
              "3  Capítulo I  ...  Ley Nº 21.257\n",
              "4  Capítulo I  ...  Ley Nº 21.257\n",
              "\n",
              "[5 rows x 6 columns]"
            ]
          },
          "metadata": {
            "tags": []
          },
          "execution_count": 17
        }
      ]
    },
    {
      "cell_type": "code",
      "metadata": {
        "id": "aIsYumoZ7xW7",
        "outputId": "df81fbb7-7642-4dfd-ff18-cb4443fa80b0",
        "colab": {
          "base_uri": "https://localhost:8080/",
          "height": 265,
          "referenced_widgets": [
            "da9f0b3eebb94f77a26ce45e03e76ac3",
            "584ee1da4d9843fa9ba172b5bb0217dd",
            "7bb0f7defac847f2891acfda025aee09",
            "a0a2bc81a53c41f082328fb8ea3c40c0",
            "9be36fd88a8346269c72a3b55aba1d5b",
            "7fc71fbe1d4346ce8ecc46530144b161",
            "62036e877add4428b08be1a3ef5acaea",
            "d560d79cc177496c9818098c0bdc4d39",
            "20a7a152160b478fb8b4a2c3591e6c5d",
            "bdbd4964fbf148549dc672928b575463",
            "28829ae079b94e82be6abc14a41e0dee",
            "1bb2970cef934aa89595e60bf380d49b",
            "943b161e679e4d61a2e9aca4f2310d45",
            "64bef1aa330948fbbe74e97f60db0721",
            "8d6bfe61b0314f0397ffdd49c3205abe",
            "b23358341f9947faa1fb9af6c467e351",
            "e3e1bd1692f348fd92d75ff4d6b037ce",
            "8fc24c5f908340eaac73f82066e4d511",
            "3a8e30fa084c4c319d21a372d75ca480",
            "772c10bd573642efb87b620acbe03cab",
            "eed51912fdc2445187f16b0924570cce",
            "2e8fff9cfd0b4ee2a2784268e6722744",
            "e8e1730f59db4a45b9798bf55889cf40",
            "00317b3719c24c4ea984cd6325ab2ebc",
            "26d9707bae3a47a1b04b3d9453bc215f",
            "828f9413ebe24be8b7f1df583fbdf4d6",
            "20bc495174d54948a557192faef2990d",
            "824c0b7c094041d18ff759824fc37d79",
            "b7c89daa8a8245bda6587ea3fcf8662b",
            "b53977e7e27b4796ab2645dd0ea0de2e",
            "302bd340ce9f47d4b94f275db02ed85f",
            "cf828030b8474af8aea1726c38102176",
            "7d6c419f7c8a4bbc9c63f6d7bb85fd05",
            "4f10e96b79f743309ea781d602fa86c0",
            "3dbe9ccbcd57477894be64882945c304",
            "f2789f8c61a2410f8eb94f35cfedde82",
            "81a8749f0e784445b4cd07a8d7fa5786",
            "5c11390f854541fc8c5f9b10fd48ea8e",
            "4a77200cd0124a4ea899be71eabf6e61",
            "358ebd34440c4202993c8b5c4723b471"
          ]
        }
      },
      "source": [
        "model_name = 'mrm8488/bert-base-spanish-wwm-cased-finetuned-spa-squad2-es'\n",
        "tokenizer = AutoTokenizer.from_pretrained(model_name, do_lower_case=False)\n",
        "model = AutoModelForQuestionAnswering.from_pretrained(model_name)"
      ],
      "execution_count": null,
      "outputs": [
        {
          "output_type": "display_data",
          "data": {
            "application/vnd.jupyter.widget-view+json": {
              "model_id": "da9f0b3eebb94f77a26ce45e03e76ac3",
              "version_minor": 0,
              "version_major": 2
            },
            "text/plain": [
              "HBox(children=(FloatProgress(value=0.0, description='Downloading', max=465.0, style=ProgressStyle(description_…"
            ]
          },
          "metadata": {
            "tags": []
          }
        },
        {
          "output_type": "stream",
          "text": [
            "\n"
          ],
          "name": "stdout"
        },
        {
          "output_type": "display_data",
          "data": {
            "application/vnd.jupyter.widget-view+json": {
              "model_id": "20a7a152160b478fb8b4a2c3591e6c5d",
              "version_minor": 0,
              "version_major": 2
            },
            "text/plain": [
              "HBox(children=(FloatProgress(value=0.0, description='Downloading', max=242349.0, style=ProgressStyle(descripti…"
            ]
          },
          "metadata": {
            "tags": []
          }
        },
        {
          "output_type": "stream",
          "text": [
            "\n"
          ],
          "name": "stdout"
        },
        {
          "output_type": "display_data",
          "data": {
            "application/vnd.jupyter.widget-view+json": {
              "model_id": "e3e1bd1692f348fd92d75ff4d6b037ce",
              "version_minor": 0,
              "version_major": 2
            },
            "text/plain": [
              "HBox(children=(FloatProgress(value=0.0, description='Downloading', max=112.0, style=ProgressStyle(description_…"
            ]
          },
          "metadata": {
            "tags": []
          }
        },
        {
          "output_type": "stream",
          "text": [
            "\n"
          ],
          "name": "stdout"
        },
        {
          "output_type": "display_data",
          "data": {
            "application/vnd.jupyter.widget-view+json": {
              "model_id": "26d9707bae3a47a1b04b3d9453bc215f",
              "version_minor": 0,
              "version_major": 2
            },
            "text/plain": [
              "HBox(children=(FloatProgress(value=0.0, description='Downloading', max=135.0, style=ProgressStyle(description_…"
            ]
          },
          "metadata": {
            "tags": []
          }
        },
        {
          "output_type": "stream",
          "text": [
            "\n"
          ],
          "name": "stdout"
        },
        {
          "output_type": "display_data",
          "data": {
            "application/vnd.jupyter.widget-view+json": {
              "model_id": "7d6c419f7c8a4bbc9c63f6d7bb85fd05",
              "version_minor": 0,
              "version_major": 2
            },
            "text/plain": [
              "HBox(children=(FloatProgress(value=0.0, description='Downloading', max=439457908.0, style=ProgressStyle(descri…"
            ]
          },
          "metadata": {
            "tags": []
          }
        },
        {
          "output_type": "stream",
          "text": [
            "\n"
          ],
          "name": "stdout"
        }
      ]
    },
    {
      "cell_type": "code",
      "metadata": {
        "id": "XZf7zPgv9FF9"
      },
      "source": [
        "chapter_df = df[df.chapter.isin(['Capítulo I'])]\n",
        "pregunta = '¿Cuales son los emblemas nacionales?'\n",
        "corpus = \" \".join(article for article in chapter_df.article.tolist())\n",
        "\n",
        "encode = tokenizer.encode_plus(pregunta, corpus,return_tensors='pt')\n",
        "input_ids = encode['input_ids'].tolist()\n",
        "tokens = tokenizer.convert_ids_to_tokens(input_ids[0])"
      ],
      "execution_count": null,
      "outputs": []
    },
    {
      "cell_type": "code",
      "metadata": {
        "id": "BulP8d4-CSd7",
        "outputId": "f2a1baa3-c356-4110-819c-666e86761e44",
        "colab": {
          "base_uri": "https://localhost:8080/",
          "height": 124
        }
      },
      "source": [
        "corpus"
      ],
      "execution_count": null,
      "outputs": [
        {
          "output_type": "execute_result",
          "data": {
            "application/vnd.google.colaboratory.intrinsic+json": {
              "type": "string"
            },
            "text/plain": [
              "'Las personas nacen libres e iguales en dignidad y derechos. La familia es el núcleo fundamental de la sociedad. El Estado reconoce y ampara a los grupos intermedios a través de los cuales se organiza y estructura la sociedad y les garantiza la adecuada autonomía para cumplir sus propios fines específicos.  El Estado está al servicio de la persona humana y su finalidad es promover el bien común, para lo cual debe contribuir a crear las condiciones sociales que permitan a todos y a cada uno de los integrantes de la comunidad nacional su mayor realización espiritual y material posible, con pleno respeto a los derechos y garantías que esta Constitución establece. Es deber del Estado resguardar la seguridad nacional, dar protección a la población y a la familia, propender al fortalecimiento de ésta, promover la integración armónica de todos los sectores de la Nación y asegurar el derecho de las personas a participar con igualdad de oportunidades en la vida nacional. Son emblemas nacionales la bandera nacional, el escudo de armas de la República y el himno nacional. El Estado de Chile es unitario. La administración del Estado será funcional y territorialmente descentralizada, o desconcentrada en su caso, de conformidad a la ley. Los órganos del Estado promoverán el fortalecimiento de la regionalización del país y el desarrollo equitativo y solidario entre las regiones, provincias y comunas del territorio nacional. Chile es una república democrática. La soberanía reside esencialmente en la Nación. Su ejercicio se realiza por el pueblo a través del plebiscito y de elecciones periódicas y, también, por las autoridades que esta Constitución establece. Ningún sector del pueblo ni individuo alguno puede atribuirse su ejercicio. El ejercicio de la soberanía reconoce como limitación el respeto a los derechos esenciales que emanan de la naturaleza humana. Es deber de los órganos del Estado respetar y promover tales derechos, garantizados por esta Constitución, así como por los tratados internacionales ratificados por Chile y que se encuentren vigentes. Los órganos del Estado deben someter su acción a la Constitución y a las normas dictadas conforme a ella, y garantizar el orden institucional de la República . Los preceptos de esta Constitución obligan tanto a los titulares o integrantes de dichos órganos como a toda persona, institución o grupo. La infracción de esta norma generará las responsabilidades y sanciones que determine la ley. Los órganos del Estado actúan válidamente previa investidura regular de sus integrantes, dentro de su competencia y en la forma que prescriba la ley. Ninguna magistratura, ninguna persona ni grupo de personas pueden atribuirse, ni aun a pretexto de circunstancias extraordinarias, otra autoridad o derechos que los que expresamente se les hayan conferido en virtud de la Constitución o las leyes. Todo acto en contravención a este artículo es nulo y originará las responsabilidades y sanciones que la ley señale. El ejercicio de las funciones públicas obliga a sus titulares a dar estricto cumplimiento al principio de probidad en todas sus actuaciones. Son públicos los actos y resoluciones de los órganos del Estado, así como sus fundamentos y los procedimientos que utilicen. Sin embargo, sólo una ley de quórum calificado podrá establecer la reserva o secreto de aquéllos o de éstos, cuando la publicidad afectare el debido cumplimiento de las funciones de dichos órganos, los derechos de las personas, la seguridad de la Nación o el interés nacional. El Presidente de la República, los Ministros de Estado, los Diputados y Senadores, y las demás autoridades y funcionarios que una ley orgánica constitucional señale, deberán declarar sus intereses y patrimonio en forma pública. Dicha ley determinará los casos y las condiciones en que esas autoridades delegarán a terceros la administración de aquellos bienes y obligaciones que supongan conflicto de interés en el ejercicio de su función pública. Asimismo, podrá considerar otras medidas apropiadas para resolverlos y, en situaciones calificadas, disponer la enajenación de todo o parte de esos bienes. El terrorismo, en cualquiera de sus formas, es por esencia contrario a los derechos humanos. Una ley de quórum calificado determinará las conductas terroristas y su penalidad. Los responsables de estos delitos quedarán inhabilitados por el plazo de quince años para ejercer f unciones o cargos públicos, sean o no de elección popular, o de rector o director de establecimiento de educación, o para ejercer en ellos funciones de enseñanza ; para explotar un medio de comunicación social o ser director o administrador del mismo, o para desempeñar en él funciones relacionadas con la emisión o difusión de opiniones o informaciones; ni podrán ser dirigentes de organizaciones políticas o relacionadas con la educación o de carácter vecinal, profesional, empresarial, sindical, estudiantil o gremial en general, durante dicho plazo. Lo anterior se entiende sin perjuicio de otras inhabilidades o de las que por mayor tiempo establezca la ley. Los delitos a que se refiere el inciso anterior serán considerados siempre comunes y no políticos para todos los efectos legales y no procederá respecto de ellos el indulto particular, salvo para conmutar la pena de muerte por la de presidio perpetuo.'"
            ]
          },
          "metadata": {
            "tags": []
          },
          "execution_count": 54
        }
      ]
    },
    {
      "cell_type": "code",
      "metadata": {
        "id": "kH0TB8U8_SvT"
      },
      "source": [
        "nlp = pipeline('question-answering',model=model,tokenizer=tokenizer)"
      ],
      "execution_count": null,
      "outputs": []
    },
    {
      "cell_type": "code",
      "metadata": {
        "id": "5KN2GmAN_wwa"
      },
      "source": [
        "\n",
        "def ask_questions(model,corpus,nlp):\n",
        "\n",
        "  print(\"\\nContext:\")\n",
        "  print(\"------------------\")\n",
        "  print(corpus)\n",
        "\n",
        "  keep_going = True\n",
        "  while keep_going == True:\n",
        "    print(\"\\nQuestion: \")\n",
        "    print(\"------------------\")\n",
        "    question = str(input())\n",
        "\n",
        "    keep_going = question!=\"\"\n",
        "\n",
        "    if keep_going:\n",
        "      output = nlp({'question':question ,'context':corpus})\n",
        "      print(\"\\Answer\")\n",
        "      print(\"------------------\")\n",
        "      print(output['answer'])"
      ],
      "execution_count": null,
      "outputs": []
    },
    {
      "cell_type": "code",
      "metadata": {
        "id": "SJDtQmpTA8UJ",
        "outputId": "a40efb4e-550b-4e48-c7fb-86ae561a2792",
        "colab": {
          "base_uri": "https://localhost:8080/",
          "height": 818
        }
      },
      "source": [
        "ask_questions(model,corpus,nlp)"
      ],
      "execution_count": null,
      "outputs": [
        {
          "output_type": "stream",
          "text": [
            "\n",
            "Context:\n",
            "------------------\n",
            "Las personas nacen libres e iguales en dignidad y derechos. La familia es el núcleo fundamental de la sociedad. El Estado reconoce y ampara a los grupos intermedios a través de los cuales se organiza y estructura la sociedad y les garantiza la adecuada autonomía para cumplir sus propios fines específicos.  El Estado está al servicio de la persona humana y su finalidad es promover el bien común, para lo cual debe contribuir a crear las condiciones sociales que permitan a todos y a cada uno de los integrantes de la comunidad nacional su mayor realización espiritual y material posible, con pleno respeto a los derechos y garantías que esta Constitución establece. Es deber del Estado resguardar la seguridad nacional, dar protección a la población y a la familia, propender al fortalecimiento de ésta, promover la integración armónica de todos los sectores de la Nación y asegurar el derecho de las personas a participar con igualdad de oportunidades en la vida nacional. Son emblemas nacionales la bandera nacional, el escudo de armas de la República y el himno nacional. El Estado de Chile es unitario. La administración del Estado será funcional y territorialmente descentralizada, o desconcentrada en su caso, de conformidad a la ley. Los órganos del Estado promoverán el fortalecimiento de la regionalización del país y el desarrollo equitativo y solidario entre las regiones, provincias y comunas del territorio nacional. Chile es una república democrática. La soberanía reside esencialmente en la Nación. Su ejercicio se realiza por el pueblo a través del plebiscito y de elecciones periódicas y, también, por las autoridades que esta Constitución establece. Ningún sector del pueblo ni individuo alguno puede atribuirse su ejercicio. El ejercicio de la soberanía reconoce como limitación el respeto a los derechos esenciales que emanan de la naturaleza humana. Es deber de los órganos del Estado respetar y promover tales derechos, garantizados por esta Constitución, así como por los tratados internacionales ratificados por Chile y que se encuentren vigentes. Los órganos del Estado deben someter su acción a la Constitución y a las normas dictadas conforme a ella, y garantizar el orden institucional de la República . Los preceptos de esta Constitución obligan tanto a los titulares o integrantes de dichos órganos como a toda persona, institución o grupo. La infracción de esta norma generará las responsabilidades y sanciones que determine la ley. Los órganos del Estado actúan válidamente previa investidura regular de sus integrantes, dentro de su competencia y en la forma que prescriba la ley. Ninguna magistratura, ninguna persona ni grupo de personas pueden atribuirse, ni aun a pretexto de circunstancias extraordinarias, otra autoridad o derechos que los que expresamente se les hayan conferido en virtud de la Constitución o las leyes. Todo acto en contravención a este artículo es nulo y originará las responsabilidades y sanciones que la ley señale. El ejercicio de las funciones públicas obliga a sus titulares a dar estricto cumplimiento al principio de probidad en todas sus actuaciones. Son públicos los actos y resoluciones de los órganos del Estado, así como sus fundamentos y los procedimientos que utilicen. Sin embargo, sólo una ley de quórum calificado podrá establecer la reserva o secreto de aquéllos o de éstos, cuando la publicidad afectare el debido cumplimiento de las funciones de dichos órganos, los derechos de las personas, la seguridad de la Nación o el interés nacional. El Presidente de la República, los Ministros de Estado, los Diputados y Senadores, y las demás autoridades y funcionarios que una ley orgánica constitucional señale, deberán declarar sus intereses y patrimonio en forma pública. Dicha ley determinará los casos y las condiciones en que esas autoridades delegarán a terceros la administración de aquellos bienes y obligaciones que supongan conflicto de interés en el ejercicio de su función pública. Asimismo, podrá considerar otras medidas apropiadas para resolverlos y, en situaciones calificadas, disponer la enajenación de todo o parte de esos bienes. El terrorismo, en cualquiera de sus formas, es por esencia contrario a los derechos humanos. Una ley de quórum calificado determinará las conductas terroristas y su penalidad. Los responsables de estos delitos quedarán inhabilitados por el plazo de quince años para ejercer f unciones o cargos públicos, sean o no de elección popular, o de rector o director de establecimiento de educación, o para ejercer en ellos funciones de enseñanza ; para explotar un medio de comunicación social o ser director o administrador del mismo, o para desempeñar en él funciones relacionadas con la emisión o difusión de opiniones o informaciones; ni podrán ser dirigentes de organizaciones políticas o relacionadas con la educación o de carácter vecinal, profesional, empresarial, sindical, estudiantil o gremial en general, durante dicho plazo. Lo anterior se entiende sin perjuicio de otras inhabilidades o de las que por mayor tiempo establezca la ley. Los delitos a que se refiere el inciso anterior serán considerados siempre comunes y no políticos para todos los efectos legales y no procederá respecto de ellos el indulto particular, salvo para conmutar la pena de muerte por la de presidio perpetuo.\n",
            "\n",
            "Question: \n",
            "------------------\n",
            "¿cual es el deber del estado?\n"
          ],
          "name": "stdout"
        },
        {
          "output_type": "stream",
          "text": [
            "/usr/local/lib/python3.6/dist-packages/transformers/tokenization_utils_base.py:1324: FutureWarning: The `max_len` attribute has been deprecated and will be removed in a future version, use `model_max_length` instead.\n",
            "  FutureWarning,\n"
          ],
          "name": "stderr"
        },
        {
          "output_type": "stream",
          "text": [
            "\\Answer\n",
            "------------------\n",
            "resguardar la seguridad nacional,\n",
            "\n",
            "Question: \n",
            "------------------\n",
            "¿cuales son los deberes del estado?\n"
          ],
          "name": "stdout"
        },
        {
          "output_type": "stream",
          "text": [
            "/usr/local/lib/python3.6/dist-packages/transformers/tokenization_utils_base.py:1324: FutureWarning: The `max_len` attribute has been deprecated and will be removed in a future version, use `model_max_length` instead.\n",
            "  FutureWarning,\n"
          ],
          "name": "stderr"
        },
        {
          "output_type": "stream",
          "text": [
            "\\Answer\n",
            "------------------\n",
            "resguardar la seguridad nacional,\n",
            "\n",
            "Question: \n",
            "------------------\n",
            "deberes del estado\n"
          ],
          "name": "stdout"
        },
        {
          "output_type": "stream",
          "text": [
            "/usr/local/lib/python3.6/dist-packages/transformers/tokenization_utils_base.py:1324: FutureWarning: The `max_len` attribute has been deprecated and will be removed in a future version, use `model_max_length` instead.\n",
            "  FutureWarning,\n"
          ],
          "name": "stderr"
        },
        {
          "output_type": "stream",
          "text": [
            "\\Answer\n",
            "------------------\n",
            "Es deber del Estado resguardar la seguridad nacional,\n",
            "\n",
            "Question: \n",
            "------------------\n",
            "que establece la constitucion\n"
          ],
          "name": "stdout"
        },
        {
          "output_type": "stream",
          "text": [
            "/usr/local/lib/python3.6/dist-packages/transformers/tokenization_utils_base.py:1324: FutureWarning: The `max_len` attribute has been deprecated and will be removed in a future version, use `model_max_length` instead.\n",
            "  FutureWarning,\n"
          ],
          "name": "stderr"
        },
        {
          "output_type": "stream",
          "text": [
            "\\Answer\n",
            "------------------\n",
            "esta Constitución establece.\n",
            "\n",
            "Question: \n",
            "------------------\n",
            "\n"
          ],
          "name": "stdout"
        }
      ]
    },
    {
      "cell_type": "code",
      "metadata": {
        "id": "FqImLy-vIzbe"
      },
      "source": [
        ""
      ],
      "execution_count": null,
      "outputs": []
    }
  ]
}